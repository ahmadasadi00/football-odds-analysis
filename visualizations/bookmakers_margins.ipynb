{
 "cells": [
  {
   "cell_type": "code",
   "execution_count": 1,
   "metadata": {},
   "outputs": [
    {
     "data": {
      "text/html": [
       "<div>\n",
       "<style scoped>\n",
       "    .dataframe tbody tr th:only-of-type {\n",
       "        vertical-align: middle;\n",
       "    }\n",
       "\n",
       "    .dataframe tbody tr th {\n",
       "        vertical-align: top;\n",
       "    }\n",
       "\n",
       "    .dataframe thead th {\n",
       "        text-align: right;\n",
       "    }\n",
       "</style>\n",
       "<table border=\"1\" class=\"dataframe\">\n",
       "  <thead>\n",
       "    <tr style=\"text-align: right;\">\n",
       "      <th></th>\n",
       "      <th>League</th>\n",
       "      <th>Year</th>\n",
       "      <th>Average Margin of Games</th>\n",
       "      <th>Bookmaker</th>\n",
       "    </tr>\n",
       "  </thead>\n",
       "  <tbody>\n",
       "    <tr>\n",
       "      <th>0</th>\n",
       "      <td>B1</td>\n",
       "      <td>2005</td>\n",
       "      <td>0.119081</td>\n",
       "      <td>Bet365</td>\n",
       "    </tr>\n",
       "    <tr>\n",
       "      <th>1</th>\n",
       "      <td>B1</td>\n",
       "      <td>2006</td>\n",
       "      <td>0.117174</td>\n",
       "      <td>Bet365</td>\n",
       "    </tr>\n",
       "    <tr>\n",
       "      <th>2</th>\n",
       "      <td>B1</td>\n",
       "      <td>2007</td>\n",
       "      <td>0.111013</td>\n",
       "      <td>Bet365</td>\n",
       "    </tr>\n",
       "    <tr>\n",
       "      <th>3</th>\n",
       "      <td>B1</td>\n",
       "      <td>2008</td>\n",
       "      <td>0.087826</td>\n",
       "      <td>Bet365</td>\n",
       "    </tr>\n",
       "    <tr>\n",
       "      <th>4</th>\n",
       "      <td>B1</td>\n",
       "      <td>2009</td>\n",
       "      <td>0.079723</td>\n",
       "      <td>Bet365</td>\n",
       "    </tr>\n",
       "  </tbody>\n",
       "</table>\n",
       "</div>"
      ],
      "text/plain": [
       "  League  Year  Average Margin of Games Bookmaker\n",
       "0     B1  2005                 0.119081    Bet365\n",
       "1     B1  2006                 0.117174    Bet365\n",
       "2     B1  2007                 0.111013    Bet365\n",
       "3     B1  2008                 0.087826    Bet365\n",
       "4     B1  2009                 0.079723    Bet365"
      ]
     },
     "execution_count": 1,
     "metadata": {},
     "output_type": "execute_result"
    }
   ],
   "source": [
    "import pandas as pd\n",
    "import os\n",
    "os.chdir(r'D:\\Projects\\football-odds-analysis')\n",
    "from utils.preprocess import preprocess_pipeline\n",
    "\n",
    "# Bookmakers list\n",
    "# Bet365\n",
    "# Bet&Win\n",
    "# Interwetten\n",
    "# William_Hill\n",
    "# VC_Bet\n",
    "\n",
    "\n",
    "def get_avg_margin(bookmaker: pd.DataFrame, \n",
    "                   company_name: str,\n",
    "                   col_name: str = 'return_on_game') -> pd.DataFrame:\n",
    "    \"\"\"gets a bookmakers data and calulcates the average yearly margin og bookmaker over different leagues\n",
    "\n",
    "    Args:\n",
    "        bookmaker (pd.DataFramem): bookmakers data should include `Div`,`Date`, `return_on_game`\n",
    "        company_name (str): bookmaker's name\n",
    "        col_name (str, optional): column name for bookmaker's margin Defaults to 'return_on_game'.\n",
    "\n",
    "    Returns:\n",
    "        pd.DataFrame: average yearly margin og bookmaker over different leagues\n",
    "    \"\"\"\n",
    "    bookmaker['Date'] = pd.to_datetime(bookmaker['Date'])\n",
    "    bookmaker['Year'] = bookmaker['Date'].dt.year\n",
    "    avg_margin_div_yearly = bookmaker.groupby(['Div', 'Year']).apply(lambda r: r[col_name].mean())\n",
    "    avg_margin_div_yearly = avg_margin_div_yearly.reset_index()\n",
    "    avg_margin_div_yearly['Bookmaker'] = company_name\n",
    "    avg_margin_div_yearly.columns = ['Div', 'Year', 'average_margin', 'Bookmaker']\n",
    "    return avg_margin_div_yearly\n",
    "\n",
    "bookmakers_data = preprocess_pipeline('all_avail_games.csv')\n",
    "avg_margin_data = pd.DataFrame()\n",
    "\n",
    "for key in bookmakers_data.keys():\n",
    "    if key != 'AVG':\n",
    "        avg_margin_data = pd.concat([avg_margin_data, get_avg_margin(bookmakers_data[key],\n",
    "                                                                     key)], axis=0)\n",
    "    else:\n",
    "        avg_margin_data = pd.concat([avg_margin_data, get_avg_margin(bookmakers_data[key], \n",
    "                                                                     key, 'Avg_return_on_game')], axis=0)\n",
    "\n",
    "avg_margin_data = avg_margin_data.loc[:,~avg_margin_data.columns.duplicated()]\n",
    "avg_margin_data.columns = ['League', 'Year', 'Average Margin of Games', 'Bookmaker']\n",
    "avg_margin_data.head()"
   ]
  },
  {
   "cell_type": "code",
   "execution_count": 2,
   "metadata": {},
   "outputs": [
    {
     "data": {
      "application/vnd.plotly.v1+json": {
       "config": {
        "plotlyServerURL": "https://plot.ly"
       },
       "data": [
        {
         "hovertemplate": "Bookmaker=Bet365<br>Year=2005<br>League=%{x}<br>Average Margin of Games=%{y}<extra></extra>",
         "legendgroup": "Bet365",
         "marker": {
          "color": "#636efa",
          "size": 10,
          "symbol": "circle"
         },
         "mode": "markers",
         "name": "Bet365",
         "orientation": "v",
         "showlegend": true,
         "type": "scatter",
         "x": [
          "B1",
          "D1",
          "D2",
          "E0",
          "E1",
          "E2",
          "E3",
          "EC",
          "F1",
          "F2",
          "G1",
          "I1",
          "I2",
          "N1",
          "P1",
          "SP1",
          "SP2",
          "T1"
         ],
         "xaxis": "x",
         "y": [
          0.1190814674130513,
          0.09833985225477941,
          0.12112802842925156,
          0.07832657555326897,
          0.10427529637713746,
          0.10597183507307943,
          0.10677727570380058,
          0.11573212117083606,
          0.11458823593795808,
          0.12127168579844341,
          0.12122477416125231,
          0.0939033978016586,
          0.11754006990768408,
          0.11409612519169726,
          0.11751021760970914,
          0.09299056111302179,
          0.11840565536020538,
          0.12000963814404383
         ],
         "yaxis": "y"
        },
        {
         "hovertemplate": "Bookmaker=Bet&Win<br>Year=2005<br>League=%{x}<br>Average Margin of Games=%{y}<extra></extra>",
         "legendgroup": "Bet&Win",
         "marker": {
          "color": "#EF553B",
          "size": 10,
          "symbol": "circle"
         },
         "mode": "markers",
         "name": "Bet&Win",
         "orientation": "v",
         "showlegend": true,
         "type": "scatter",
         "x": [
          "B1",
          "D1",
          "D2",
          "E0",
          "E1",
          "E2",
          "E3",
          "EC",
          "F1",
          "F2",
          "G1",
          "I1",
          "I2",
          "N1",
          "P1",
          "SP1",
          "SP2",
          "T1"
         ],
         "xaxis": "x",
         "y": [
          0.11235583330498713,
          0.10168488498244006,
          0.10171366500379318,
          0.1013101978144926,
          0.11199922414077008,
          0.11160326246292006,
          0.111573905129405,
          0.12095891008585709,
          0.10204133437035512,
          0.12190223121871088,
          0.10028285792140075,
          0.09931666477845677,
          0.1205067508399211,
          0.11208940051335925,
          0.11217933598748583,
          0.10249187224873416,
          0.12221451383305558,
          0.11317629038070282
         ],
         "yaxis": "y"
        },
        {
         "hovertemplate": "Bookmaker=Interwetten<br>Year=2005<br>League=%{x}<br>Average Margin of Games=%{y}<extra></extra>",
         "legendgroup": "Interwetten",
         "marker": {
          "color": "#00cc96",
          "size": 10,
          "symbol": "circle"
         },
         "mode": "markers",
         "name": "Interwetten",
         "orientation": "v",
         "showlegend": true,
         "type": "scatter",
         "x": [
          "B1",
          "D1",
          "D2",
          "E0",
          "E1",
          "E2",
          "E3",
          "EC",
          "F1",
          "F2",
          "G1",
          "I1",
          "I2",
          "N1",
          "P1",
          "SP1",
          "SP2",
          "T1"
         ],
         "xaxis": "x",
         "y": [
          0.1358394372627763,
          0.12975235382807784,
          0.1359549705652371,
          0.13124838317477977,
          0.1487021902074533,
          0.14761054140632854,
          0.14906813474474498,
          0.14863024301944056,
          0.13174074190962537,
          0.1356670487543422,
          0.13335987138194072,
          0.13053808959521335,
          0.14761640694677092,
          0.13488487205573094,
          0.134374389823655,
          0.13016552517826355,
          0.13558802195941863,
          0.13518757569421483
         ],
         "yaxis": "y"
        },
        {
         "hovertemplate": "Bookmaker=William_Hill<br>Year=2005<br>League=%{x}<br>Average Margin of Games=%{y}<extra></extra>",
         "legendgroup": "William_Hill",
         "marker": {
          "color": "#ab63fa",
          "size": 10,
          "symbol": "circle"
         },
         "mode": "markers",
         "name": "William_Hill",
         "orientation": "v",
         "showlegend": true,
         "type": "scatter",
         "x": [
          "B1",
          "D1",
          "D2",
          "E0",
          "E1",
          "E2",
          "E3",
          "EC",
          "F1",
          "F2",
          "G1",
          "I1",
          "I2",
          "N1",
          "P1",
          "SP1",
          "SP2",
          "T1"
         ],
         "xaxis": "x",
         "y": [
          0.12476542613459196,
          0.12445342674271487,
          0.12434445488260483,
          0.12481704788773232,
          0.12453450540799851,
          0.12461156861353506,
          0.12476177547031803,
          0.12639096867437255,
          0.12492221923806707,
          0.12521928737396704,
          0.12447966112893247,
          0.12412853722512232,
          0.1250819680918965,
          0.12527869671601788,
          0.124937067800833,
          0.12453186928251624,
          0.1252779895076956,
          0.12460067086512322
         ],
         "yaxis": "y"
        },
        {
         "hovertemplate": "Bookmaker=VC_Bet<br>Year=2005<br>League=%{x}<br>Average Margin of Games=%{y}<extra></extra>",
         "legendgroup": "VC_Bet",
         "marker": {
          "color": "#FFA15A",
          "size": 10,
          "symbol": "circle"
         },
         "mode": "markers",
         "name": "VC_Bet",
         "orientation": "v",
         "showlegend": true,
         "type": "scatter",
         "x": [
          "B1",
          "D1",
          "D2",
          "E0",
          "E1",
          "E2",
          "E3",
          "EC",
          "F1",
          "F2",
          "G1",
          "I1",
          "I2",
          "N1",
          "P1",
          "SP1",
          "SP2",
          "T1"
         ],
         "xaxis": "x",
         "y": [
          0.12434013489497446,
          0.1212303206736246,
          0.12290966628104799,
          0.0850721459144241,
          0.11618752732984139,
          0.1157459052364736,
          0.11633696937817063,
          0.11948145478045173,
          0.1213623727151658,
          0.12415270325914383,
          0.11618157490242022,
          0.1097026967551105,
          0.12446622078382415,
          0.12339456110900474,
          0.12290213885628977,
          0.12159444997354533,
          0.12236407141128001,
          0.12087094555985788
         ],
         "yaxis": "y"
        },
        {
         "hovertemplate": "Bookmaker=AVG<br>Year=2005<br>League=%{x}<br>Average Margin of Games=%{y}<extra></extra>",
         "legendgroup": "AVG",
         "marker": {
          "color": "#19d3f3",
          "size": 10,
          "symbol": "circle"
         },
         "mode": "markers",
         "name": "AVG",
         "orientation": "v",
         "showlegend": true,
         "type": "scatter",
         "x": [
          "B1",
          "D1",
          "D2",
          "E0",
          "E1",
          "E2",
          "E3",
          "EC",
          "F1",
          "F2",
          "G1",
          "I1",
          "I2",
          "N1",
          "P1",
          "SP1",
          "SP2",
          "T1"
         ],
         "xaxis": "x",
         "y": [
          0.12273868396524816,
          0.11740530269336964,
          0.11936042081179937,
          0.10828271866387865,
          0.12358064142623126,
          0.12322490540361468,
          0.12392992697788502,
          0.12697079163845326,
          0.11817465166655249,
          0.12489433123521808,
          0.11602286270464669,
          0.11415406426464621,
          0.12783673195897446,
          0.12195022388366455,
          0.12194953504652828,
          0.117809247138627,
          0.12482270574195713,
          0.12140307360213409
         ],
         "yaxis": "y"
        }
       ],
       "frames": [
        {
         "data": [
          {
           "hovertemplate": "Bookmaker=Bet365<br>Year=2005<br>League=%{x}<br>Average Margin of Games=%{y}<extra></extra>",
           "legendgroup": "Bet365",
           "marker": {
            "color": "#636efa",
            "symbol": "circle"
           },
           "mode": "markers",
           "name": "Bet365",
           "orientation": "v",
           "showlegend": true,
           "type": "scatter",
           "x": [
            "B1",
            "D1",
            "D2",
            "E0",
            "E1",
            "E2",
            "E3",
            "EC",
            "F1",
            "F2",
            "G1",
            "I1",
            "I2",
            "N1",
            "P1",
            "SP1",
            "SP2",
            "T1"
           ],
           "xaxis": "x",
           "y": [
            0.1190814674130513,
            0.09833985225477941,
            0.12112802842925156,
            0.07832657555326897,
            0.10427529637713746,
            0.10597183507307943,
            0.10677727570380058,
            0.11573212117083606,
            0.11458823593795808,
            0.12127168579844341,
            0.12122477416125231,
            0.0939033978016586,
            0.11754006990768408,
            0.11409612519169726,
            0.11751021760970914,
            0.09299056111302179,
            0.11840565536020538,
            0.12000963814404383
           ],
           "yaxis": "y"
          },
          {
           "hovertemplate": "Bookmaker=Bet&Win<br>Year=2005<br>League=%{x}<br>Average Margin of Games=%{y}<extra></extra>",
           "legendgroup": "Bet&Win",
           "marker": {
            "color": "#EF553B",
            "symbol": "circle"
           },
           "mode": "markers",
           "name": "Bet&Win",
           "orientation": "v",
           "showlegend": true,
           "type": "scatter",
           "x": [
            "B1",
            "D1",
            "D2",
            "E0",
            "E1",
            "E2",
            "E3",
            "EC",
            "F1",
            "F2",
            "G1",
            "I1",
            "I2",
            "N1",
            "P1",
            "SP1",
            "SP2",
            "T1"
           ],
           "xaxis": "x",
           "y": [
            0.11235583330498713,
            0.10168488498244006,
            0.10171366500379318,
            0.1013101978144926,
            0.11199922414077008,
            0.11160326246292006,
            0.111573905129405,
            0.12095891008585709,
            0.10204133437035512,
            0.12190223121871088,
            0.10028285792140075,
            0.09931666477845677,
            0.1205067508399211,
            0.11208940051335925,
            0.11217933598748583,
            0.10249187224873416,
            0.12221451383305558,
            0.11317629038070282
           ],
           "yaxis": "y"
          },
          {
           "hovertemplate": "Bookmaker=Interwetten<br>Year=2005<br>League=%{x}<br>Average Margin of Games=%{y}<extra></extra>",
           "legendgroup": "Interwetten",
           "marker": {
            "color": "#00cc96",
            "symbol": "circle"
           },
           "mode": "markers",
           "name": "Interwetten",
           "orientation": "v",
           "showlegend": true,
           "type": "scatter",
           "x": [
            "B1",
            "D1",
            "D2",
            "E0",
            "E1",
            "E2",
            "E3",
            "EC",
            "F1",
            "F2",
            "G1",
            "I1",
            "I2",
            "N1",
            "P1",
            "SP1",
            "SP2",
            "T1"
           ],
           "xaxis": "x",
           "y": [
            0.1358394372627763,
            0.12975235382807784,
            0.1359549705652371,
            0.13124838317477977,
            0.1487021902074533,
            0.14761054140632854,
            0.14906813474474498,
            0.14863024301944056,
            0.13174074190962537,
            0.1356670487543422,
            0.13335987138194072,
            0.13053808959521335,
            0.14761640694677092,
            0.13488487205573094,
            0.134374389823655,
            0.13016552517826355,
            0.13558802195941863,
            0.13518757569421483
           ],
           "yaxis": "y"
          },
          {
           "hovertemplate": "Bookmaker=William_Hill<br>Year=2005<br>League=%{x}<br>Average Margin of Games=%{y}<extra></extra>",
           "legendgroup": "William_Hill",
           "marker": {
            "color": "#ab63fa",
            "symbol": "circle"
           },
           "mode": "markers",
           "name": "William_Hill",
           "orientation": "v",
           "showlegend": true,
           "type": "scatter",
           "x": [
            "B1",
            "D1",
            "D2",
            "E0",
            "E1",
            "E2",
            "E3",
            "EC",
            "F1",
            "F2",
            "G1",
            "I1",
            "I2",
            "N1",
            "P1",
            "SP1",
            "SP2",
            "T1"
           ],
           "xaxis": "x",
           "y": [
            0.12476542613459196,
            0.12445342674271487,
            0.12434445488260483,
            0.12481704788773232,
            0.12453450540799851,
            0.12461156861353506,
            0.12476177547031803,
            0.12639096867437255,
            0.12492221923806707,
            0.12521928737396704,
            0.12447966112893247,
            0.12412853722512232,
            0.1250819680918965,
            0.12527869671601788,
            0.124937067800833,
            0.12453186928251624,
            0.1252779895076956,
            0.12460067086512322
           ],
           "yaxis": "y"
          },
          {
           "hovertemplate": "Bookmaker=VC_Bet<br>Year=2005<br>League=%{x}<br>Average Margin of Games=%{y}<extra></extra>",
           "legendgroup": "VC_Bet",
           "marker": {
            "color": "#FFA15A",
            "symbol": "circle"
           },
           "mode": "markers",
           "name": "VC_Bet",
           "orientation": "v",
           "showlegend": true,
           "type": "scatter",
           "x": [
            "B1",
            "D1",
            "D2",
            "E0",
            "E1",
            "E2",
            "E3",
            "EC",
            "F1",
            "F2",
            "G1",
            "I1",
            "I2",
            "N1",
            "P1",
            "SP1",
            "SP2",
            "T1"
           ],
           "xaxis": "x",
           "y": [
            0.12434013489497446,
            0.1212303206736246,
            0.12290966628104799,
            0.0850721459144241,
            0.11618752732984139,
            0.1157459052364736,
            0.11633696937817063,
            0.11948145478045173,
            0.1213623727151658,
            0.12415270325914383,
            0.11618157490242022,
            0.1097026967551105,
            0.12446622078382415,
            0.12339456110900474,
            0.12290213885628977,
            0.12159444997354533,
            0.12236407141128001,
            0.12087094555985788
           ],
           "yaxis": "y"
          },
          {
           "hovertemplate": "Bookmaker=AVG<br>Year=2005<br>League=%{x}<br>Average Margin of Games=%{y}<extra></extra>",
           "legendgroup": "AVG",
           "marker": {
            "color": "#19d3f3",
            "symbol": "circle"
           },
           "mode": "markers",
           "name": "AVG",
           "orientation": "v",
           "showlegend": true,
           "type": "scatter",
           "x": [
            "B1",
            "D1",
            "D2",
            "E0",
            "E1",
            "E2",
            "E3",
            "EC",
            "F1",
            "F2",
            "G1",
            "I1",
            "I2",
            "N1",
            "P1",
            "SP1",
            "SP2",
            "T1"
           ],
           "xaxis": "x",
           "y": [
            0.12273868396524816,
            0.11740530269336964,
            0.11936042081179937,
            0.10828271866387865,
            0.12358064142623126,
            0.12322490540361468,
            0.12392992697788502,
            0.12697079163845326,
            0.11817465166655249,
            0.12489433123521808,
            0.11602286270464669,
            0.11415406426464621,
            0.12783673195897446,
            0.12195022388366455,
            0.12194953504652828,
            0.117809247138627,
            0.12482270574195713,
            0.12140307360213409
           ],
           "yaxis": "y"
          }
         ],
         "name": "2005"
        },
        {
         "data": [
          {
           "hovertemplate": "Bookmaker=Bet365<br>Year=2006<br>League=%{x}<br>Average Margin of Games=%{y}<extra></extra>",
           "legendgroup": "Bet365",
           "marker": {
            "color": "#636efa",
            "symbol": "circle"
           },
           "mode": "markers",
           "name": "Bet365",
           "orientation": "v",
           "showlegend": true,
           "type": "scatter",
           "x": [
            "B1",
            "D1",
            "D2",
            "E0",
            "E1",
            "E2",
            "E3",
            "EC",
            "F1",
            "F2",
            "G1",
            "I1",
            "I2",
            "N1",
            "P1",
            "SP1",
            "SP2",
            "T1"
           ],
           "xaxis": "x",
           "y": [
            0.11717384434052466,
            0.081400491150421,
            0.11441160126584764,
            0.07964779894040845,
            0.10384117104927654,
            0.10599295671870368,
            0.10617994611304461,
            0.11583169018488851,
            0.10743056576959846,
            0.12267846855274539,
            0.12192763643343751,
            0.08359190968660933,
            0.11691016464041375,
            0.11628672407096037,
            0.11692791421063607,
            0.08180215187583394,
            0.11771158500150408,
            0.11778201685224769
           ],
           "yaxis": "y"
          },
          {
           "hovertemplate": "Bookmaker=Bet&Win<br>Year=2006<br>League=%{x}<br>Average Margin of Games=%{y}<extra></extra>",
           "legendgroup": "Bet&Win",
           "marker": {
            "color": "#EF553B",
            "symbol": "circle"
           },
           "mode": "markers",
           "name": "Bet&Win",
           "orientation": "v",
           "showlegend": true,
           "type": "scatter",
           "x": [
            "B1",
            "D1",
            "D2",
            "E0",
            "E1",
            "E2",
            "E3",
            "EC",
            "F1",
            "F2",
            "G1",
            "I1",
            "I2",
            "N1",
            "P1",
            "SP1",
            "SP2",
            "T1"
           ],
           "xaxis": "x",
           "y": [
            0.1123812104804688,
            0.10086629885033527,
            0.10096540293137786,
            0.10094748158869737,
            0.11056540549365707,
            0.11092613353135854,
            0.11081624863966927,
            0.12037469256044567,
            0.10237386695876065,
            0.12063126794994082,
            0.10028104854288253,
            0.09888134749803294,
            0.11668211122079333,
            0.11216298675456898,
            0.11177419674475253,
            0.10223589096976538,
            0.11947750418089076,
            0.11265390151716034
           ],
           "yaxis": "y"
          },
          {
           "hovertemplate": "Bookmaker=Interwetten<br>Year=2006<br>League=%{x}<br>Average Margin of Games=%{y}<extra></extra>",
           "legendgroup": "Interwetten",
           "marker": {
            "color": "#00cc96",
            "symbol": "circle"
           },
           "mode": "markers",
           "name": "Interwetten",
           "orientation": "v",
           "showlegend": true,
           "type": "scatter",
           "x": [
            "B1",
            "D1",
            "D2",
            "E0",
            "E1",
            "E2",
            "E3",
            "EC",
            "F1",
            "F2",
            "G1",
            "I1",
            "I2",
            "N1",
            "P1",
            "SP1",
            "SP2",
            "T1"
           ],
           "xaxis": "x",
           "y": [
            0.13552888987148007,
            0.11309962743395226,
            0.1294084227870302,
            0.11403252420415459,
            0.13607689982871374,
            0.13611468019321557,
            0.1360720923333885,
            0.14913610857404253,
            0.11249178367794001,
            0.1351411972912234,
            0.13379707563320692,
            0.11275001376215059,
            0.1370014284925942,
            0.13496873181558788,
            0.13480275754239326,
            0.11278259488839938,
            0.13541215454714953,
            0.12441236474844997
           ],
           "yaxis": "y"
          },
          {
           "hovertemplate": "Bookmaker=William_Hill<br>Year=2006<br>League=%{x}<br>Average Margin of Games=%{y}<extra></extra>",
           "legendgroup": "William_Hill",
           "marker": {
            "color": "#ab63fa",
            "symbol": "circle"
           },
           "mode": "markers",
           "name": "William_Hill",
           "orientation": "v",
           "showlegend": true,
           "type": "scatter",
           "x": [
            "B1",
            "D1",
            "D2",
            "E0",
            "E1",
            "E2",
            "E3",
            "EC",
            "F1",
            "F2",
            "G1",
            "I1",
            "I2",
            "N1",
            "P1",
            "SP1",
            "SP2",
            "T1"
           ],
           "xaxis": "x",
           "y": [
            0.12416090702147313,
            0.12496127726106604,
            0.12427272785621134,
            0.12491795316887883,
            0.12458148510900557,
            0.12434790434350455,
            0.12443676957728796,
            0.12590816930130008,
            0.12505436399989464,
            0.12449332195502905,
            0.12495822031498288,
            0.12511645704891214,
            0.12470030324296265,
            0.1255376863883938,
            0.12477667690283323,
            0.12474637734082461,
            0.12485405161063742,
            0.1251154788796636
           ],
           "yaxis": "y"
          },
          {
           "hovertemplate": "Bookmaker=VC_Bet<br>Year=2006<br>League=%{x}<br>Average Margin of Games=%{y}<extra></extra>",
           "legendgroup": "VC_Bet",
           "marker": {
            "color": "#FFA15A",
            "symbol": "circle"
           },
           "mode": "markers",
           "name": "VC_Bet",
           "orientation": "v",
           "showlegend": true,
           "type": "scatter",
           "x": [
            "B1",
            "D1",
            "D2",
            "E0",
            "E1",
            "E2",
            "E3",
            "EC",
            "F1",
            "F2",
            "G1",
            "I1",
            "I2",
            "N1",
            "P1",
            "SP1",
            "SP2",
            "T1"
           ],
           "xaxis": "x",
           "y": [
            0.12446125519960671,
            0.12266401469044307,
            0.12442071260231548,
            0.08689488047258544,
            0.11695703428129257,
            0.11669629124893861,
            0.11686400706732077,
            0.11737749415350028,
            0.12281015523808203,
            0.12410113210946055,
            0.12300790407900272,
            0.11800681737664036,
            0.12500881077265338,
            0.12325928861060728,
            0.12414140317267787,
            0.12279320929949382,
            0.12389198321822216,
            0.12298986274438742
           ],
           "yaxis": "y"
          },
          {
           "hovertemplate": "Bookmaker=AVG<br>Year=2006<br>League=%{x}<br>Average Margin of Games=%{y}<extra></extra>",
           "legendgroup": "AVG",
           "marker": {
            "color": "#19d3f3",
            "symbol": "circle"
           },
           "mode": "markers",
           "name": "AVG",
           "orientation": "v",
           "showlegend": true,
           "type": "scatter",
           "x": [
            "B1",
            "D1",
            "D2",
            "E0",
            "E1",
            "E2",
            "E3",
            "EC",
            "F1",
            "F2",
            "G1",
            "I1",
            "I2",
            "N1",
            "P1",
            "SP1",
            "SP2",
            "T1"
           ],
           "xaxis": "x",
           "y": [
            0.12283233024598954,
            0.11397072337895378,
            0.11815489943757215,
            0.10504346151618713,
            0.12060152437133036,
            0.12065084242181011,
            0.12060989324466591,
            0.12666157370082903,
            0.11403297556186438,
            0.12430232566443832,
            0.11822690000306219,
            0.11223694864697928,
            0.12440241068224896,
            0.12228789081064496,
            0.12198666978777412,
            0.114140783602444,
            0.12466950672018537,
            0.11935613347418739
           ],
           "yaxis": "y"
          }
         ],
         "name": "2006"
        },
        {
         "data": [
          {
           "hovertemplate": "Bookmaker=Bet365<br>Year=2007<br>League=%{x}<br>Average Margin of Games=%{y}<extra></extra>",
           "legendgroup": "Bet365",
           "marker": {
            "color": "#636efa",
            "symbol": "circle"
           },
           "mode": "markers",
           "name": "Bet365",
           "orientation": "v",
           "showlegend": true,
           "type": "scatter",
           "x": [
            "B1",
            "D1",
            "D2",
            "E0",
            "E1",
            "E2",
            "E3",
            "EC",
            "F1",
            "F2",
            "G1",
            "I1",
            "I2",
            "N1",
            "P1",
            "SP1",
            "SP2",
            "T1"
           ],
           "xaxis": "x",
           "y": [
            0.11101329009366623,
            0.0770547660314914,
            0.090608831624008,
            0.07196820150435644,
            0.08889279989839872,
            0.10301181855479764,
            0.10251999705313417,
            0.11291502814182611,
            0.0915901304985092,
            0.11729805627463723,
            0.10688882596337432,
            0.07880610251524404,
            0.10261190028852271,
            0.09504464812591196,
            0.09975490232249083,
            0.07676195500679328,
            0.1100695606246465,
            0.10663264944311696
           ],
           "yaxis": "y"
          },
          {
           "hovertemplate": "Bookmaker=Bet&Win<br>Year=2007<br>League=%{x}<br>Average Margin of Games=%{y}<extra></extra>",
           "legendgroup": "Bet&Win",
           "marker": {
            "color": "#EF553B",
            "symbol": "circle"
           },
           "mode": "markers",
           "name": "Bet&Win",
           "orientation": "v",
           "showlegend": true,
           "type": "scatter",
           "x": [
            "B1",
            "D1",
            "D2",
            "E0",
            "E1",
            "E2",
            "E3",
            "EC",
            "F1",
            "F2",
            "G1",
            "I1",
            "I2",
            "N1",
            "P1",
            "SP1",
            "SP2",
            "T1"
           ],
           "xaxis": "x",
           "y": [
            0.11063001990101466,
            0.09743392346828983,
            0.09974342020270381,
            0.10066276565686924,
            0.11069407426458135,
            0.11107333348354799,
            0.11080901869179052,
            0.12013925152530745,
            0.10234421988990522,
            0.11839597243141417,
            0.10189703432725845,
            0.1022001003714162,
            0.11280539010707967,
            0.1116391156319709,
            0.11162094895717173,
            0.1020515939522587,
            0.11235468090442546,
            0.10564564366061747
           ],
           "yaxis": "y"
          },
          {
           "hovertemplate": "Bookmaker=Interwetten<br>Year=2007<br>League=%{x}<br>Average Margin of Games=%{y}<extra></extra>",
           "legendgroup": "Interwetten",
           "marker": {
            "color": "#00cc96",
            "symbol": "circle"
           },
           "mode": "markers",
           "name": "Interwetten",
           "orientation": "v",
           "showlegend": true,
           "type": "scatter",
           "x": [
            "B1",
            "D1",
            "D2",
            "E0",
            "E1",
            "E2",
            "E3",
            "EC",
            "F1",
            "F2",
            "G1",
            "I1",
            "I2",
            "N1",
            "P1",
            "SP1",
            "SP2",
            "T1"
           ],
           "xaxis": "x",
           "y": [
            0.13615636279847115,
            0.11370554090104427,
            0.1264941636445408,
            0.11374783718894428,
            0.13676294566826092,
            0.136700637294141,
            0.1373043859371661,
            0.14948507967949642,
            0.11249775899311128,
            0.1366775012312543,
            0.1253981529473782,
            0.11530497636106463,
            0.1369086399474589,
            0.13612677423424804,
            0.1345162485754974,
            0.11277254475486463,
            0.13485617823756127,
            0.13407945297822618
           ],
           "yaxis": "y"
          },
          {
           "hovertemplate": "Bookmaker=William_Hill<br>Year=2007<br>League=%{x}<br>Average Margin of Games=%{y}<extra></extra>",
           "legendgroup": "William_Hill",
           "marker": {
            "color": "#ab63fa",
            "symbol": "circle"
           },
           "mode": "markers",
           "name": "William_Hill",
           "orientation": "v",
           "showlegend": true,
           "type": "scatter",
           "x": [
            "B1",
            "D1",
            "D2",
            "E0",
            "E1",
            "E2",
            "E3",
            "EC",
            "F1",
            "F2",
            "G1",
            "I1",
            "I2",
            "N1",
            "P1",
            "SP1",
            "SP2",
            "T1"
           ],
           "xaxis": "x",
           "y": [
            0.12440042148973453,
            0.12337487330036093,
            0.12451851648604913,
            0.12483686054653906,
            0.12450150740226412,
            0.12463057017604624,
            0.124565559089702,
            0.1260708351315787,
            0.12508375057304177,
            0.12466863770611705,
            0.12490914006194591,
            0.12471066415494168,
            0.12468368191742753,
            0.12593179507644994,
            0.12428595833064908,
            0.12446931096244643,
            0.12460705487695209,
            0.12431610174637794
           ],
           "yaxis": "y"
          },
          {
           "hovertemplate": "Bookmaker=VC_Bet<br>Year=2007<br>League=%{x}<br>Average Margin of Games=%{y}<extra></extra>",
           "legendgroup": "VC_Bet",
           "marker": {
            "color": "#FFA15A",
            "symbol": "circle"
           },
           "mode": "markers",
           "name": "VC_Bet",
           "orientation": "v",
           "showlegend": true,
           "type": "scatter",
           "x": [
            "B1",
            "D1",
            "D2",
            "E0",
            "E1",
            "E2",
            "E3",
            "EC",
            "F1",
            "F2",
            "G1",
            "I1",
            "I2",
            "N1",
            "P1",
            "SP1",
            "SP2",
            "T1"
           ],
           "xaxis": "x",
           "y": [
            0.12158321778527553,
            0.11904475853943843,
            0.12036493474471657,
            0.08679478057844593,
            0.113142975428486,
            0.1147347616947384,
            0.11471735275874749,
            0.1162351643760584,
            0.11878271992552836,
            0.12215191939065687,
            0.11901668758295667,
            0.11890786469007797,
            0.12153928445849403,
            0.11848264996516464,
            0.12093162302930816,
            0.11973383152632232,
            0.12002323181437008,
            0.12067189836118966
           ],
           "yaxis": "y"
          },
          {
           "hovertemplate": "Bookmaker=AVG<br>Year=2007<br>League=%{x}<br>Average Margin of Games=%{y}<extra></extra>",
           "legendgroup": "AVG",
           "marker": {
            "color": "#19d3f3",
            "symbol": "circle"
           },
           "mode": "markers",
           "name": "AVG",
           "orientation": "v",
           "showlegend": true,
           "type": "scatter",
           "x": [
            "B1",
            "D1",
            "D2",
            "E0",
            "E1",
            "E2",
            "E3",
            "EC",
            "F1",
            "F2",
            "G1",
            "I1",
            "I2",
            "N1",
            "P1",
            "SP1",
            "SP2",
            "T1"
           ],
           "xaxis": "x",
           "y": [
            0.1219719201327369,
            0.11197503921632089,
            0.11633886796620214,
            0.10496053136172853,
            0.12009396672854275,
            0.12076657587615786,
            0.12077410415999211,
            0.12659088111261466,
            0.11341238316525587,
            0.12392283023207991,
            0.11565543929286565,
            0.113737610482834,
            0.12238582832488264,
            0.12121864798823058,
            0.1210676777309659,
            0.11340038632638913,
            0.12151246285085825,
            0.11931430442954595
           ],
           "yaxis": "y"
          }
         ],
         "name": "2007"
        },
        {
         "data": [
          {
           "hovertemplate": "Bookmaker=Bet365<br>Year=2008<br>League=%{x}<br>Average Margin of Games=%{y}<extra></extra>",
           "legendgroup": "Bet365",
           "marker": {
            "color": "#636efa",
            "symbol": "circle"
           },
           "mode": "markers",
           "name": "Bet365",
           "orientation": "v",
           "showlegend": true,
           "type": "scatter",
           "x": [
            "B1",
            "D1",
            "D2",
            "E0",
            "E1",
            "E2",
            "E3",
            "EC",
            "F1",
            "F2",
            "G1",
            "I1",
            "I2",
            "N1",
            "P1",
            "SP1",
            "SP2",
            "T1"
           ],
           "xaxis": "x",
           "y": [
            0.08782633770148279,
            0.06597711464881428,
            0.07752860759399717,
            0.054800227191296236,
            0.06622134770937797,
            0.08089965775014497,
            0.08121009895357975,
            0.09865205399403694,
            0.06647781766404667,
            0.09992774501542402,
            0.08767988108804792,
            0.06541298091912164,
            0.0979353225629896,
            0.08571293911495187,
            0.08559693075952977,
            0.06560325456348626,
            0.09772111159067022,
            0.09381919628413118
           ],
           "yaxis": "y"
          },
          {
           "hovertemplate": "Bookmaker=Bet&Win<br>Year=2008<br>League=%{x}<br>Average Margin of Games=%{y}<extra></extra>",
           "legendgroup": "Bet&Win",
           "marker": {
            "color": "#EF553B",
            "symbol": "circle"
           },
           "mode": "markers",
           "name": "Bet&Win",
           "orientation": "v",
           "showlegend": true,
           "type": "scatter",
           "x": [
            "B1",
            "D1",
            "D2",
            "E0",
            "E1",
            "E2",
            "E3",
            "EC",
            "F1",
            "F2",
            "G1",
            "I1",
            "I2",
            "N1",
            "P1",
            "SP1",
            "SP2",
            "T1"
           ],
           "xaxis": "x",
           "y": [
            0.10864798698679837,
            0.09929361076064838,
            0.09947911842663462,
            0.10055836804497754,
            0.11099699133998976,
            0.11088036526547838,
            0.11072868975994243,
            0.11973400984430199,
            0.10209245193532546,
            0.1108957389756522,
            0.10163384288192583,
            0.10159496182453988,
            0.11097076889062753,
            0.10675912412766121,
            0.1018392069730779,
            0.1022983221704716,
            0.11208036054585474,
            0.10264509845802869
           ],
           "yaxis": "y"
          },
          {
           "hovertemplate": "Bookmaker=Interwetten<br>Year=2008<br>League=%{x}<br>Average Margin of Games=%{y}<extra></extra>",
           "legendgroup": "Interwetten",
           "marker": {
            "color": "#00cc96",
            "symbol": "circle"
           },
           "mode": "markers",
           "name": "Interwetten",
           "orientation": "v",
           "showlegend": true,
           "type": "scatter",
           "x": [
            "B1",
            "D1",
            "D2",
            "E0",
            "E1",
            "E2",
            "E3",
            "EC",
            "F1",
            "F2",
            "G1",
            "I1",
            "I2",
            "N1",
            "P1",
            "SP1",
            "SP2",
            "T1"
           ],
           "xaxis": "x",
           "y": [
            0.13652377576961147,
            0.11401101187443519,
            0.11350847150062987,
            0.1139602840474666,
            0.13701283281109325,
            0.13698924941014726,
            0.13688654640476142,
            0.1433212188433582,
            0.11175734599471143,
            0.13471145619457858,
            0.1137006672727353,
            0.11298386253393791,
            0.13583229830868768,
            0.13657461802808996,
            0.1350320987873113,
            0.11301885785220869,
            0.1352978576571858,
            0.1355283169760052
           ],
           "yaxis": "y"
          },
          {
           "hovertemplate": "Bookmaker=William_Hill<br>Year=2008<br>League=%{x}<br>Average Margin of Games=%{y}<extra></extra>",
           "legendgroup": "William_Hill",
           "marker": {
            "color": "#ab63fa",
            "symbol": "circle"
           },
           "mode": "markers",
           "name": "William_Hill",
           "orientation": "v",
           "showlegend": true,
           "type": "scatter",
           "x": [
            "B1",
            "D1",
            "D2",
            "E0",
            "E1",
            "E2",
            "E3",
            "EC",
            "F1",
            "F2",
            "G1",
            "I1",
            "I2",
            "N1",
            "P1",
            "SP1",
            "SP2",
            "T1"
           ],
           "xaxis": "x",
           "y": [
            0.12334034462716885,
            0.12021080512987115,
            0.12352172313963487,
            0.09813635417293744,
            0.11910668566425014,
            0.12149580474255979,
            0.12143331122342191,
            0.12298559023485928,
            0.12244520489179232,
            0.12442337896362411,
            0.12361173291006575,
            0.12224789754045709,
            0.12431360384844678,
            0.12436925398230035,
            0.12283920510516044,
            0.1232279728699189,
            0.12419716134317817,
            0.12315800686676988
           ],
           "yaxis": "y"
          },
          {
           "hovertemplate": "Bookmaker=VC_Bet<br>Year=2008<br>League=%{x}<br>Average Margin of Games=%{y}<extra></extra>",
           "legendgroup": "VC_Bet",
           "marker": {
            "color": "#FFA15A",
            "symbol": "circle"
           },
           "mode": "markers",
           "name": "VC_Bet",
           "orientation": "v",
           "showlegend": true,
           "type": "scatter",
           "x": [
            "B1",
            "D1",
            "D2",
            "E0",
            "E1",
            "E2",
            "E3",
            "EC",
            "F1",
            "F2",
            "G1",
            "I1",
            "I2",
            "N1",
            "P1",
            "SP1",
            "SP2",
            "T1"
           ],
           "xaxis": "x",
           "y": [
            0.1129397897128564,
            0.1046451383321079,
            0.11213998129193514,
            0.05557641516223403,
            0.10295175534619685,
            0.10986535247598007,
            0.11018342602034817,
            0.11226341031813343,
            0.10962064339437778,
            0.11327965685517409,
            0.10813989676200991,
            0.10414662109431064,
            0.11251698215128113,
            0.11148500829352764,
            0.1121004811791544,
            0.09530156115579033,
            0.11149648254997124,
            0.11216908274737498
           ],
           "yaxis": "y"
          },
          {
           "hovertemplate": "Bookmaker=AVG<br>Year=2008<br>League=%{x}<br>Average Margin of Games=%{y}<extra></extra>",
           "legendgroup": "AVG",
           "marker": {
            "color": "#19d3f3",
            "symbol": "circle"
           },
           "mode": "markers",
           "name": "AVG",
           "orientation": "v",
           "showlegend": true,
           "type": "scatter",
           "x": [
            "B1",
            "D1",
            "D2",
            "E0",
            "E1",
            "E2",
            "E3",
            "EC",
            "F1",
            "F2",
            "G1",
            "I1",
            "I2",
            "N1",
            "P1",
            "SP1",
            "SP2",
            "T1"
           ],
           "xaxis": "x",
           "y": [
            0.11888476146325579,
            0.10816815440750163,
            0.11093587160773258,
            0.0898816272894442,
            0.11624324975879341,
            0.11865467860935335,
            0.118637598211402,
            0.12324262142122361,
            0.11030872661107079,
            0.11945079900759052,
            0.11015201997148748,
            0.1088005378950976,
            0.11945777851285894,
            0.11798931344812932,
            0.11584717277836293,
            0.10697675284015844,
            0.11944323995795471,
            0.11639090734455589
           ],
           "yaxis": "y"
          }
         ],
         "name": "2008"
        },
        {
         "data": [
          {
           "hovertemplate": "Bookmaker=Bet365<br>Year=2009<br>League=%{x}<br>Average Margin of Games=%{y}<extra></extra>",
           "legendgroup": "Bet365",
           "marker": {
            "color": "#636efa",
            "symbol": "circle"
           },
           "mode": "markers",
           "name": "Bet365",
           "orientation": "v",
           "showlegend": true,
           "type": "scatter",
           "x": [
            "B1",
            "D1",
            "D2",
            "E0",
            "E1",
            "E2",
            "E3",
            "EC",
            "F1",
            "F2",
            "G1",
            "I1",
            "I2",
            "N1",
            "P1",
            "SP1",
            "SP2",
            "T1"
           ],
           "xaxis": "x",
           "y": [
            0.0797230929030729,
            0.06450224010772464,
            0.07371056901681801,
            0.05369956642732276,
            0.06345706383747761,
            0.06449393512310805,
            0.06473499439494612,
            0.0907216193021773,
            0.06531668703144895,
            0.07307734717221454,
            0.08756420792180358,
            0.06416258709843259,
            0.08571567457213637,
            0.08234186408167612,
            0.08375473813970045,
            0.0645847268658959,
            0.08703551066861953,
            0.08545884845910467
           ],
           "yaxis": "y"
          },
          {
           "hovertemplate": "Bookmaker=Bet&Win<br>Year=2009<br>League=%{x}<br>Average Margin of Games=%{y}<extra></extra>",
           "legendgroup": "Bet&Win",
           "marker": {
            "color": "#EF553B",
            "symbol": "circle"
           },
           "mode": "markers",
           "name": "Bet&Win",
           "orientation": "v",
           "showlegend": true,
           "type": "scatter",
           "x": [
            "B1",
            "D1",
            "D2",
            "E0",
            "E1",
            "E2",
            "E3",
            "EC",
            "F1",
            "F2",
            "G1",
            "I1",
            "I2",
            "N1",
            "P1",
            "SP1",
            "SP2",
            "T1"
           ],
           "xaxis": "x",
           "y": [
            0.10609858012738453,
            0.09290540760224875,
            0.0996933316195766,
            0.09417881458925162,
            0.11179646596425255,
            0.11143990017457375,
            0.1114057271992385,
            0.11813887311086001,
            0.0956343181919083,
            0.10638962107060386,
            0.10128383872780385,
            0.09603030657733908,
            0.11190636243298611,
            0.1032825928745638,
            0.10259568431955678,
            0.09599461623476183,
            0.11192153568479811,
            0.10373499046042108
           ],
           "yaxis": "y"
          },
          {
           "hovertemplate": "Bookmaker=Interwetten<br>Year=2009<br>League=%{x}<br>Average Margin of Games=%{y}<extra></extra>",
           "legendgroup": "Interwetten",
           "marker": {
            "color": "#00cc96",
            "symbol": "circle"
           },
           "mode": "markers",
           "name": "Interwetten",
           "orientation": "v",
           "showlegend": true,
           "type": "scatter",
           "x": [
            "B1",
            "D1",
            "D2",
            "E0",
            "E1",
            "E2",
            "E3",
            "EC",
            "F1",
            "F2",
            "G1",
            "I1",
            "I2",
            "N1",
            "P1",
            "SP1",
            "SP2",
            "T1"
           ],
           "xaxis": "x",
           "y": [
            0.13641463954545194,
            0.08377681290749495,
            0.08556994197706284,
            0.08548010961759268,
            0.1369061970820572,
            0.1368578590248457,
            0.1368135495028536,
            0.13684162872246505,
            0.0874855763649325,
            0.122891795142751,
            0.11256351432805956,
            0.08846498595500409,
            0.1345736927263945,
            0.13463989349875338,
            0.12477187923830382,
            0.08837636255972064,
            0.1349703946872368,
            0.12437577628300972
           ],
           "yaxis": "y"
          },
          {
           "hovertemplate": "Bookmaker=William_Hill<br>Year=2009<br>League=%{x}<br>Average Margin of Games=%{y}<extra></extra>",
           "legendgroup": "William_Hill",
           "marker": {
            "color": "#ab63fa",
            "symbol": "circle"
           },
           "mode": "markers",
           "name": "William_Hill",
           "orientation": "v",
           "showlegend": true,
           "type": "scatter",
           "x": [
            "B1",
            "D1",
            "D2",
            "E0",
            "E1",
            "E2",
            "E3",
            "EC",
            "F1",
            "F2",
            "G1",
            "I1",
            "I2",
            "N1",
            "P1",
            "SP1",
            "SP2",
            "T1"
           ],
           "xaxis": "x",
           "y": [
            0.11533513805609147,
            0.11044758078179184,
            0.11398076937031641,
            0.06898521316715364,
            0.10850437299830876,
            0.1092579988346104,
            0.10881243979604648,
            0.12392032305384595,
            0.10993888368963395,
            0.115526354117347,
            0.10273674423272489,
            0.11117549981760713,
            0.11449350495624282,
            0.11574861697178382,
            0.11349265911040386,
            0.10897283641341199,
            0.11562715604274267,
            0.11426954700298086
           ],
           "yaxis": "y"
          },
          {
           "hovertemplate": "Bookmaker=VC_Bet<br>Year=2009<br>League=%{x}<br>Average Margin of Games=%{y}<extra></extra>",
           "legendgroup": "VC_Bet",
           "marker": {
            "color": "#FFA15A",
            "symbol": "circle"
           },
           "mode": "markers",
           "name": "VC_Bet",
           "orientation": "v",
           "showlegend": true,
           "type": "scatter",
           "x": [
            "B1",
            "D1",
            "D2",
            "E0",
            "E1",
            "E2",
            "E3",
            "EC",
            "F1",
            "F2",
            "G1",
            "I1",
            "I2",
            "N1",
            "P1",
            "SP1",
            "SP2",
            "T1"
           ],
           "xaxis": "x",
           "y": [
            0.10754335420203869,
            0.09670576663667732,
            0.10666295326183317,
            0.07694080077249642,
            0.08966780803558765,
            0.09988467620923963,
            0.10047765978839845,
            0.10908656182664447,
            0.10157482272244595,
            0.11027765333066301,
            0.10599526983628883,
            0.10051432700280427,
            0.10870287830622331,
            0.10707997459491304,
            0.1087522484864928,
            0.09611051156663399,
            0.10807671828447422,
            0.1082669902452664
           ],
           "yaxis": "y"
          },
          {
           "hovertemplate": "Bookmaker=AVG<br>Year=2009<br>League=%{x}<br>Average Margin of Games=%{y}<extra></extra>",
           "legendgroup": "AVG",
           "marker": {
            "color": "#19d3f3",
            "symbol": "circle"
           },
           "mode": "markers",
           "name": "AVG",
           "orientation": "v",
           "showlegend": true,
           "type": "scatter",
           "x": [
            "B1",
            "D1",
            "D2",
            "E0",
            "E1",
            "E2",
            "E3",
            "EC",
            "F1",
            "F2",
            "G1",
            "I1",
            "I2",
            "N1",
            "P1",
            "SP1",
            "SP2",
            "T1"
           ],
           "xaxis": "x",
           "y": [
            0.11462783101792678,
            0.09478183798308525,
            0.10030301786120246,
            0.08018085691689088,
            0.11012756889503916,
            0.11291823921506554,
            0.11295334123219784,
            0.12072735797418331,
            0.09737773258573819,
            0.11250797787679997,
            0.10418757607933035,
            0.09773684299309987,
            0.11543690348512511,
            0.11334374250127835,
            0.11083225515173518,
            0.09613159626884851,
            0.11601283213151473,
            0.11122689115511147
           ],
           "yaxis": "y"
          }
         ],
         "name": "2009"
        },
        {
         "data": [
          {
           "hovertemplate": "Bookmaker=Bet365<br>Year=2010<br>League=%{x}<br>Average Margin of Games=%{y}<extra></extra>",
           "legendgroup": "Bet365",
           "marker": {
            "color": "#636efa",
            "symbol": "circle"
           },
           "mode": "markers",
           "name": "Bet365",
           "orientation": "v",
           "showlegend": true,
           "type": "scatter",
           "x": [
            "B1",
            "D1",
            "D2",
            "E0",
            "E1",
            "E2",
            "E3",
            "EC",
            "F1",
            "F2",
            "G1",
            "I1",
            "I2",
            "N1",
            "P1",
            "SP1",
            "SP2",
            "T1"
           ],
           "xaxis": "x",
           "y": [
            0.06945952154641274,
            0.06482148270484975,
            0.06767113882124716,
            0.05440303879054478,
            0.06511506432364743,
            0.06471132388363102,
            0.06488069890047062,
            0.07964342456016456,
            0.06512454678189764,
            0.07164903567102116,
            0.07612803737591402,
            0.06487591708787449,
            0.0734767941345962,
            0.06669701036586521,
            0.07063988215551839,
            0.06505592158006693,
            0.07057189800639142,
            0.06978750053299766
           ],
           "yaxis": "y"
          },
          {
           "hovertemplate": "Bookmaker=Bet&Win<br>Year=2010<br>League=%{x}<br>Average Margin of Games=%{y}<extra></extra>",
           "legendgroup": "Bet&Win",
           "marker": {
            "color": "#EF553B",
            "symbol": "circle"
           },
           "mode": "markers",
           "name": "Bet&Win",
           "orientation": "v",
           "showlegend": true,
           "type": "scatter",
           "x": [
            "B1",
            "D1",
            "D2",
            "E0",
            "E1",
            "E2",
            "E3",
            "EC",
            "F1",
            "F2",
            "G1",
            "I1",
            "I2",
            "N1",
            "P1",
            "SP1",
            "SP2",
            "T1"
           ],
           "xaxis": "x",
           "y": [
            0.10141967357271527,
            0.0753103728624691,
            0.09908563176761838,
            0.07857445827401031,
            0.11137241782765438,
            0.11196827459508134,
            0.11157349082720709,
            0.11459316593127727,
            0.07893526441359386,
            0.10183243532566547,
            0.09080683875839735,
            0.08023874961201001,
            0.11045044535889173,
            0.10103814617716377,
            0.10128566914270848,
            0.078605888123457,
            0.11169220638330721,
            0.10224177850851036
           ],
           "yaxis": "y"
          },
          {
           "hovertemplate": "Bookmaker=Interwetten<br>Year=2010<br>League=%{x}<br>Average Margin of Games=%{y}<extra></extra>",
           "legendgroup": "Interwetten",
           "marker": {
            "color": "#00cc96",
            "symbol": "circle"
           },
           "mode": "markers",
           "name": "Interwetten",
           "orientation": "v",
           "showlegend": true,
           "type": "scatter",
           "x": [
            "B1",
            "D1",
            "D2",
            "E0",
            "E1",
            "E2",
            "E3",
            "EC",
            "F1",
            "F2",
            "G1",
            "I1",
            "I2",
            "N1",
            "P1",
            "SP1",
            "SP2",
            "T1"
           ],
           "xaxis": "x",
           "y": [
            0.13233028041777092,
            0.09415109200820558,
            0.09402328021446149,
            0.09377287537387634,
            0.13673544356074124,
            0.1370010767278149,
            0.13707487194912435,
            0.13680932272509452,
            0.09472093025691107,
            0.11116140535598108,
            0.10798862996839888,
            0.09286774910224097,
            0.12101814818624562,
            0.13288391769959243,
            0.11222334481630901,
            0.09287266390406722,
            0.13473616389385742,
            0.11382208853188198
           ],
           "yaxis": "y"
          },
          {
           "hovertemplate": "Bookmaker=William_Hill<br>Year=2010<br>League=%{x}<br>Average Margin of Games=%{y}<extra></extra>",
           "legendgroup": "William_Hill",
           "marker": {
            "color": "#ab63fa",
            "symbol": "circle"
           },
           "mode": "markers",
           "name": "William_Hill",
           "orientation": "v",
           "showlegend": true,
           "type": "scatter",
           "x": [
            "B1",
            "D1",
            "D2",
            "E0",
            "E1",
            "E2",
            "E3",
            "EC",
            "F1",
            "F2",
            "G1",
            "I1",
            "I2",
            "N1",
            "P1",
            "SP1",
            "SP2",
            "T1"
           ],
           "xaxis": "x",
           "y": [
            0.09429650556141109,
            0.08180483565597116,
            0.09741857708288307,
            0.06933011426362255,
            0.08923119739952143,
            0.09293636731200149,
            0.09346304597431856,
            0.1161186651537323,
            0.0817579430560752,
            0.09770191338378367,
            0.08574652153408198,
            0.08232983941241331,
            0.09832455106872173,
            0.09723065483675868,
            0.09541221763725423,
            0.08433225359119631,
            0.0961363138573204,
            0.09653092554534747
           ],
           "yaxis": "y"
          },
          {
           "hovertemplate": "Bookmaker=VC_Bet<br>Year=2010<br>League=%{x}<br>Average Margin of Games=%{y}<extra></extra>",
           "legendgroup": "VC_Bet",
           "marker": {
            "color": "#FFA15A",
            "symbol": "circle"
           },
           "mode": "markers",
           "name": "VC_Bet",
           "orientation": "v",
           "showlegend": true,
           "type": "scatter",
           "x": [
            "B1",
            "D1",
            "D2",
            "E0",
            "E1",
            "E2",
            "E3",
            "EC",
            "F1",
            "F2",
            "G1",
            "I1",
            "I2",
            "N1",
            "P1",
            "SP1",
            "SP2",
            "T1"
           ],
           "xaxis": "x",
           "y": [
            0.08193248385196063,
            0.061395165179828286,
            0.09811485210795706,
            0.046675674499216516,
            0.06039391221050043,
            0.06740174963243105,
            0.06787720178098684,
            0.09286581880661908,
            0.065294158816943,
            0.10731830974427989,
            0.08202163189193425,
            0.06368051241241116,
            0.08728796559654725,
            0.08468006828095546,
            0.0872890338325731,
            0.06407988211766455,
            0.09577759126601891,
            0.0828381937935588
           ],
           "yaxis": "y"
          },
          {
           "hovertemplate": "Bookmaker=AVG<br>Year=2010<br>League=%{x}<br>Average Margin of Games=%{y}<extra></extra>",
           "legendgroup": "AVG",
           "marker": {
            "color": "#19d3f3",
            "symbol": "circle"
           },
           "mode": "markers",
           "name": "AVG",
           "orientation": "v",
           "showlegend": true,
           "type": "scatter",
           "x": [
            "B1",
            "D1",
            "D2",
            "E0",
            "E1",
            "E2",
            "E3",
            "EC",
            "F1",
            "F2",
            "G1",
            "I1",
            "I2",
            "N1",
            "P1",
            "SP1",
            "SP2",
            "T1"
           ],
           "xaxis": "x",
           "y": [
            0.1004842521961726,
            0.07675704402529207,
            0.09596170762320325,
            0.07045175534966298,
            0.09723028134889905,
            0.10024844466830035,
            0.1005722683698842,
            0.11333132453392726,
            0.07864153997117357,
            0.1030403373806607,
            0.09000952659327188,
            0.07835163986337772,
            0.1021701389304458,
            0.10161051710436393,
            0.09759088575724434,
            0.07851094029499477,
            0.10757301796050324,
            0.09723519966484294
           ],
           "yaxis": "y"
          }
         ],
         "name": "2010"
        },
        {
         "data": [
          {
           "hovertemplate": "Bookmaker=Bet365<br>Year=2011<br>League=%{x}<br>Average Margin of Games=%{y}<extra></extra>",
           "legendgroup": "Bet365",
           "marker": {
            "color": "#636efa",
            "symbol": "circle"
           },
           "mode": "markers",
           "name": "Bet365",
           "orientation": "v",
           "showlegend": true,
           "type": "scatter",
           "x": [
            "B1",
            "D1",
            "D2",
            "E0",
            "E1",
            "E2",
            "E3",
            "EC",
            "F1",
            "F2",
            "G1",
            "I1",
            "I2",
            "N1",
            "P1",
            "SP1",
            "SP2",
            "T1"
           ],
           "xaxis": "x",
           "y": [
            0.06887864497982157,
            0.06430163413571584,
            0.06550394686210359,
            0.05471924994902684,
            0.06448735183537065,
            0.06474505732426168,
            0.0647903164845302,
            0.07266747033860363,
            0.06466383305335875,
            0.06866573541605503,
            0.07114580866835737,
            0.06553281937557444,
            0.07107533286949817,
            0.06752643191780491,
            0.06637698279580012,
            0.06534668515267793,
            0.07073052590465262,
            0.06816883944689166
           ],
           "yaxis": "y"
          },
          {
           "hovertemplate": "Bookmaker=Bet&Win<br>Year=2011<br>League=%{x}<br>Average Margin of Games=%{y}<extra></extra>",
           "legendgroup": "Bet&Win",
           "marker": {
            "color": "#EF553B",
            "symbol": "circle"
           },
           "mode": "markers",
           "name": "Bet&Win",
           "orientation": "v",
           "showlegend": true,
           "type": "scatter",
           "x": [
            "B1",
            "D1",
            "D2",
            "E0",
            "E1",
            "E2",
            "E3",
            "EC",
            "F1",
            "F2",
            "G1",
            "I1",
            "I2",
            "N1",
            "P1",
            "SP1",
            "SP2",
            "T1"
           ],
           "xaxis": "x",
           "y": [
            0.08821843416959814,
            0.0720011351195542,
            0.08949609648293606,
            0.0730348481614515,
            0.09620154826502267,
            0.10713122110565887,
            0.1073025684938648,
            0.11039809287322754,
            0.07402206312425672,
            0.09407360406992349,
            0.07962863392616366,
            0.07471227214343672,
            0.09051211253305985,
            0.08936875583183918,
            0.0916707632027662,
            0.07363843827569497,
            0.10659527169988206,
            0.08939981898407874
           ],
           "yaxis": "y"
          },
          {
           "hovertemplate": "Bookmaker=Interwetten<br>Year=2011<br>League=%{x}<br>Average Margin of Games=%{y}<extra></extra>",
           "legendgroup": "Interwetten",
           "marker": {
            "color": "#00cc96",
            "symbol": "circle"
           },
           "mode": "markers",
           "name": "Interwetten",
           "orientation": "v",
           "showlegend": true,
           "type": "scatter",
           "x": [
            "B1",
            "D1",
            "D2",
            "E0",
            "E1",
            "E2",
            "E3",
            "EC",
            "F1",
            "F2",
            "G1",
            "I1",
            "I2",
            "N1",
            "P1",
            "SP1",
            "SP2",
            "T1"
           ],
           "xaxis": "x",
           "y": [
            0.12793337062576152,
            0.10158979172238519,
            0.10197893754084904,
            0.10102679055940743,
            0.13670366478569462,
            0.13630381114713422,
            0.13648338331464363,
            0.13648714169844783,
            0.10177555474064716,
            0.11168719725533464,
            0.10284926309655172,
            0.10189660404790546,
            0.11110100041766154,
            0.1275536916891046,
            0.11283329618652994,
            0.10165871285303994,
            0.128227497388318,
            0.11351661865261467
           ],
           "yaxis": "y"
          },
          {
           "hovertemplate": "Bookmaker=William_Hill<br>Year=2011<br>League=%{x}<br>Average Margin of Games=%{y}<extra></extra>",
           "legendgroup": "William_Hill",
           "marker": {
            "color": "#ab63fa",
            "symbol": "circle"
           },
           "mode": "markers",
           "name": "William_Hill",
           "orientation": "v",
           "showlegend": true,
           "type": "scatter",
           "x": [
            "B1",
            "D1",
            "D2",
            "E0",
            "E1",
            "E2",
            "E3",
            "EC",
            "F1",
            "F2",
            "G1",
            "I1",
            "I2",
            "N1",
            "P1",
            "SP1",
            "SP2",
            "T1"
           ],
           "xaxis": "x",
           "y": [
            0.09259459250736407,
            0.0640925845318176,
            0.09487247396437193,
            0.06516777178253332,
            0.06868379805589538,
            0.06953637081830352,
            0.06959238605233418,
            0.09789633482146873,
            0.06397528875531117,
            0.09422312329526819,
            0.06478783196386001,
            0.06453684673965741,
            0.09575859376935258,
            0.09709561269480187,
            0.0955269051494794,
            0.06530295623331714,
            0.09810240589871054,
            0.09388710563979959
           ],
           "yaxis": "y"
          },
          {
           "hovertemplate": "Bookmaker=VC_Bet<br>Year=2011<br>League=%{x}<br>Average Margin of Games=%{y}<extra></extra>",
           "legendgroup": "VC_Bet",
           "marker": {
            "color": "#FFA15A",
            "symbol": "circle"
           },
           "mode": "markers",
           "name": "VC_Bet",
           "orientation": "v",
           "showlegend": true,
           "type": "scatter",
           "x": [
            "B1",
            "D1",
            "D2",
            "E0",
            "E1",
            "E2",
            "E3",
            "EC",
            "F1",
            "F2",
            "G1",
            "I1",
            "I2",
            "N1",
            "P1",
            "SP1",
            "SP2",
            "T1"
           ],
           "xaxis": "x",
           "y": [
            0.05977402439920619,
            0.03434554573529782,
            0.08028436465744815,
            0.033629162793407066,
            0.035062337462225215,
            0.03421766249867941,
            0.03407286374094335,
            0.06347130259911186,
            0.03752813753421762,
            0.09814195971340146,
            0.05169336785380531,
            0.042748725831505664,
            0.0939798822222391,
            0.06330747680684398,
            0.05719845750119501,
            0.034762156388027814,
            0.07864499982352811,
            0.08454382023454007
           ],
           "yaxis": "y"
          },
          {
           "hovertemplate": "Bookmaker=AVG<br>Year=2011<br>League=%{x}<br>Average Margin of Games=%{y}<extra></extra>",
           "legendgroup": "AVG",
           "marker": {
            "color": "#19d3f3",
            "symbol": "circle"
           },
           "mode": "markers",
           "name": "AVG",
           "orientation": "v",
           "showlegend": true,
           "type": "scatter",
           "x": [
            "B1",
            "D1",
            "D2",
            "E0",
            "E1",
            "E2",
            "E3",
            "EC",
            "F1",
            "F2",
            "G1",
            "I1",
            "I2",
            "N1",
            "P1",
            "SP1",
            "SP2",
            "T1"
           ],
           "xaxis": "x",
           "y": [
            0.09014994804367557,
            0.06600386697733306,
            0.09017921176471891,
            0.06603752489912362,
            0.08143745393230926,
            0.0840922802103292,
            0.084185375751319,
            0.09980827241248763,
            0.0672523413607439,
            0.09791581536175921,
            0.0726495545219827,
            0.06899732161274225,
            0.09649036883594464,
            0.09164150863882115,
            0.08740591653550477,
            0.06659325341396607,
            0.10096386031802379,
            0.09390918832459454
           ],
           "yaxis": "y"
          }
         ],
         "name": "2011"
        },
        {
         "data": [
          {
           "hovertemplate": "Bookmaker=Bet365<br>Year=2012<br>League=%{x}<br>Average Margin of Games=%{y}<extra></extra>",
           "legendgroup": "Bet365",
           "marker": {
            "color": "#636efa",
            "symbol": "circle"
           },
           "mode": "markers",
           "name": "Bet365",
           "orientation": "v",
           "showlegend": true,
           "type": "scatter",
           "x": [
            "B1",
            "D1",
            "D2",
            "E0",
            "E1",
            "E2",
            "E3",
            "EC",
            "F1",
            "F2",
            "G1",
            "I1",
            "I2",
            "N1",
            "P1",
            "SP1",
            "SP2",
            "T1"
           ],
           "xaxis": "x",
           "y": [
            0.06581052830560283,
            0.06389671221522057,
            0.06487418895854277,
            0.05431598199823085,
            0.06469941573123378,
            0.06474494314945467,
            0.06462668679377837,
            0.06902583579889855,
            0.06430019567725696,
            0.06461424764003747,
            0.06708540332007554,
            0.06437035187416874,
            0.0664804153286806,
            0.0654234448590486,
            0.06487530816813555,
            0.06413832183102701,
            0.06660861858768904,
            0.06582346190080571
           ],
           "yaxis": "y"
          },
          {
           "hovertemplate": "Bookmaker=Bet&Win<br>Year=2012<br>League=%{x}<br>Average Margin of Games=%{y}<extra></extra>",
           "legendgroup": "Bet&Win",
           "marker": {
            "color": "#EF553B",
            "symbol": "circle"
           },
           "mode": "markers",
           "name": "Bet&Win",
           "orientation": "v",
           "showlegend": true,
           "type": "scatter",
           "x": [
            "B1",
            "D1",
            "D2",
            "E0",
            "E1",
            "E2",
            "E3",
            "EC",
            "F1",
            "F2",
            "G1",
            "I1",
            "I2",
            "N1",
            "P1",
            "SP1",
            "SP2",
            "T1"
           ],
           "xaxis": "x",
           "y": [
            0.09058425075175888,
            0.062117985620233046,
            0.07409999859767863,
            0.06316271093864288,
            0.07699064711475899,
            0.10031640644213706,
            0.10030676298794017,
            0.11037195748862379,
            0.0662621014849263,
            0.08106994102506074,
            0.07998171487310293,
            0.06499928178009585,
            0.08133767825327146,
            0.08693692731851548,
            0.07897749997611607,
            0.06447512184546661,
            0.10050142560957201,
            0.0786043442307617
           ],
           "yaxis": "y"
          },
          {
           "hovertemplate": "Bookmaker=Interwetten<br>Year=2012<br>League=%{x}<br>Average Margin of Games=%{y}<extra></extra>",
           "legendgroup": "Interwetten",
           "marker": {
            "color": "#00cc96",
            "symbol": "circle"
           },
           "mode": "markers",
           "name": "Interwetten",
           "orientation": "v",
           "showlegend": true,
           "type": "scatter",
           "x": [
            "B1",
            "D1",
            "D2",
            "E0",
            "E1",
            "E2",
            "E3",
            "EC",
            "F1",
            "F2",
            "G1",
            "I1",
            "I2",
            "N1",
            "P1",
            "SP1",
            "SP2",
            "T1"
           ],
           "xaxis": "x",
           "y": [
            0.11899080053489117,
            0.09447911765192514,
            0.09472345256036856,
            0.09357573134869127,
            0.11823076555513494,
            0.13668770980603112,
            0.1366732759589488,
            0.13709558514863562,
            0.09447852895758069,
            0.11129608056150668,
            0.10400621090102388,
            0.09542515423024495,
            0.11089861086766753,
            0.1208115688403304,
            0.11251438258617463,
            0.09556512153770814,
            0.11296549580394548,
            0.11371775191950252
           ],
           "yaxis": "y"
          },
          {
           "hovertemplate": "Bookmaker=William_Hill<br>Year=2012<br>League=%{x}<br>Average Margin of Games=%{y}<extra></extra>",
           "legendgroup": "William_Hill",
           "marker": {
            "color": "#ab63fa",
            "symbol": "circle"
           },
           "mode": "markers",
           "name": "William_Hill",
           "orientation": "v",
           "showlegend": true,
           "type": "scatter",
           "x": [
            "B1",
            "D1",
            "D2",
            "E0",
            "E1",
            "E2",
            "E3",
            "EC",
            "F1",
            "F2",
            "G1",
            "I1",
            "I2",
            "N1",
            "P1",
            "SP1",
            "SP2",
            "T1"
           ],
           "xaxis": "x",
           "y": [
            0.09293809802956779,
            0.0664238586093859,
            0.09339060865351609,
            0.06713928947224418,
            0.0695604938710475,
            0.0699020035021852,
            0.07065086303837877,
            0.08382367678973715,
            0.06474014325925742,
            0.09410914156862339,
            0.06931278739299383,
            0.06499105895823504,
            0.09417215410777167,
            0.09637041941157058,
            0.09198556115298391,
            0.06421844831866358,
            0.09562137518484169,
            0.09520746801601353
           ],
           "yaxis": "y"
          },
          {
           "hovertemplate": "Bookmaker=VC_Bet<br>Year=2012<br>League=%{x}<br>Average Margin of Games=%{y}<extra></extra>",
           "legendgroup": "VC_Bet",
           "marker": {
            "color": "#FFA15A",
            "symbol": "circle"
           },
           "mode": "markers",
           "name": "VC_Bet",
           "orientation": "v",
           "showlegend": true,
           "type": "scatter",
           "x": [
            "B1",
            "D1",
            "D2",
            "E0",
            "E1",
            "E2",
            "E3",
            "EC",
            "F1",
            "F2",
            "G1",
            "I1",
            "I2",
            "N1",
            "P1",
            "SP1",
            "SP2",
            "T1"
           ],
           "xaxis": "x",
           "y": [
            0.052292337317059505,
            0.031245163073332045,
            0.04959001271280515,
            0.03124872108279843,
            0.032324757126430716,
            0.031677972956612975,
            0.032112532687271,
            0.04913830655819746,
            0.033233797056334606,
            0.05125341950070087,
            0.050038507182405774,
            0.03301152698511024,
            0.053564536897214916,
            0.04282909953434022,
            0.041844201673462256,
            0.03244639855116342,
            0.043158100587481096,
            0.06013072729808236
           ],
           "yaxis": "y"
          },
          {
           "hovertemplate": "Bookmaker=AVG<br>Year=2012<br>League=%{x}<br>Average Margin of Games=%{y}<extra></extra>",
           "legendgroup": "AVG",
           "marker": {
            "color": "#19d3f3",
            "symbol": "circle"
           },
           "mode": "markers",
           "name": "AVG",
           "orientation": "v",
           "showlegend": true,
           "type": "scatter",
           "x": [
            "B1",
            "D1",
            "D2",
            "E0",
            "E1",
            "E2",
            "E3",
            "EC",
            "F1",
            "F2",
            "G1",
            "I1",
            "I2",
            "N1",
            "P1",
            "SP1",
            "SP2",
            "T1"
           ],
           "xaxis": "x",
           "y": [
            0.08676365448168015,
            0.061301690196929264,
            0.07630742113081461,
            0.061875989543399526,
            0.07216767708921723,
            0.08199419112121584,
            0.08233411654746263,
            0.0927489869937475,
            0.0628873001536067,
            0.08273335542696833,
            0.07377278583326856,
            0.06283624629526094,
            0.08350566121958584,
            0.08418697916404434,
            0.07930371895014711,
            0.06215501565971469,
            0.08612449396607912,
            0.08527727246455226
           ],
           "yaxis": "y"
          }
         ],
         "name": "2012"
        },
        {
         "data": [
          {
           "hovertemplate": "Bookmaker=Bet365<br>Year=2013<br>League=%{x}<br>Average Margin of Games=%{y}<extra></extra>",
           "legendgroup": "Bet365",
           "marker": {
            "color": "#636efa",
            "symbol": "circle"
           },
           "mode": "markers",
           "name": "Bet365",
           "orientation": "v",
           "showlegend": true,
           "type": "scatter",
           "x": [
            "B1",
            "D1",
            "D2",
            "E0",
            "E1",
            "E2",
            "E3",
            "EC",
            "F1",
            "F2",
            "G1",
            "I1",
            "I2",
            "N1",
            "P1",
            "SP1",
            "SP2",
            "T1"
           ],
           "xaxis": "x",
           "y": [
            0.06509287129738786,
            0.06343713990009588,
            0.06396201155353645,
            0.0259726073944728,
            null,
            0.02925007652215986,
            null,
            0.06752199356280181,
            0.06460657805579981,
            0.06467651840157221,
            0.06533527240932323,
            0.06440175196802221,
            0.06587009506411419,
            0.06604752636872822,
            0.06493791565187172,
            0.06367482156274185,
            0.06444193476745712,
            0.06459423240365315
           ],
           "yaxis": "y"
          },
          {
           "hovertemplate": "Bookmaker=Bet&Win<br>Year=2013<br>League=%{x}<br>Average Margin of Games=%{y}<extra></extra>",
           "legendgroup": "Bet&Win",
           "marker": {
            "color": "#EF553B",
            "symbol": "circle"
           },
           "mode": "markers",
           "name": "Bet&Win",
           "orientation": "v",
           "showlegend": true,
           "type": "scatter",
           "x": [
            "B1",
            "D1",
            "D2",
            "E0",
            "E1",
            "E2",
            "E3",
            "EC",
            "F1",
            "F2",
            "G1",
            "I1",
            "I2",
            "N1",
            "P1",
            "SP1",
            "SP2",
            "T1"
           ],
           "xaxis": "x",
           "y": [
            0.09984028719446636,
            0.06481385353469328,
            0.08054695919389102,
            0.065643596821756,
            0.08048038998495292,
            0.10092819196987268,
            0.1008565693534133,
            0.11028170611951944,
            0.06553303422027003,
            0.08074673060344092,
            0.07062676498644115,
            0.06577702136697391,
            0.08069365665350885,
            0.09978401714047176,
            0.08098249402806594,
            0.06560789723820394,
            0.10073176973232711,
            0.08054560579211396
           ],
           "yaxis": "y"
          },
          {
           "hovertemplate": "Bookmaker=Interwetten<br>Year=2013<br>League=%{x}<br>Average Margin of Games=%{y}<extra></extra>",
           "legendgroup": "Interwetten",
           "marker": {
            "color": "#00cc96",
            "symbol": "circle"
           },
           "mode": "markers",
           "name": "Interwetten",
           "orientation": "v",
           "showlegend": true,
           "type": "scatter",
           "x": [
            "B1",
            "D1",
            "D2",
            "E0",
            "E1",
            "E2",
            "E3",
            "EC",
            "F1",
            "F2",
            "G1",
            "I1",
            "I2",
            "N1",
            "P1",
            "SP1",
            "SP2",
            "T1"
           ],
           "xaxis": "x",
           "y": [
            0.11356087776518504,
            0.08077825195403913,
            0.08083447424079472,
            0.08063364640010283,
            0.10730217962256178,
            0.13660410774015933,
            0.13660052197908426,
            0.13649690684136953,
            0.08175706843138625,
            0.11073990658454054,
            0.10806924260333192,
            0.08315189021518933,
            0.11050482816098624,
            0.11381656077035307,
            0.11239343623209404,
            0.08093861265294407,
            0.11309704845493608,
            0.11310463013519971
           ],
           "yaxis": "y"
          },
          {
           "hovertemplate": "Bookmaker=William_Hill<br>Year=2013<br>League=%{x}<br>Average Margin of Games=%{y}<extra></extra>",
           "legendgroup": "William_Hill",
           "marker": {
            "color": "#ab63fa",
            "symbol": "circle"
           },
           "mode": "markers",
           "name": "William_Hill",
           "orientation": "v",
           "showlegend": true,
           "type": "scatter",
           "x": [
            "B1",
            "D1",
            "D2",
            "E0",
            "E1",
            "E2",
            "E3",
            "EC",
            "F1",
            "F2",
            "G1",
            "I1",
            "I2",
            "N1",
            "P1",
            "SP1",
            "SP2",
            "T1"
           ],
           "xaxis": "x",
           "y": [
            0.08953454523049836,
            0.06378749955198557,
            0.09448119666494276,
            0.06248771236489866,
            0.06720768645378826,
            0.06641050948612733,
            0.06845107857272402,
            0.07701022487420851,
            0.06319774019631569,
            0.09186708904948228,
            0.07233487316315645,
            0.064125696247706,
            0.09324381517717437,
            0.09367216894928276,
            0.09061895586110039,
            0.06344237440849376,
            0.09171764892849076,
            0.09037459311175758
           ],
           "yaxis": "y"
          },
          {
           "hovertemplate": "Bookmaker=VC_Bet<br>Year=2013<br>League=%{x}<br>Average Margin of Games=%{y}<extra></extra>",
           "legendgroup": "VC_Bet",
           "marker": {
            "color": "#FFA15A",
            "symbol": "circle"
           },
           "mode": "markers",
           "name": "VC_Bet",
           "orientation": "v",
           "showlegend": true,
           "type": "scatter",
           "x": [
            "B1",
            "D1",
            "D2",
            "E0",
            "E1",
            "E2",
            "E3",
            "EC",
            "F1",
            "F2",
            "G1",
            "I1",
            "I2",
            "N1",
            "P1",
            "SP1",
            "SP2",
            "T1"
           ],
           "xaxis": "x",
           "y": [
            0.050763685236949345,
            0.030839135326697603,
            0.04278650982853278,
            0.02831863695744083,
            0.027207713151006292,
            0.027766987834517587,
            0.02763421114792837,
            0.048345151926742214,
            0.03245866523056963,
            0.04704495804823285,
            0.0582037368147873,
            0.031367395582810695,
            0.049197556730816966,
            0.043982263081179675,
            0.04287694555166122,
            0.030776877658947665,
            0.04257357581119235,
            0.05769905125931445
           ],
           "yaxis": "y"
          },
          {
           "hovertemplate": "Bookmaker=AVG<br>Year=2013<br>League=%{x}<br>Average Margin of Games=%{y}<extra></extra>",
           "legendgroup": "AVG",
           "marker": {
            "color": "#19d3f3",
            "symbol": "circle"
           },
           "mode": "markers",
           "name": "AVG",
           "orientation": "v",
           "showlegend": true,
           "type": "scatter",
           "x": [
            "B1",
            "D1",
            "D2",
            "E0",
            "E1",
            "E2",
            "E3",
            "EC",
            "F1",
            "F2",
            "G1",
            "I1",
            "I2",
            "N1",
            "P1",
            "SP1",
            "SP2",
            "T1"
           ],
           "xaxis": "x",
           "y": [
            0.08671500844157883,
            0.05809346687431985,
            0.07320032413442171,
            0.0575470207074645,
            0.0688038151697862,
            0.08018746165219927,
            0.08076431172496354,
            0.09067302537650983,
            0.059274825579560576,
            0.08084742052898966,
            0.07559483562534296,
            0.05947285460523589,
            0.08200117403281176,
            0.08564400526436476,
            0.07970549917272733,
            0.05845531388501439,
            0.08528094214505189,
            0.08403530483387933
           ],
           "yaxis": "y"
          }
         ],
         "name": "2013"
        },
        {
         "data": [
          {
           "hovertemplate": "Bookmaker=Bet365<br>Year=2014<br>League=%{x}<br>Average Margin of Games=%{y}<extra></extra>",
           "legendgroup": "Bet365",
           "marker": {
            "color": "#636efa",
            "symbol": "circle"
           },
           "mode": "markers",
           "name": "Bet365",
           "orientation": "v",
           "showlegend": true,
           "type": "scatter",
           "x": [
            "B1",
            "D1",
            "D2",
            "E0",
            "E1",
            "E2",
            "E3",
            "EC",
            "F1",
            "F2",
            "G1",
            "I1",
            "I2",
            "N1",
            "P1",
            "SP1",
            "SP2",
            "T1"
           ],
           "xaxis": "x",
           "y": [
            0.06450247870905317,
            0.0625200983458202,
            0.06486880944506455,
            0.026070315925290664,
            0.02604593666435204,
            0.02631906415914977,
            0.02667549820558404,
            0.06467272756184243,
            0.06296524533564632,
            0.06515894594727455,
            0.0709657854997407,
            0.06287517406528884,
            0.06565651291338474,
            0.06555060550219215,
            0.0648944848032299,
            0.06228911885536261,
            0.06418397365770893,
            0.06434530953100658
           ],
           "yaxis": "y"
          },
          {
           "hovertemplate": "Bookmaker=Bet&Win<br>Year=2014<br>League=%{x}<br>Average Margin of Games=%{y}<extra></extra>",
           "legendgroup": "Bet&Win",
           "marker": {
            "color": "#EF553B",
            "symbol": "circle"
           },
           "mode": "markers",
           "name": "Bet&Win",
           "orientation": "v",
           "showlegend": true,
           "type": "scatter",
           "x": [
            "B1",
            "D1",
            "D2",
            "E0",
            "E1",
            "E2",
            "E3",
            "EC",
            "F1",
            "F2",
            "G1",
            "I1",
            "I2",
            "N1",
            "P1",
            "SP1",
            "SP2",
            "T1"
           ],
           "xaxis": "x",
           "y": [
            0.0946015076498742,
            0.06643379757937522,
            0.0801369315524411,
            0.06205740580688285,
            0.08094034780236029,
            0.10057095415175824,
            0.10054458214946659,
            0.1100730420782339,
            0.06284906308808008,
            0.08005139613762946,
            0.07531212619604871,
            0.06596475930263729,
            0.08066178140458363,
            0.09993959836583996,
            0.07976374474050305,
            0.06650176621888705,
            0.10028469100063338,
            0.08015349712947317
           ],
           "yaxis": "y"
          },
          {
           "hovertemplate": "Bookmaker=Interwetten<br>Year=2014<br>League=%{x}<br>Average Margin of Games=%{y}<extra></extra>",
           "legendgroup": "Interwetten",
           "marker": {
            "color": "#00cc96",
            "symbol": "circle"
           },
           "mode": "markers",
           "name": "Interwetten",
           "orientation": "v",
           "showlegend": true,
           "type": "scatter",
           "x": [
            "B1",
            "D1",
            "D2",
            "E0",
            "E1",
            "E2",
            "E3",
            "EC",
            "F1",
            "F2",
            "G1",
            "I1",
            "I2",
            "N1",
            "P1",
            "SP1",
            "SP2",
            "T1"
           ],
           "xaxis": "x",
           "y": [
            0.11316171507527235,
            0.08048885827064156,
            0.08093140869741547,
            0.08050874105530553,
            0.11282067935693561,
            0.136752378669046,
            0.13667458660768123,
            0.1349174009604807,
            0.08066430161649768,
            0.11098769511259086,
            0.1122735551117201,
            0.0805177864549575,
            0.11052200280228229,
            0.11314241816368156,
            0.11267123349146484,
            0.08084982062396735,
            0.11291627112476237,
            0.11286949408618613
           ],
           "yaxis": "y"
          },
          {
           "hovertemplate": "Bookmaker=William_Hill<br>Year=2014<br>League=%{x}<br>Average Margin of Games=%{y}<extra></extra>",
           "legendgroup": "William_Hill",
           "marker": {
            "color": "#ab63fa",
            "symbol": "circle"
           },
           "mode": "markers",
           "name": "William_Hill",
           "orientation": "v",
           "showlegend": true,
           "type": "scatter",
           "x": [
            "B1",
            "D1",
            "D2",
            "E0",
            "E1",
            "E2",
            "E3",
            "EC",
            "F1",
            "F2",
            "G1",
            "I1",
            "I2",
            "N1",
            "P1",
            "SP1",
            "SP2",
            "T1"
           ],
           "xaxis": "x",
           "y": [
            0.0900348321238368,
            0.06376453854667383,
            0.0906463961459066,
            0.06440989058631474,
            0.06483387822097547,
            0.06526247978666036,
            0.06664262221942296,
            0.06810872399129377,
            0.063441204247372,
            0.09006721335745951,
            0.09781345706875429,
            0.06456776879556834,
            0.09423593107468316,
            0.08221185893477347,
            0.08973124248664398,
            0.06319811650784303,
            0.09277777012266909,
            0.08938869462687576
           ],
           "yaxis": "y"
          },
          {
           "hovertemplate": "Bookmaker=VC_Bet<br>Year=2014<br>League=%{x}<br>Average Margin of Games=%{y}<extra></extra>",
           "legendgroup": "VC_Bet",
           "marker": {
            "color": "#FFA15A",
            "symbol": "circle"
           },
           "mode": "markers",
           "name": "VC_Bet",
           "orientation": "v",
           "showlegend": true,
           "type": "scatter",
           "x": [
            "B1",
            "D1",
            "D2",
            "E0",
            "E1",
            "E2",
            "E3",
            "EC",
            "F1",
            "F2",
            "G1",
            "I1",
            "I2",
            "N1",
            "P1",
            "SP1",
            "SP2",
            "T1"
           ],
           "xaxis": "x",
           "y": [
            0.05188253855138571,
            0.035513552599994856,
            0.043626279791216145,
            0.026205459418768475,
            0.027459605813106816,
            0.030768552234689623,
            0.029283655974273768,
            0.053961259689150394,
            0.03194020989668088,
            0.04299483215182823,
            0.06331919488588846,
            0.029693609054214642,
            0.04362558764735071,
            0.041955515739720006,
            0.044732390256292796,
            0.03137997848287506,
            0.04336157269367198,
            0.05488950891680895
           ],
           "yaxis": "y"
          },
          {
           "hovertemplate": "Bookmaker=AVG<br>Year=2014<br>League=%{x}<br>Average Margin of Games=%{y}<extra></extra>",
           "legendgroup": "AVG",
           "marker": {
            "color": "#19d3f3",
            "symbol": "circle"
           },
           "mode": "markers",
           "name": "AVG",
           "orientation": "v",
           "showlegend": true,
           "type": "scatter",
           "x": [
            "B1",
            "D1",
            "D2",
            "E0",
            "E1",
            "E2",
            "E3",
            "EC",
            "F1",
            "F2",
            "G1",
            "I1",
            "I2",
            "N1",
            "P1",
            "SP1",
            "SP2",
            "T1"
           ],
           "xaxis": "x",
           "y": [
            0.08585828317273457,
            0.05989831960042171,
            0.07230237004988513,
            0.05640718051516362,
            0.06967358931040116,
            0.08067016390274669,
            0.08053583217307721,
            0.08938124989400392,
            0.05804192024027158,
            0.07890577599333462,
            0.08525748199034855,
            0.05822473834964168,
            0.08081575390089768,
            0.08196654292371962,
            0.0796536642686819,
            0.058569171030689,
            0.08555639434264443,
            0.08269743618792924
           ],
           "yaxis": "y"
          }
         ],
         "name": "2014"
        },
        {
         "data": [
          {
           "hovertemplate": "Bookmaker=Bet365<br>Year=2015<br>League=%{x}<br>Average Margin of Games=%{y}<extra></extra>",
           "legendgroup": "Bet365",
           "marker": {
            "color": "#636efa",
            "symbol": "circle"
           },
           "mode": "markers",
           "name": "Bet365",
           "orientation": "v",
           "showlegend": true,
           "type": "scatter",
           "x": [
            "B1",
            "D1",
            "D2",
            "E0",
            "E1",
            "E2",
            "E3",
            "EC",
            "F1",
            "F2",
            "G1",
            "I1",
            "I2",
            "N1",
            "P1",
            "SP1",
            "SP2",
            "T1"
           ],
           "xaxis": "x",
           "y": [
            0.0652205764984459,
            0.05054167071136868,
            0.0645326256345493,
            0.02748571428424654,
            0.027381268246989998,
            null,
            0.026606123341605566,
            0.0651644191843777,
            0.0507435365691007,
            0.06466598368513495,
            0.06670566411831608,
            0.05112711890753161,
            0.06421612317319705,
            0.06525736945089389,
            0.06578853213316163,
            0.05109102075663714,
            0.06481929549271889,
            0.06502797397451578
           ],
           "yaxis": "y"
          },
          {
           "hovertemplate": "Bookmaker=Bet&Win<br>Year=2015<br>League=%{x}<br>Average Margin of Games=%{y}<extra></extra>",
           "legendgroup": "Bet&Win",
           "marker": {
            "color": "#EF553B",
            "symbol": "circle"
           },
           "mode": "markers",
           "name": "Bet&Win",
           "orientation": "v",
           "showlegend": true,
           "type": "scatter",
           "x": [
            "B1",
            "D1",
            "D2",
            "E0",
            "E1",
            "E2",
            "E3",
            "EC",
            "F1",
            "F2",
            "G1",
            "I1",
            "I2",
            "N1",
            "P1",
            "SP1",
            "SP2",
            "T1"
           ],
           "xaxis": "x",
           "y": [
            0.07011512773283876,
            0.06539792368921285,
            0.07950237627465068,
            0.05873149208388739,
            0.08027381382412414,
            0.10025706877560432,
            0.0999960620073969,
            0.11033682050089458,
            0.06265521239993548,
            0.0800359336368239,
            0.08022646746694219,
            0.062114545292377234,
            0.08052149876737034,
            0.08586117972180346,
            0.07957113442994658,
            0.0610481009508019,
            0.10022106059929653,
            0.08045055897131455
           ],
           "yaxis": "y"
          },
          {
           "hovertemplate": "Bookmaker=Interwetten<br>Year=2015<br>League=%{x}<br>Average Margin of Games=%{y}<extra></extra>",
           "legendgroup": "Interwetten",
           "marker": {
            "color": "#00cc96",
            "symbol": "circle"
           },
           "mode": "markers",
           "name": "Interwetten",
           "orientation": "v",
           "showlegend": true,
           "type": "scatter",
           "x": [
            "B1",
            "D1",
            "D2",
            "E0",
            "E1",
            "E2",
            "E3",
            "EC",
            "F1",
            "F2",
            "G1",
            "I1",
            "I2",
            "N1",
            "P1",
            "SP1",
            "SP2",
            "T1"
           ],
           "xaxis": "x",
           "y": [
            0.0818160551627298,
            0.08035229874998315,
            0.08081343930722924,
            0.08053575061229806,
            0.11293405881208214,
            0.13095932816364403,
            0.13104246003147305,
            0.1297480007807045,
            0.0803909880751709,
            0.11041466603563335,
            0.11089737181183737,
            0.08028801244573225,
            0.11118002453042954,
            0.10918422528043736,
            0.10737533770000633,
            0.08067240790239157,
            0.11093073774657827,
            0.10678528056552075
           ],
           "yaxis": "y"
          },
          {
           "hovertemplate": "Bookmaker=William_Hill<br>Year=2015<br>League=%{x}<br>Average Margin of Games=%{y}<extra></extra>",
           "legendgroup": "William_Hill",
           "marker": {
            "color": "#ab63fa",
            "symbol": "circle"
           },
           "mode": "markers",
           "name": "William_Hill",
           "orientation": "v",
           "showlegend": true,
           "type": "scatter",
           "x": [
            "B1",
            "D1",
            "D2",
            "E0",
            "E1",
            "E2",
            "E3",
            "EC",
            "F1",
            "F2",
            "G1",
            "I1",
            "I2",
            "N1",
            "P1",
            "SP1",
            "SP2",
            "T1"
           ],
           "xaxis": "x",
           "y": [
            0.08969902444728221,
            0.0610860767925349,
            0.0896091911522075,
            0.06091470865107586,
            0.06142252288300312,
            0.061691634981085174,
            0.06205715763499931,
            0.06438185858380129,
            0.06072771115877202,
            0.09019619701713956,
            0.09196092993884038,
            0.061177717215256916,
            0.0892428116733177,
            0.09070167882660767,
            0.08946897450302989,
            0.06117436099079875,
            0.09027721381044487,
            0.08882019654298653
           ],
           "yaxis": "y"
          },
          {
           "hovertemplate": "Bookmaker=VC_Bet<br>Year=2015<br>League=%{x}<br>Average Margin of Games=%{y}<extra></extra>",
           "legendgroup": "VC_Bet",
           "marker": {
            "color": "#FFA15A",
            "symbol": "circle"
           },
           "mode": "markers",
           "name": "VC_Bet",
           "orientation": "v",
           "showlegend": true,
           "type": "scatter",
           "x": [
            "B1",
            "D1",
            "D2",
            "E0",
            "E1",
            "E2",
            "E3",
            "EC",
            "F1",
            "F2",
            "G1",
            "I1",
            "I2",
            "N1",
            "P1",
            "SP1",
            "SP2",
            "T1"
           ],
           "xaxis": "x",
           "y": [
            0.052613960443082954,
            0.03269097819501924,
            0.04162207940152529,
            0.024930338161321616,
            0.025632432020780298,
            0.030250247715995184,
            0.02991086755710448,
            0.05462690101731304,
            0.02660001393488974,
            0.042410121488685545,
            0.06163623720938384,
            0.030051979768403236,
            0.04355957469656396,
            0.04471173016905427,
            0.04439734848017886,
            0.02671103568774786,
            0.04343257476368753,
            0.05302185859906322
           ],
           "yaxis": "y"
          },
          {
           "hovertemplate": "Bookmaker=AVG<br>Year=2015<br>League=%{x}<br>Average Margin of Games=%{y}<extra></extra>",
           "legendgroup": "AVG",
           "marker": {
            "color": "#19d3f3",
            "symbol": "circle"
           },
           "mode": "markers",
           "name": "AVG",
           "orientation": "v",
           "showlegend": true,
           "type": "scatter",
           "x": [
            "B1",
            "D1",
            "D2",
            "E0",
            "E1",
            "E2",
            "E3",
            "EC",
            "F1",
            "F2",
            "G1",
            "I1",
            "I2",
            "N1",
            "P1",
            "SP1",
            "SP2",
            "T1"
           ],
           "xaxis": "x",
           "y": [
            0.07243865125774278,
            0.057987403553594837,
            0.0714140227691434,
            0.054500911108566995,
            0.06810884022652859,
            0.07806926921445105,
            0.07809687003521236,
            0.08792843722771156,
            0.05583780523272479,
            0.07867569548138266,
            0.08447382327154898,
            0.05652608374000384,
            0.07946921718639567,
            0.08068795432170227,
            0.07765588321248472,
            0.055262206036323126,
            0.0842981998185128,
            0.08061468308123369
           ],
           "yaxis": "y"
          }
         ],
         "name": "2015"
        },
        {
         "data": [
          {
           "hovertemplate": "Bookmaker=Bet365<br>Year=2016<br>League=%{x}<br>Average Margin of Games=%{y}<extra></extra>",
           "legendgroup": "Bet365",
           "marker": {
            "color": "#636efa",
            "symbol": "circle"
           },
           "mode": "markers",
           "name": "Bet365",
           "orientation": "v",
           "showlegend": true,
           "type": "scatter",
           "x": [
            "B1",
            "D1",
            "D2",
            "E0",
            "E1",
            "E2",
            "E3",
            "EC",
            "F1",
            "F2",
            "G1",
            "I1",
            "I2",
            "N1",
            "P1",
            "SP1",
            "SP2",
            "T1"
           ],
           "xaxis": "x",
           "y": [
            0.06527458225431979,
            0.050972750187615705,
            0.06440463393261789,
            0.028497911487042605,
            0.029010713165255584,
            0.029331192171756018,
            0.029080695926948258,
            0.0659624790796065,
            0.05233886219988665,
            0.06505726046780957,
            0.06817228984215207,
            0.05158747584059214,
            0.06404701729219452,
            0.06527136342895962,
            0.06438037340350533,
            0.050856525760873204,
            0.06594812381580602,
            0.06477837524252375
           ],
           "yaxis": "y"
          },
          {
           "hovertemplate": "Bookmaker=Bet&Win<br>Year=2016<br>League=%{x}<br>Average Margin of Games=%{y}<extra></extra>",
           "legendgroup": "Bet&Win",
           "marker": {
            "color": "#EF553B",
            "symbol": "circle"
           },
           "mode": "markers",
           "name": "Bet&Win",
           "orientation": "v",
           "showlegend": true,
           "type": "scatter",
           "x": [
            "B1",
            "D1",
            "D2",
            "E0",
            "E1",
            "E2",
            "E3",
            "EC",
            "F1",
            "F2",
            "G1",
            "I1",
            "I2",
            "N1",
            "P1",
            "SP1",
            "SP2",
            "T1"
           ],
           "xaxis": "x",
           "y": [
            0.06037965998541784,
            0.05878982089196918,
            0.07095539746174233,
            0.0562510053045666,
            0.07857660686942972,
            0.09876775781442654,
            0.09891295095997288,
            0.11016982672044873,
            0.05893680802749807,
            0.07763686633844616,
            0.07986432273488815,
            0.055784599129813664,
            0.07343669350499878,
            0.07960415672026394,
            0.07951220977318092,
            0.05856644609575146,
            0.08408241385888163,
            0.07980648955798077
           ],
           "yaxis": "y"
          },
          {
           "hovertemplate": "Bookmaker=Interwetten<br>Year=2016<br>League=%{x}<br>Average Margin of Games=%{y}<extra></extra>",
           "legendgroup": "Interwetten",
           "marker": {
            "color": "#00cc96",
            "symbol": "circle"
           },
           "mode": "markers",
           "name": "Interwetten",
           "orientation": "v",
           "showlegend": true,
           "type": "scatter",
           "x": [
            "B1",
            "D1",
            "D2",
            "E0",
            "E1",
            "E2",
            "E3",
            "EC",
            "F1",
            "F2",
            "G1",
            "I1",
            "I2",
            "N1",
            "P1",
            "SP1",
            "SP2",
            "T1"
           ],
           "xaxis": "x",
           "y": [
            0.08080832985959184,
            0.06979999654020687,
            0.08071579667203084,
            0.0709194231011915,
            0.11131031101274559,
            0.10683715282757698,
            0.10641559662637377,
            0.13048286939747764,
            0.08008005616912771,
            0.10163249610267135,
            0.08912203085477864,
            0.080282397773273,
            0.11145651786469875,
            0.0980928057383385,
            0.09793686105867679,
            0.07283621002871109,
            0.10186750499104573,
            0.0977089505896385
           ],
           "yaxis": "y"
          },
          {
           "hovertemplate": "Bookmaker=William_Hill<br>Year=2016<br>League=%{x}<br>Average Margin of Games=%{y}<extra></extra>",
           "legendgroup": "William_Hill",
           "marker": {
            "color": "#ab63fa",
            "symbol": "circle"
           },
           "mode": "markers",
           "name": "William_Hill",
           "orientation": "v",
           "showlegend": true,
           "type": "scatter",
           "x": [
            "B1",
            "D1",
            "D2",
            "E0",
            "E1",
            "E2",
            "E3",
            "EC",
            "F1",
            "F2",
            "G1",
            "I1",
            "I2",
            "N1",
            "P1",
            "SP1",
            "SP2",
            "T1"
           ],
           "xaxis": "x",
           "y": [
            0.08997888950334393,
            0.05615274412956004,
            0.08372062064427725,
            0.05319199811489123,
            0.054502855470775234,
            0.0625484523533494,
            0.06218085563927297,
            0.06493501780177943,
            0.060501462783575224,
            0.08954851591024462,
            0.09074207360071578,
            0.0555584376084706,
            0.08367365478795,
            0.08904410542979478,
            0.0859832244236478,
            0.056265029258901006,
            0.0849908520815957,
            0.0807137708206566
           ],
           "yaxis": "y"
          },
          {
           "hovertemplate": "Bookmaker=VC_Bet<br>Year=2016<br>League=%{x}<br>Average Margin of Games=%{y}<extra></extra>",
           "legendgroup": "VC_Bet",
           "marker": {
            "color": "#FFA15A",
            "symbol": "circle"
           },
           "mode": "markers",
           "name": "VC_Bet",
           "orientation": "v",
           "showlegend": true,
           "type": "scatter",
           "x": [
            "B1",
            "D1",
            "D2",
            "E0",
            "E1",
            "E2",
            "E3",
            "EC",
            "F1",
            "F2",
            "G1",
            "I1",
            "I2",
            "N1",
            "P1",
            "SP1",
            "SP2",
            "T1"
           ],
           "xaxis": "x",
           "y": [
            0.059701156532582456,
            0.04026760180918455,
            0.05052901096557801,
            0.026430991997442567,
            0.02794915915241858,
            0.040753382947080974,
            0.040335959592573946,
            0.059955551311817235,
            0.04018678428807251,
            0.0534453851480268,
            0.07780510598134703,
            0.04125446676907212,
            0.05020551439131744,
            0.049859240424103335,
            0.05027484031410359,
            0.03409550102832487,
            0.05030608945737028,
            0.05988645296479194
           ],
           "yaxis": "y"
          },
          {
           "hovertemplate": "Bookmaker=AVG<br>Year=2016<br>League=%{x}<br>Average Margin of Games=%{y}<extra></extra>",
           "legendgroup": "AVG",
           "marker": {
            "color": "#19d3f3",
            "symbol": "circle"
           },
           "mode": "markers",
           "name": "AVG",
           "orientation": "v",
           "showlegend": true,
           "type": "scatter",
           "x": [
            "B1",
            "D1",
            "D2",
            "E0",
            "E1",
            "E2",
            "E3",
            "EC",
            "F1",
            "F2",
            "G1",
            "I1",
            "I2",
            "N1",
            "P1",
            "SP1",
            "SP2",
            "T1"
           ],
           "xaxis": "x",
           "y": [
            0.07160955752306446,
            0.0547407728153179,
            0.07026702110980071,
            0.050168204429412534,
            0.06627791090573669,
            0.07570103975277392,
            0.07540769882439521,
            0.08956089739842503,
            0.05839665570985635,
            0.07857622771529882,
            0.08342430992420861,
            0.0566135318028391,
            0.07817246579427663,
            0.07778740951456056,
            0.07662112639396457,
            0.0538130207077663,
            0.07864171304170207,
            0.07814084482868644
           ],
           "yaxis": "y"
          }
         ],
         "name": "2016"
        },
        {
         "data": [
          {
           "hovertemplate": "Bookmaker=Bet365<br>Year=2017<br>League=%{x}<br>Average Margin of Games=%{y}<extra></extra>",
           "legendgroup": "Bet365",
           "marker": {
            "color": "#636efa",
            "symbol": "circle"
           },
           "mode": "markers",
           "name": "Bet365",
           "orientation": "v",
           "showlegend": true,
           "type": "scatter",
           "x": [
            "B1",
            "D1",
            "D2",
            "E0",
            "E1",
            "E2",
            "E3",
            "EC",
            "F1",
            "F2",
            "G1",
            "I1",
            "I2",
            "N1",
            "P1",
            "SP1",
            "SP2",
            "T1"
           ],
           "xaxis": "x",
           "y": [
            0.0663921163373774,
            0.0506879781142041,
            0.06502051947099795,
            0.029882455422245977,
            0.028547778767235434,
            0.02786507397142926,
            0.027717442205652087,
            0.065422383433311,
            0.050626387687657724,
            0.0649431746627388,
            0.07011302654339906,
            0.05109185983789837,
            0.06571897320964612,
            0.06556069906686977,
            0.06473781867024732,
            0.05142699487376865,
            0.06496317890086015,
            0.06567791252065654
           ],
           "yaxis": "y"
          },
          {
           "hovertemplate": "Bookmaker=Bet&Win<br>Year=2017<br>League=%{x}<br>Average Margin of Games=%{y}<extra></extra>",
           "legendgroup": "Bet&Win",
           "marker": {
            "color": "#EF553B",
            "symbol": "circle"
           },
           "mode": "markers",
           "name": "Bet&Win",
           "orientation": "v",
           "showlegend": true,
           "type": "scatter",
           "x": [
            "B1",
            "D1",
            "D2",
            "E0",
            "E1",
            "E2",
            "E3",
            "EC",
            "F1",
            "F2",
            "G1",
            "I1",
            "I2",
            "N1",
            "P1",
            "SP1",
            "SP2",
            "T1"
           ],
           "xaxis": "x",
           "y": [
            0.051914746710912965,
            0.05251891904681437,
            0.061631299923103865,
            0.05143383152521608,
            0.06957926879140092,
            0.07054854376711309,
            0.07048942103014152,
            0.11019631634188813,
            0.05209220325825912,
            0.08050553446675478,
            0.06837001932806365,
            0.05283270801533021,
            0.06324455831414204,
            0.06047884879634657,
            0.06986603547266626,
            0.052683919954940726,
            0.06455426227399036,
            0.07990943243913404
           ],
           "yaxis": "y"
          },
          {
           "hovertemplate": "Bookmaker=Interwetten<br>Year=2017<br>League=%{x}<br>Average Margin of Games=%{y}<extra></extra>",
           "legendgroup": "Interwetten",
           "marker": {
            "color": "#00cc96",
            "symbol": "circle"
           },
           "mode": "markers",
           "name": "Interwetten",
           "orientation": "v",
           "showlegend": true,
           "type": "scatter",
           "x": [
            "B1",
            "D1",
            "D2",
            "E0",
            "E1",
            "E2",
            "E3",
            "EC",
            "F1",
            "F2",
            "G1",
            "I1",
            "I2",
            "N1",
            "P1",
            "SP1",
            "SP2",
            "T1"
           ],
           "xaxis": "x",
           "y": [
            0.08068348219807156,
            0.05635918975048486,
            0.08084539416918751,
            0.0563458765439824,
            0.08255554855959986,
            0.10267653573532258,
            0.10979988556846355,
            0.13028013371166636,
            0.08008279727006051,
            0.09562414778540512,
            0.08020540342866207,
            0.06997852685506688,
            0.09707625374415686,
            0.08690380706291122,
            0.08043657881955947,
            0.05666779301006338,
            0.09112911254242613,
            0.08082798987794586
           ],
           "yaxis": "y"
          },
          {
           "hovertemplate": "Bookmaker=William_Hill<br>Year=2017<br>League=%{x}<br>Average Margin of Games=%{y}<extra></extra>",
           "legendgroup": "William_Hill",
           "marker": {
            "color": "#ab63fa",
            "symbol": "circle"
           },
           "mode": "markers",
           "name": "William_Hill",
           "orientation": "v",
           "showlegend": true,
           "type": "scatter",
           "x": [
            "B1",
            "D1",
            "D2",
            "E0",
            "E1",
            "E2",
            "E3",
            "EC",
            "F1",
            "F2",
            "G1",
            "I1",
            "I2",
            "N1",
            "P1",
            "SP1",
            "SP2",
            "T1"
           ],
           "xaxis": "x",
           "y": [
            0.08372611570382424,
            0.05512632338238615,
            0.08008135759756096,
            0.049230949816874654,
            0.05458488517933812,
            0.06233008279420872,
            0.06344447067098986,
            0.06907078814777025,
            0.06060848958402994,
            0.09008540615235476,
            0.09066829130780159,
            0.05502599997413225,
            0.08230180593049409,
            0.08438188493422787,
            0.08268993424164427,
            0.05450793191704201,
            0.08441357165962744,
            0.08559974287266219
           ],
           "yaxis": "y"
          },
          {
           "hovertemplate": "Bookmaker=VC_Bet<br>Year=2017<br>League=%{x}<br>Average Margin of Games=%{y}<extra></extra>",
           "legendgroup": "VC_Bet",
           "marker": {
            "color": "#FFA15A",
            "symbol": "circle"
           },
           "mode": "markers",
           "name": "VC_Bet",
           "orientation": "v",
           "showlegend": true,
           "type": "scatter",
           "x": [
            "B1",
            "D1",
            "D2",
            "E0",
            "E1",
            "E2",
            "E3",
            "EC",
            "F1",
            "F2",
            "G1",
            "I1",
            "I2",
            "N1",
            "P1",
            "SP1",
            "SP2",
            "T1"
           ],
           "xaxis": "x",
           "y": [
            0.05994981449129495,
            0.039169527247486124,
            0.050275294617007756,
            0.02856875692200112,
            0.028215966377707968,
            0.041088757251404866,
            0.03708190023872087,
            0.06003047624121848,
            0.040592003592763576,
            0.05487169142302331,
            0.08004029846171608,
            0.04171196550933502,
            0.049962854394809436,
            0.05031392113577207,
            0.05027044824664532,
            0.039035118255335004,
            0.04982242778111502,
            0.06037421824393412
           ],
           "yaxis": "y"
          },
          {
           "hovertemplate": "Bookmaker=AVG<br>Year=2017<br>League=%{x}<br>Average Margin of Games=%{y}<extra></extra>",
           "legendgroup": "AVG",
           "marker": {
            "color": "#19d3f3",
            "symbol": "circle"
           },
           "mode": "markers",
           "name": "AVG",
           "orientation": "v",
           "showlegend": true,
           "type": "scatter",
           "x": [
            "B1",
            "D1",
            "D2",
            "E0",
            "E1",
            "E2",
            "E3",
            "EC",
            "F1",
            "F2",
            "G1",
            "I1",
            "I2",
            "N1",
            "P1",
            "SP1",
            "SP2",
            "T1"
           ],
           "xaxis": "x",
           "y": [
            0.06789613173523498,
            0.04977229020769341,
            0.06701096313252276,
            0.04514913015222619,
            0.057871465397898884,
            0.06818558887277146,
            0.06905068436196067,
            0.09083734512219394,
            0.05682880185192983,
            0.07895784739279765,
            0.07897035441758574,
            0.05345213482227765,
            0.0718933082568102,
            0.06899144198792648,
            0.06945490707460615,
            0.0496539082766593,
            0.07129941782522403,
            0.07543369534888718
           ],
           "yaxis": "y"
          }
         ],
         "name": "2017"
        },
        {
         "data": [
          {
           "hovertemplate": "Bookmaker=Bet365<br>Year=2018<br>League=%{x}<br>Average Margin of Games=%{y}<extra></extra>",
           "legendgroup": "Bet365",
           "marker": {
            "color": "#636efa",
            "symbol": "circle"
           },
           "mode": "markers",
           "name": "Bet365",
           "orientation": "v",
           "showlegend": true,
           "type": "scatter",
           "x": [
            "B1",
            "D1",
            "D2",
            "E0",
            "E1",
            "E2",
            "E3",
            "EC",
            "F1",
            "F2",
            "G1",
            "I1",
            "I2",
            "N1",
            "P1",
            "SP1",
            "SP2",
            "T1"
           ],
           "xaxis": "x",
           "y": [
            0.0660259781654219,
            0.05270349627936051,
            0.06570163590924782,
            0.030921475003658452,
            0.028434836504907322,
            0.028685133314760747,
            0.028494847662725885,
            0.06626210791304925,
            0.05186923638721147,
            0.0652678822469795,
            0.07036342894262092,
            0.05236767941377478,
            0.06625484868495647,
            0.06590251125521554,
            0.06588583950833367,
            0.05333443876728748,
            0.06555478907912861,
            0.0657668226379206
           ],
           "yaxis": "y"
          },
          {
           "hovertemplate": "Bookmaker=Bet&Win<br>Year=2018<br>League=%{x}<br>Average Margin of Games=%{y}<extra></extra>",
           "legendgroup": "Bet&Win",
           "marker": {
            "color": "#EF553B",
            "symbol": "circle"
           },
           "mode": "markers",
           "name": "Bet&Win",
           "orientation": "v",
           "showlegend": true,
           "type": "scatter",
           "x": [
            "B1",
            "D1",
            "D2",
            "E0",
            "E1",
            "E2",
            "E3",
            "EC",
            "F1",
            "F2",
            "G1",
            "I1",
            "I2",
            "N1",
            "P1",
            "SP1",
            "SP2",
            "T1"
           ],
           "xaxis": "x",
           "y": [
            0.05079174797052184,
            0.051752987756826484,
            0.061033300030246734,
            0.05059329269066894,
            0.0643446740588784,
            0.07061346694354409,
            0.07079981108546538,
            0.09143758853340275,
            0.05112328172500917,
            0.08035491151224793,
            0.053344485992286236,
            0.05257715657684646,
            0.06119704611202809,
            0.052054897098244776,
            0.0701619546423571,
            0.05122904862821389,
            0.0608653049997383,
            0.08015566341672822
           ],
           "yaxis": "y"
          },
          {
           "hovertemplate": "Bookmaker=Interwetten<br>Year=2018<br>League=%{x}<br>Average Margin of Games=%{y}<extra></extra>",
           "legendgroup": "Interwetten",
           "marker": {
            "color": "#00cc96",
            "symbol": "circle"
           },
           "mode": "markers",
           "name": "Interwetten",
           "orientation": "v",
           "showlegend": true,
           "type": "scatter",
           "x": [
            "B1",
            "D1",
            "D2",
            "E0",
            "E1",
            "E2",
            "E3",
            "EC",
            "F1",
            "F2",
            "G1",
            "I1",
            "I2",
            "N1",
            "P1",
            "SP1",
            "SP2",
            "T1"
           ],
           "xaxis": "x",
           "y": [
            0.08177155676652197,
            0.054693612456687545,
            0.0805672441129539,
            0.054610898498693175,
            0.08110578809839726,
            0.11071099649821156,
            0.11068252049908575,
            0.11318865158218898,
            0.06752548658617248,
            0.08452790384723192,
            0.08553659101386714,
            0.05476768301631001,
            0.08129873728003278,
            0.08154126780143721,
            0.07997543302523008,
            0.054909177203401896,
            0.08129312827746837,
            0.0801892070533332
           ],
           "yaxis": "y"
          },
          {
           "hovertemplate": "Bookmaker=William_Hill<br>Year=2018<br>League=%{x}<br>Average Margin of Games=%{y}<extra></extra>",
           "legendgroup": "William_Hill",
           "marker": {
            "color": "#ab63fa",
            "symbol": "circle"
           },
           "mode": "markers",
           "name": "William_Hill",
           "orientation": "v",
           "showlegend": true,
           "type": "scatter",
           "x": [
            "B1",
            "D1",
            "D2",
            "E0",
            "E1",
            "E2",
            "E3",
            "EC",
            "F1",
            "F2",
            "G1",
            "I1",
            "I2",
            "N1",
            "P1",
            "SP1",
            "SP2",
            "T1"
           ],
           "xaxis": "x",
           "y": [
            0.0760715412574165,
            0.06042959678312305,
            0.0750522261547418,
            0.05063480425915701,
            0.05793023959646297,
            0.06295064635608279,
            0.06301748173579388,
            0.06797449846359511,
            0.061253162599733874,
            0.07796236422184095,
            0.08019647825201241,
            0.05744122025877686,
            0.07714045129305726,
            0.07897610844730499,
            0.07822322651318618,
            0.05828732263334488,
            0.0796486563179077,
            0.07743781113019026
           ],
           "yaxis": "y"
          },
          {
           "hovertemplate": "Bookmaker=VC_Bet<br>Year=2018<br>League=%{x}<br>Average Margin of Games=%{y}<extra></extra>",
           "legendgroup": "VC_Bet",
           "marker": {
            "color": "#FFA15A",
            "symbol": "circle"
           },
           "mode": "markers",
           "name": "VC_Bet",
           "orientation": "v",
           "showlegend": true,
           "type": "scatter",
           "x": [
            "B1",
            "D1",
            "D2",
            "E0",
            "E1",
            "E2",
            "E3",
            "EC",
            "F1",
            "F2",
            "G1",
            "I1",
            "I2",
            "N1",
            "P1",
            "SP1",
            "SP2",
            "T1"
           ],
           "xaxis": "x",
           "y": [
            0.05992763554468601,
            0.039024070006813585,
            0.04999810038568236,
            0.027386858045312094,
            0.030046522795785017,
            0.041406049627944266,
            0.03804328099005698,
            0.059976774738236885,
            0.040389125148858146,
            0.05489466793973569,
            0.08019934238024419,
            0.040259752872157446,
            0.05006076145244077,
            0.050223168430214106,
            0.05009463981343467,
            0.03805732058229195,
            0.049918620615489184,
            0.05997105858424988
           ],
           "yaxis": "y"
          },
          {
           "hovertemplate": "Bookmaker=AVG<br>Year=2018<br>League=%{x}<br>Average Margin of Games=%{y}<extra></extra>",
           "legendgroup": "AVG",
           "marker": {
            "color": "#19d3f3",
            "symbol": "circle"
           },
           "mode": "markers",
           "name": "AVG",
           "orientation": "v",
           "showlegend": true,
           "type": "scatter",
           "x": [
            "B1",
            "D1",
            "D2",
            "E0",
            "E1",
            "E2",
            "E3",
            "EC",
            "F1",
            "F2",
            "G1",
            "I1",
            "I2",
            "N1",
            "P1",
            "SP1",
            "SP2",
            "T1"
           ],
           "xaxis": "x",
           "y": [
            0.06640490796347354,
            0.05054800294074641,
            0.06555196588198725,
            0.04476630650617,
            0.057581373561531014,
            0.07037154049289582,
            0.06954832092786833,
            0.08214767777545844,
            0.0538533446549094,
            0.07360061539244302,
            0.07398077867108534,
            0.05009869065932318,
            0.06667121462291056,
            0.06453244313598158,
            0.06853257301755107,
            0.04962053124820593,
            0.06726034518448497,
            0.07351539502748874
           ],
           "yaxis": "y"
          }
         ],
         "name": "2018"
        },
        {
         "data": [
          {
           "hovertemplate": "Bookmaker=Bet365<br>Year=2019<br>League=%{x}<br>Average Margin of Games=%{y}<extra></extra>",
           "legendgroup": "Bet365",
           "marker": {
            "color": "#636efa",
            "symbol": "circle"
           },
           "mode": "markers",
           "name": "Bet365",
           "orientation": "v",
           "showlegend": true,
           "type": "scatter",
           "x": [
            "B1",
            "D1",
            "D2",
            "E0",
            "E1",
            "E2",
            "E3",
            "EC",
            "F1",
            "F2",
            "G1",
            "I1",
            "I2",
            "N1",
            "P1",
            "SP1",
            "SP2",
            "T1"
           ],
           "xaxis": "x",
           "y": [
            0.06738637167503274,
            0.052953849411006434,
            0.06457925936197119,
            0.04081462566956554,
            null,
            null,
            0.030409713757293295,
            0.06803263525228187,
            0.05238696239550142,
            0.0654525169442355,
            0.06874285299448467,
            0.052678387867968676,
            0.06556032809995971,
            0.06567758946500596,
            0.06547960396794332,
            0.05258788069396546,
            0.06659346501537258,
            0.06522045360125034
           ],
           "yaxis": "y"
          },
          {
           "hovertemplate": "Bookmaker=Bet&Win<br>Year=2019<br>League=%{x}<br>Average Margin of Games=%{y}<extra></extra>",
           "legendgroup": "Bet&Win",
           "marker": {
            "color": "#EF553B",
            "symbol": "circle"
           },
           "mode": "markers",
           "name": "Bet&Win",
           "orientation": "v",
           "showlegend": true,
           "type": "scatter",
           "x": [
            "B1",
            "D1",
            "D2",
            "E0",
            "E1",
            "E2",
            "E3",
            "EC",
            "F1",
            "F2",
            "G1",
            "I1",
            "I2",
            "N1",
            "P1",
            "SP1",
            "SP2",
            "T1"
           ],
           "xaxis": "x",
           "y": [
            0.05035568859852605,
            0.05133189875547224,
            0.061908671108011744,
            0.050375611286455596,
            0.0540301241334666,
            0.07060702159494797,
            0.07047318436493863,
            0.09039026372419436,
            0.051672064876868436,
            0.08043069462590076,
            0.055145040864783626,
            0.05245367477390314,
            0.06388529769819044,
            0.05200333541793218,
            0.07022449830707489,
            0.051691073821649766,
            0.06316178332661523,
            0.0717918487971908
           ],
           "yaxis": "y"
          },
          {
           "hovertemplate": "Bookmaker=Interwetten<br>Year=2019<br>League=%{x}<br>Average Margin of Games=%{y}<extra></extra>",
           "legendgroup": "Interwetten",
           "marker": {
            "color": "#00cc96",
            "symbol": "circle"
           },
           "mode": "markers",
           "name": "Interwetten",
           "orientation": "v",
           "showlegend": true,
           "type": "scatter",
           "x": [
            "B1",
            "D1",
            "D2",
            "E0",
            "E1",
            "E2",
            "E3",
            "EC",
            "F1",
            "F2",
            "G1",
            "I1",
            "I2",
            "N1",
            "P1",
            "SP1",
            "SP2",
            "T1"
           ],
           "xaxis": "x",
           "y": [
            0.08050696182697852,
            0.05307793582498025,
            0.0684824514181595,
            0.052937354084720244,
            0.07211880064309083,
            0.11067569091002183,
            0.11096626086403893,
            0.0998719177247547,
            0.0525431332101327,
            0.08048759137233431,
            0.07202878724640882,
            0.05248089015000912,
            0.08079042412684527,
            0.08022171725346809,
            0.07452038957459753,
            0.05249616924589035,
            0.07276328927737907,
            0.0803135955428201
           ],
           "yaxis": "y"
          },
          {
           "hovertemplate": "Bookmaker=William_Hill<br>Year=2019<br>League=%{x}<br>Average Margin of Games=%{y}<extra></extra>",
           "legendgroup": "William_Hill",
           "marker": {
            "color": "#ab63fa",
            "symbol": "circle"
           },
           "mode": "markers",
           "name": "William_Hill",
           "orientation": "v",
           "showlegend": true,
           "type": "scatter",
           "x": [
            "B1",
            "D1",
            "D2",
            "E0",
            "E1",
            "E2",
            "E3",
            "EC",
            "F1",
            "F2",
            "G1",
            "I1",
            "I2",
            "N1",
            "P1",
            "SP1",
            "SP2",
            "T1"
           ],
           "xaxis": "x",
           "y": [
            0.07085774769249394,
            0.05085122992027402,
            0.07205683606532094,
            0.05016935516634464,
            0.049842807429141614,
            0.06109133346865631,
            0.060643836029160306,
            0.06536930183290172,
            0.060030299072046024,
            0.06032165407442253,
            0.07109245198800442,
            0.05680304863819745,
            0.07199065089392631,
            0.07024612110314947,
            0.0610198641062103,
            0.0508503641501622,
            0.07083411152640563,
            0.06553579450851693
           ],
           "yaxis": "y"
          },
          {
           "hovertemplate": "Bookmaker=VC_Bet<br>Year=2019<br>League=%{x}<br>Average Margin of Games=%{y}<extra></extra>",
           "legendgroup": "VC_Bet",
           "marker": {
            "color": "#FFA15A",
            "symbol": "circle"
           },
           "mode": "markers",
           "name": "VC_Bet",
           "orientation": "v",
           "showlegend": true,
           "type": "scatter",
           "x": [
            "B1",
            "D1",
            "D2",
            "E0",
            "E1",
            "E2",
            "E3",
            "EC",
            "F1",
            "F2",
            "G1",
            "I1",
            "I2",
            "N1",
            "P1",
            "SP1",
            "SP2",
            "T1"
           ],
           "xaxis": "x",
           "y": [
            0.05979283293461644,
            0.0435605953222448,
            0.052839673894026565,
            0.032820957446728534,
            0.039350170071440746,
            0.041629112891917605,
            0.041496926007129585,
            0.0600039846652073,
            0.048079889661597,
            0.055075770926867926,
            0.08040747282800606,
            0.047068287700084824,
            0.04993440944058934,
            0.05582389322339309,
            0.055299093246404994,
            0.04517996099706276,
            0.050185262704029225,
            0.06021326534631682
           ],
           "yaxis": "y"
          },
          {
           "hovertemplate": "Bookmaker=AVG<br>Year=2019<br>League=%{x}<br>Average Margin of Games=%{y}<extra></extra>",
           "legendgroup": "AVG",
           "marker": {
            "color": "#19d3f3",
            "symbol": "circle"
           },
           "mode": "markers",
           "name": "AVG",
           "orientation": "v",
           "showlegend": true,
           "type": "scatter",
           "x": [
            "B1",
            "D1",
            "D2",
            "E0",
            "E1",
            "E2",
            "E3",
            "EC",
            "F1",
            "F2",
            "G1",
            "I1",
            "I2",
            "N1",
            "P1",
            "SP1",
            "SP2",
            "T1"
           ],
           "xaxis": "x",
           "y": [
            0.06474798162063719,
            0.04910713386810782,
            0.06334739364748959,
            0.04605395661350539,
            0.05337361410037169,
            0.0700694406206511,
            0.0699630433878241,
            0.07817827933667429,
            0.052692524429990326,
            0.06845983230068622,
            0.0690736681955327,
            0.05159207803601192,
            0.06607854545709294,
            0.06383571471265191,
            0.06461441573447099,
            0.04964600712029911,
            0.06366477285643855,
            0.06898657555734697
           ],
           "yaxis": "y"
          }
         ],
         "name": "2019"
        },
        {
         "data": [
          {
           "hovertemplate": "Bookmaker=Bet365<br>Year=2020<br>League=%{x}<br>Average Margin of Games=%{y}<extra></extra>",
           "legendgroup": "Bet365",
           "marker": {
            "color": "#636efa",
            "symbol": "circle"
           },
           "mode": "markers",
           "name": "Bet365",
           "orientation": "v",
           "showlegend": true,
           "type": "scatter",
           "x": [
            "B1",
            "D1",
            "D2",
            "E0",
            "E1",
            "E2",
            "E3",
            "EC",
            "F1",
            "F2",
            "G1",
            "I1",
            "I2",
            "N1",
            "P1",
            "SP1",
            "SP2",
            "T1"
           ],
           "xaxis": "x",
           "y": [
            0.06608421155797259,
            0.05641699351877835,
            0.06509172715059752,
            0.05320317286603654,
            0.053121158095890145,
            null,
            0.04916122290823811,
            0.07259048731101889,
            0.05536480117294213,
            0.07046446237621277,
            0.07027035246965875,
            0.05639322267248195,
            0.06708665962757375,
            0.06626095758864414,
            0.06671009878179526,
            0.056173646595453076,
            0.06714817234184028,
            0.06844272149916157
           ],
           "yaxis": "y"
          },
          {
           "hovertemplate": "Bookmaker=Bet&Win<br>Year=2020<br>League=%{x}<br>Average Margin of Games=%{y}<extra></extra>",
           "legendgroup": "Bet&Win",
           "marker": {
            "color": "#EF553B",
            "symbol": "circle"
           },
           "mode": "markers",
           "name": "Bet&Win",
           "orientation": "v",
           "showlegend": true,
           "type": "scatter",
           "x": [
            "B1",
            "D1",
            "D2",
            "E0",
            "E1",
            "E2",
            "E3",
            "EC",
            "F1",
            "F2",
            "G1",
            "I1",
            "I2",
            "N1",
            "P1",
            "SP1",
            "SP2",
            "T1"
           ],
           "xaxis": "x",
           "y": [
            0.05241488136237719,
            0.05245735192706999,
            0.05739565325887524,
            0.050537761302538925,
            0.05597368095443043,
            0.07055146204583168,
            0.07073546389441075,
            0.09056562956546944,
            0.05098382795092048,
            0.08042440482744441,
            0.07027594935172175,
            0.0524995407775372,
            0.06393358452064586,
            0.05067954097222983,
            0.0666561165543094,
            0.05156573451548362,
            0.06698438324641909,
            0.07066175380696955
           ],
           "yaxis": "y"
          },
          {
           "hovertemplate": "Bookmaker=Interwetten<br>Year=2020<br>League=%{x}<br>Average Margin of Games=%{y}<extra></extra>",
           "legendgroup": "Interwetten",
           "marker": {
            "color": "#00cc96",
            "symbol": "circle"
           },
           "mode": "markers",
           "name": "Interwetten",
           "orientation": "v",
           "showlegend": true,
           "type": "scatter",
           "x": [
            "B1",
            "D1",
            "D2",
            "E0",
            "E1",
            "E2",
            "E3",
            "EC",
            "F1",
            "F2",
            "G1",
            "I1",
            "I2",
            "N1",
            "P1",
            "SP1",
            "SP2",
            "T1"
           ],
           "xaxis": "x",
           "y": [
            0.07975099111825149,
            0.05524366577795233,
            0.06386266378033821,
            0.05644422811563182,
            0.06500697825152829,
            0.0946359710575132,
            0.09504591945185271,
            0.09964731632123727,
            0.058960109645996135,
            0.08284783771067014,
            0.06284923857325829,
            0.05427285202513096,
            0.06970919321313389,
            0.07433616767840776,
            0.06358240992462072,
            0.05601384319420141,
            0.06497606094753941,
            0.06799801492671007
           ],
           "yaxis": "y"
          },
          {
           "hovertemplate": "Bookmaker=William_Hill<br>Year=2020<br>League=%{x}<br>Average Margin of Games=%{y}<extra></extra>",
           "legendgroup": "William_Hill",
           "marker": {
            "color": "#ab63fa",
            "symbol": "circle"
           },
           "mode": "markers",
           "name": "William_Hill",
           "orientation": "v",
           "showlegend": true,
           "type": "scatter",
           "x": [
            "B1",
            "D1",
            "D2",
            "E0",
            "E1",
            "E2",
            "E3",
            "EC",
            "F1",
            "F2",
            "G1",
            "I1",
            "I2",
            "N1",
            "P1",
            "SP1",
            "SP2",
            "T1"
           ],
           "xaxis": "x",
           "y": [
            0.07068416980967315,
            0.054508206919273654,
            0.07089005388913833,
            0.050368570190989934,
            0.056782610684344995,
            0.07256998206702422,
            0.0728988394001445,
            0.07884661120878021,
            0.06024482060006973,
            0.06077287430062471,
            0.07196112498085505,
            0.053924726966034044,
            0.06449095787112168,
            0.06286408376422292,
            0.060543054344207516,
            0.05058036663469512,
            0.07096063852059097,
            0.07066567458249895
           ],
           "yaxis": "y"
          },
          {
           "hovertemplate": "Bookmaker=VC_Bet<br>Year=2020<br>League=%{x}<br>Average Margin of Games=%{y}<extra></extra>",
           "legendgroup": "VC_Bet",
           "marker": {
            "color": "#FFA15A",
            "symbol": "circle"
           },
           "mode": "markers",
           "name": "VC_Bet",
           "orientation": "v",
           "showlegend": true,
           "type": "scatter",
           "x": [
            "B1",
            "D1",
            "D2",
            "E0",
            "E1",
            "E2",
            "E3",
            "EC",
            "F1",
            "F2",
            "G1",
            "I1",
            "I2",
            "N1",
            "P1",
            "SP1",
            "SP2",
            "T1"
           ],
           "xaxis": "x",
           "y": [
            0.05981017966786745,
            0.05546817699939238,
            0.0692216753435183,
            0.04710181271472067,
            0.05194769909431368,
            0.04694930601492998,
            0.04909524628394891,
            0.07129068701780591,
            0.06358024483549102,
            0.05500884150415661,
            0.07987692008992509,
            0.06121041536680515,
            0.050140845272536094,
            0.06742725018175885,
            0.07041204671393128,
            0.05908495453484424,
            0.05693632379890303,
            0.059558484304754106
           ],
           "yaxis": "y"
          },
          {
           "hovertemplate": "Bookmaker=AVG<br>Year=2020<br>League=%{x}<br>Average Margin of Games=%{y}<extra></extra>",
           "legendgroup": "AVG",
           "marker": {
            "color": "#19d3f3",
            "symbol": "circle"
           },
           "mode": "markers",
           "name": "AVG",
           "orientation": "v",
           "showlegend": true,
           "type": "scatter",
           "x": [
            "B1",
            "D1",
            "D2",
            "E0",
            "E1",
            "E2",
            "E3",
            "EC",
            "F1",
            "F2",
            "G1",
            "I1",
            "I2",
            "N1",
            "P1",
            "SP1",
            "SP2",
            "T1"
           ],
           "xaxis": "x",
           "y": [
            0.06499196777898629,
            0.053528024681931935,
            0.06487531096976679,
            0.05066107358363723,
            0.05707651025400788,
            0.0704096288385049,
            0.07124853363273048,
            0.08443109949878969,
            0.05783795022696698,
            0.06915525738742621,
            0.07039106102808664,
            0.05485061472633961,
            0.0615506362985209,
            0.06311233912260247,
            0.06482320813763502,
            0.053896961689222374,
            0.06444852021907282,
            0.06683302424850703
           ],
           "yaxis": "y"
          }
         ],
         "name": "2020"
        },
        {
         "data": [
          {
           "hovertemplate": "Bookmaker=Bet365<br>Year=2021<br>League=%{x}<br>Average Margin of Games=%{y}<extra></extra>",
           "legendgroup": "Bet365",
           "marker": {
            "color": "#636efa",
            "symbol": "circle"
           },
           "mode": "markers",
           "name": "Bet365",
           "orientation": "v",
           "showlegend": true,
           "type": "scatter",
           "x": [
            "B1",
            "D1",
            "D2",
            "E0",
            "E1",
            "E2",
            "E3",
            "EC",
            "F1",
            "F2",
            "G1",
            "I1",
            "I2",
            "N1",
            "P1",
            "SP1",
            "SP2",
            "T1"
           ],
           "xaxis": "x",
           "y": [
            0.07041868341930951,
            0.055224976348949774,
            0.062403851246324436,
            0.05419487132366477,
            0.05397734645673994,
            0.05324276740608058,
            0.05328943508394392,
            0.08703727071332616,
            0.055607876398514895,
            0.06915918632877303,
            0.0689497501831459,
            0.05623321929154884,
            0.070133826475744,
            0.0665073853466451,
            0.06980760950263012,
            0.055589373266435746,
            0.06686661327385839,
            0.07293328281544532
           ],
           "yaxis": "y"
          },
          {
           "hovertemplate": "Bookmaker=Bet&Win<br>Year=2021<br>League=%{x}<br>Average Margin of Games=%{y}<extra></extra>",
           "legendgroup": "Bet&Win",
           "marker": {
            "color": "#EF553B",
            "symbol": "circle"
           },
           "mode": "markers",
           "name": "Bet&Win",
           "orientation": "v",
           "showlegend": true,
           "type": "scatter",
           "x": [
            "B1",
            "D1",
            "D2",
            "E0",
            "E1",
            "E2",
            "E3",
            "EC",
            "F1",
            "F2",
            "G1",
            "I1",
            "I2",
            "N1",
            "P1",
            "SP1",
            "SP2",
            "T1"
           ],
           "xaxis": "x",
           "y": [
            0.053831231919375895,
            0.05303198150923036,
            0.05331926204246301,
            0.05214443505542128,
            0.053499113129061554,
            0.07280541888721831,
            0.0730254136093376,
            0.09047583610738545,
            0.053364020567287576,
            0.0790935152110741,
            0.07812602523524266,
            0.05247644365064709,
            0.06578766303938956,
            0.05266778331366516,
            0.06766953457382407,
            0.0532549684599848,
            0.0818875643744754,
            0.07149083054157197
           ],
           "yaxis": "y"
          },
          {
           "hovertemplate": "Bookmaker=Interwetten<br>Year=2021<br>League=%{x}<br>Average Margin of Games=%{y}<extra></extra>",
           "legendgroup": "Interwetten",
           "marker": {
            "color": "#00cc96",
            "symbol": "circle"
           },
           "mode": "markers",
           "name": "Interwetten",
           "orientation": "v",
           "showlegend": true,
           "type": "scatter",
           "x": [
            "B1",
            "D1",
            "D2",
            "E0",
            "E1",
            "E2",
            "E3",
            "EC",
            "F1",
            "F2",
            "G1",
            "I1",
            "I2",
            "N1",
            "P1",
            "SP1",
            "SP2",
            "T1"
           ],
           "xaxis": "x",
           "y": [
            0.07115918584749241,
            0.05053847347031819,
            0.05693111689903154,
            0.05022226908597655,
            0.06202469213060975,
            0.08774361137055678,
            0.08913742786700617,
            0.10086855906185783,
            0.05037767611845011,
            0.07380515932439116,
            0.05802429447222879,
            0.0501646224243789,
            0.07142730047541469,
            0.06682452303457798,
            0.056392900666661055,
            0.05100442118646071,
            0.0801901751427637,
            0.05711130725307131
           ],
           "yaxis": "y"
          },
          {
           "hovertemplate": "Bookmaker=William_Hill<br>Year=2021<br>League=%{x}<br>Average Margin of Games=%{y}<extra></extra>",
           "legendgroup": "William_Hill",
           "marker": {
            "color": "#ab63fa",
            "symbol": "circle"
           },
           "mode": "markers",
           "name": "William_Hill",
           "orientation": "v",
           "showlegend": true,
           "type": "scatter",
           "x": [
            "B1",
            "D1",
            "D2",
            "E0",
            "E1",
            "E2",
            "E3",
            "EC",
            "F1",
            "F2",
            "G1",
            "I1",
            "I2",
            "N1",
            "P1",
            "SP1",
            "SP2",
            "T1"
           ],
           "xaxis": "x",
           "y": [
            0.0756503270469327,
            0.06092151734173171,
            0.07510370528165834,
            0.055361870227450136,
            0.06579377289447445,
            0.08381584609414959,
            0.08384820935406515,
            0.10031889508949832,
            0.06498352635944768,
            0.06988382802734583,
            0.07570200720746972,
            0.051211647495485534,
            0.06549810705162883,
            0.06502532304857359,
            0.06481335254349681,
            0.055086773333157056,
            0.07497140403464887,
            0.07397124837143194
           ],
           "yaxis": "y"
          },
          {
           "hovertemplate": "Bookmaker=VC_Bet<br>Year=2021<br>League=%{x}<br>Average Margin of Games=%{y}<extra></extra>",
           "legendgroup": "VC_Bet",
           "marker": {
            "color": "#FFA15A",
            "symbol": "circle"
           },
           "mode": "markers",
           "name": "VC_Bet",
           "orientation": "v",
           "showlegend": true,
           "type": "scatter",
           "x": [
            "B1",
            "D1",
            "D2",
            "E0",
            "E1",
            "E2",
            "E3",
            "EC",
            "F1",
            "F2",
            "G1",
            "I1",
            "I2",
            "N1",
            "P1",
            "SP1",
            "SP2",
            "T1"
           ],
           "xaxis": "x",
           "y": [
            0.06555465391959278,
            0.059842544143778674,
            0.07403237636047814,
            0.055024264031284444,
            0.056800473403998956,
            0.05406073188439462,
            0.0530999771978739,
            0.08503463758943437,
            0.0636322215481806,
            0.05496612655428635,
            0.07422622951479214,
            0.06008426982961799,
            0.04980273680716383,
            0.06735621858839358,
            0.06994688691843876,
            0.06397960571612861,
            0.07244057564750489,
            0.055393716052159994
           ],
           "yaxis": "y"
          },
          {
           "hovertemplate": "Bookmaker=AVG<br>Year=2021<br>League=%{x}<br>Average Margin of Games=%{y}<extra></extra>",
           "legendgroup": "AVG",
           "marker": {
            "color": "#19d3f3",
            "symbol": "circle"
           },
           "mode": "markers",
           "name": "AVG",
           "orientation": "v",
           "showlegend": true,
           "type": "scatter",
           "x": [
            "B1",
            "D1",
            "D2",
            "E0",
            "E1",
            "E2",
            "E3",
            "EC",
            "F1",
            "F2",
            "G1",
            "I1",
            "I2",
            "N1",
            "P1",
            "SP1",
            "SP2",
            "T1"
           ],
           "xaxis": "x",
           "y": [
            0.06573694433022022,
            0.0554921959617063,
            0.06428868478585655,
            0.05273823538598181,
            0.05915685212279901,
            0.07400792486558172,
            0.07412720117254855,
            0.0931703986891083,
            0.057602484598120146,
            0.06879734834460732,
            0.07089717594412993,
            0.05285987684481884,
            0.06245195023979907,
            0.06238638631141364,
            0.0641937134390738,
            0.05539450818990361,
            0.07647127156232272,
            0.06390983328770419
           ],
           "yaxis": "y"
          }
         ],
         "name": "2021"
        },
        {
         "data": [
          {
           "hovertemplate": "Bookmaker=Bet365<br>Year=2022<br>League=%{x}<br>Average Margin of Games=%{y}<extra></extra>",
           "legendgroup": "Bet365",
           "marker": {
            "color": "#636efa",
            "symbol": "circle"
           },
           "mode": "markers",
           "name": "Bet365",
           "orientation": "v",
           "showlegend": true,
           "type": "scatter",
           "x": [
            "B1",
            "D1",
            "D2",
            "E0",
            "E1",
            "E2",
            "E3",
            "EC",
            "F1",
            "F2",
            "G1",
            "I1",
            "I2",
            "N1",
            "P1",
            "SP1",
            "SP2",
            "T1"
           ],
           "xaxis": "x",
           "y": [
            0.07349948337879435,
            0.05361672824806158,
            0.054271960824196976,
            0.05441432945146831,
            0.052892935526501456,
            0.0539557514362466,
            0.05304570363630063,
            0.08550988846231374,
            0.05380130098729115,
            0.08413119593775305,
            0.05483524584326263,
            0.05379921542994625,
            0.08029836385132004,
            0.05560457199211557,
            0.06941956205763897,
            0.054077012104397346,
            0.05404753697063773,
            0.07817645862322645
           ],
           "yaxis": "y"
          },
          {
           "hovertemplate": "Bookmaker=Bet&Win<br>Year=2022<br>League=%{x}<br>Average Margin of Games=%{y}<extra></extra>",
           "legendgroup": "Bet&Win",
           "marker": {
            "color": "#EF553B",
            "symbol": "circle"
           },
           "mode": "markers",
           "name": "Bet&Win",
           "orientation": "v",
           "showlegend": true,
           "type": "scatter",
           "x": [
            "B1",
            "D1",
            "D2",
            "E0",
            "E1",
            "E2",
            "E3",
            "EC",
            "F1",
            "F2",
            "G1",
            "I1",
            "I2",
            "N1",
            "P1",
            "SP1",
            "SP2",
            "T1"
           ],
           "xaxis": "x",
           "y": [
            0.0579662806191565,
            0.058370219680705916,
            0.059646863001445526,
            0.05764820779663923,
            0.059510169714271026,
            0.0749388728248771,
            0.07571835037833806,
            0.10039469647892858,
            0.058078208774341805,
            0.0751405294623622,
            0.07309995998857366,
            0.05811776318933581,
            0.07506894998587312,
            0.056768470819652465,
            0.07211600652037821,
            0.05867731239247847,
            0.10417254935784649,
            0.07412133337929672
           ],
           "yaxis": "y"
          },
          {
           "hovertemplate": "Bookmaker=Interwetten<br>Year=2022<br>League=%{x}<br>Average Margin of Games=%{y}<extra></extra>",
           "legendgroup": "Interwetten",
           "marker": {
            "color": "#00cc96",
            "symbol": "circle"
           },
           "mode": "markers",
           "name": "Interwetten",
           "orientation": "v",
           "showlegend": true,
           "type": "scatter",
           "x": [
            "B1",
            "D1",
            "D2",
            "E0",
            "E1",
            "E2",
            "E3",
            "EC",
            "F1",
            "F2",
            "G1",
            "I1",
            "I2",
            "N1",
            "P1",
            "SP1",
            "SP2",
            "T1"
           ],
           "xaxis": "x",
           "y": [
            0.07481928217487652,
            0.050200993819386884,
            0.056229433635831216,
            0.0498061400320052,
            0.06709127731676057,
            0.08927521396413489,
            0.09181231559832742,
            0.10111749962065951,
            0.050248818620449845,
            0.08724096325626385,
            0.05570917471778162,
            0.04961807237609968,
            0.06694149112307046,
            0.06376387967362916,
            0.0553849752304071,
            0.05036063172024244,
            0.08832634714909689,
            0.05601591677033439
           ],
           "yaxis": "y"
          },
          {
           "hovertemplate": "Bookmaker=William_Hill<br>Year=2022<br>League=%{x}<br>Average Margin of Games=%{y}<extra></extra>",
           "legendgroup": "William_Hill",
           "marker": {
            "color": "#ab63fa",
            "symbol": "circle"
           },
           "mode": "markers",
           "name": "William_Hill",
           "orientation": "v",
           "showlegend": true,
           "type": "scatter",
           "x": [
            "B1",
            "D1",
            "D2",
            "E0",
            "E1",
            "E2",
            "E3",
            "EC",
            "F1",
            "F2",
            "G1",
            "I1",
            "I2",
            "N1",
            "P1",
            "SP1",
            "SP2",
            "T1"
           ],
           "xaxis": "x",
           "y": [
            0.07185101467138652,
            0.06058220525846439,
            0.08040140180019631,
            0.06051852717372219,
            0.0708163069729268,
            0.07106082790175851,
            0.07102500349299376,
            0.09993801603185534,
            0.060697101853473094,
            0.08042176973230213,
            0.10086814862069947,
            0.06096967388331183,
            0.0718390614475935,
            0.07064843393752575,
            0.07044506302172363,
            0.06034803885705209,
            0.07261888453166535,
            0.07096525321858489
           ],
           "yaxis": "y"
          },
          {
           "hovertemplate": "Bookmaker=VC_Bet<br>Year=2022<br>League=%{x}<br>Average Margin of Games=%{y}<extra></extra>",
           "legendgroup": "VC_Bet",
           "marker": {
            "color": "#FFA15A",
            "symbol": "circle"
           },
           "mode": "markers",
           "name": "VC_Bet",
           "orientation": "v",
           "showlegend": true,
           "type": "scatter",
           "x": [
            "B1",
            "D1",
            "D2",
            "E0",
            "E1",
            "E2",
            "E3",
            "EC",
            "F1",
            "F2",
            "G1",
            "I1",
            "I2",
            "N1",
            "P1",
            "SP1",
            "SP2",
            "T1"
           ],
           "xaxis": "x",
           "y": [
            0.07017929030440208,
            0.058446116873812945,
            0.07218534709831315,
            0.06709846054093858,
            0.07393264680781128,
            0.07240066254840936,
            0.07083379913304824,
            0.10775547596508751,
            0.059391543035750116,
            0.05493425254334805,
            0.07326416515672238,
            0.07057735929160848,
            0.05036317058198928,
            0.06862355362017449,
            0.06985913936575902,
            0.0720446140622982,
            0.07584390657799342,
            0.05538364273409679
           ],
           "yaxis": "y"
          },
          {
           "hovertemplate": "Bookmaker=AVG<br>Year=2022<br>League=%{x}<br>Average Margin of Games=%{y}<extra></extra>",
           "legendgroup": "AVG",
           "marker": {
            "color": "#19d3f3",
            "symbol": "circle"
           },
           "mode": "markers",
           "name": "AVG",
           "orientation": "v",
           "showlegend": true,
           "type": "scatter",
           "x": [
            "B1",
            "D1",
            "D2",
            "E0",
            "E1",
            "E2",
            "E3",
            "EC",
            "F1",
            "F2",
            "G1",
            "I1",
            "I2",
            "N1",
            "P1",
            "SP1",
            "SP2",
            "T1"
           ],
           "xaxis": "x",
           "y": [
            0.06780268275539278,
            0.05635491879921252,
            0.06669025786230019,
            0.058344151292797686,
            0.06735822335718426,
            0.07639169184276615,
            0.07678415600157243,
            0.1015054646520656,
            0.05663990278054589,
            0.07379564938183614,
            0.07484334183222975,
            0.05904115080940464,
            0.0651089430103245,
            0.06446084200757261,
            0.0664829041869897,
            0.05996464323414683,
            0.08372670661121948,
            0.06366530135060228
           ],
           "yaxis": "y"
          }
         ],
         "name": "2022"
        },
        {
         "data": [
          {
           "hovertemplate": "Bookmaker=Bet365<br>Year=2023<br>League=%{x}<br>Average Margin of Games=%{y}<extra></extra>",
           "legendgroup": "Bet365",
           "marker": {
            "color": "#636efa",
            "symbol": "circle"
           },
           "mode": "markers",
           "name": "Bet365",
           "orientation": "v",
           "showlegend": true,
           "type": "scatter",
           "x": [
            "B1",
            "D1",
            "D2",
            "E0",
            "E1",
            "E2",
            "E3",
            "EC",
            "F1",
            "F2",
            "G1",
            "I1",
            "I2",
            "N1",
            "P1",
            "SP1",
            "SP2",
            "T1"
           ],
           "xaxis": "x",
           "y": [
            0.08502369864306131,
            0.05285477737450514,
            0.054246872677650416,
            0.05357134619007528,
            0.053599104666541435,
            0.053140380290481654,
            0.05310229235548899,
            0.08926428673274546,
            0.05378444047301842,
            0.06999403251703469,
            0.0554352242966545,
            0.05457944933417015,
            0.06127787828651532,
            0.055872241149272465,
            0.07183186482322351,
            0.054948208027054184,
            0.06330912853274197,
            0.0771507627062048
           ],
           "yaxis": "y"
          },
          {
           "hovertemplate": "Bookmaker=Bet&Win<br>Year=2023<br>League=%{x}<br>Average Margin of Games=%{y}<extra></extra>",
           "legendgroup": "Bet&Win",
           "marker": {
            "color": "#EF553B",
            "symbol": "circle"
           },
           "mode": "markers",
           "name": "Bet&Win",
           "orientation": "v",
           "showlegend": true,
           "type": "scatter",
           "x": [
            "B1",
            "D1",
            "D2",
            "E0",
            "E1",
            "E2",
            "E3",
            "EC",
            "F1",
            "F2",
            "G1",
            "I1",
            "I2",
            "N1",
            "P1",
            "SP1",
            "SP2",
            "T1"
           ],
           "xaxis": "x",
           "y": [
            0.05795744683361795,
            0.05851239366976235,
            0.05907283419745936,
            0.057522335749456664,
            0.05948402262548543,
            0.07378040697216258,
            0.07532056613993823,
            0.12142200168730398,
            0.05809468789998358,
            0.07536624674233598,
            0.07138383413839489,
            0.058061703309369064,
            0.07510906781638683,
            0.055883590719881394,
            0.07176756927860661,
            0.05853675751131303,
            0.09833290369706553,
            0.07343859142365342
           ],
           "yaxis": "y"
          },
          {
           "hovertemplate": "Bookmaker=Interwetten<br>Year=2023<br>League=%{x}<br>Average Margin of Games=%{y}<extra></extra>",
           "legendgroup": "Interwetten",
           "marker": {
            "color": "#00cc96",
            "symbol": "circle"
           },
           "mode": "markers",
           "name": "Interwetten",
           "orientation": "v",
           "showlegend": true,
           "type": "scatter",
           "x": [
            "B1",
            "D1",
            "D2",
            "E0",
            "E1",
            "E2",
            "E3",
            "EC",
            "F1",
            "F2",
            "G1",
            "I1",
            "I2",
            "N1",
            "P1",
            "SP1",
            "SP2",
            "T1"
           ],
           "xaxis": "x",
           "y": [
            0.0786014153679416,
            0.05032765682818828,
            0.05619951608009128,
            0.05059772542214182,
            0.07875047822130453,
            0.09002446727913288,
            0.09237286569277546,
            0.10095866082893061,
            0.04963119948516346,
            0.09131511962714244,
            0.0564472433719555,
            0.050854780024602204,
            0.06750102783091995,
            0.06466738681432894,
            0.05513062056067913,
            0.050597518494311856,
            0.0820774451390735,
            0.05573248127611063
           ],
           "yaxis": "y"
          },
          {
           "hovertemplate": "Bookmaker=William_Hill<br>Year=2023<br>League=%{x}<br>Average Margin of Games=%{y}<extra></extra>",
           "legendgroup": "William_Hill",
           "marker": {
            "color": "#ab63fa",
            "symbol": "circle"
           },
           "mode": "markers",
           "name": "William_Hill",
           "orientation": "v",
           "showlegend": true,
           "type": "scatter",
           "x": [
            "B1",
            "D1",
            "D2",
            "E0",
            "E1",
            "E2",
            "E3",
            "EC",
            "F1",
            "F2",
            "G1",
            "I1",
            "I2",
            "N1",
            "P1",
            "SP1",
            "SP2",
            "T1"
           ],
           "xaxis": "x",
           "y": [
            0.07035769049271319,
            0.06396948757367782,
            0.08299956669387268,
            0.0633151335181893,
            0.07073160463883965,
            0.07091414245607013,
            0.07089038043722186,
            0.10086238190629139,
            0.06632686093581698,
            0.08529105143773014,
            0.10013436580034156,
            0.06028463976215375,
            0.07020721717211643,
            0.07347485090933933,
            0.07321783880888429,
            0.06593057524957195,
            0.08841858809424599,
            0.07751687943623675
           ],
           "yaxis": "y"
          },
          {
           "hovertemplate": "Bookmaker=VC_Bet<br>Year=2023<br>League=%{x}<br>Average Margin of Games=%{y}<extra></extra>",
           "legendgroup": "VC_Bet",
           "marker": {
            "color": "#FFA15A",
            "symbol": "circle"
           },
           "mode": "markers",
           "name": "VC_Bet",
           "orientation": "v",
           "showlegend": true,
           "type": "scatter",
           "x": [
            "B1",
            "D1",
            "D2",
            "E0",
            "E1",
            "E2",
            "E3",
            "EC",
            "F1",
            "F2",
            "G1",
            "I1",
            "I2",
            "N1",
            "P1",
            "SP1",
            "SP2",
            "T1"
           ],
           "xaxis": "x",
           "y": [
            0.07068100928624486,
            0.06823771657165732,
            0.07142752327799053,
            0.06925222727209401,
            0.08735376773366847,
            0.08621295487866351,
            0.08736183267510624,
            0.12007413269195108,
            0.07707041252415138,
            0.05542003165521686,
            0.07324348135378324,
            0.09043828125926644,
            0.05043655629220899,
            0.08191128168261856,
            0.07819184971306567,
            0.06687607661884744,
            0.07311803327786676,
            0.08989385504806154
           ],
           "yaxis": "y"
          },
          {
           "hovertemplate": "Bookmaker=AVG<br>Year=2023<br>League=%{x}<br>Average Margin of Games=%{y}<extra></extra>",
           "legendgroup": "AVG",
           "marker": {
            "color": "#19d3f3",
            "symbol": "circle"
           },
           "mode": "markers",
           "name": "AVG",
           "orientation": "v",
           "showlegend": true,
           "type": "scatter",
           "x": [
            "B1",
            "D1",
            "D2",
            "E0",
            "E1",
            "E2",
            "E3",
            "EC",
            "F1",
            "F2",
            "G1",
            "I1",
            "I2",
            "N1",
            "P1",
            "SP1",
            "SP2",
            "T1"
           ],
           "xaxis": "x",
           "y": [
            0.0686974957984946,
            0.05971598877615044,
            0.06695578016792102,
            0.05975802489138011,
            0.07354071113644586,
            0.07964475504144791,
            0.08094100467614944,
            0.10964314663393329,
            0.062175845105798724,
            0.07609788764197827,
            0.07433964108795266,
            0.06400569879847737,
            0.06515118586544251,
            0.06845000400145113,
            0.06906422548046187,
            0.060017425472825306,
            0.08430157324368671,
            0.07348576288204475
           ],
           "yaxis": "y"
          }
         ],
         "name": "2023"
        }
       ],
       "layout": {
        "autosize": false,
        "height": 600,
        "legend": {
         "title": {
          "text": "Bookmaker"
         },
         "tracegroupgap": 0
        },
        "margin": {
         "t": 60
        },
        "sliders": [
         {
          "active": 0,
          "currentvalue": {
           "prefix": "Year="
          },
          "len": 0.9,
          "pad": {
           "b": 10,
           "t": 60
          },
          "steps": [
           {
            "args": [
             [
              "2005"
             ],
             {
              "frame": {
               "duration": 0,
               "redraw": false
              },
              "fromcurrent": true,
              "mode": "immediate",
              "transition": {
               "duration": 0,
               "easing": "linear"
              }
             }
            ],
            "label": "2005",
            "method": "animate"
           },
           {
            "args": [
             [
              "2006"
             ],
             {
              "frame": {
               "duration": 0,
               "redraw": false
              },
              "fromcurrent": true,
              "mode": "immediate",
              "transition": {
               "duration": 0,
               "easing": "linear"
              }
             }
            ],
            "label": "2006",
            "method": "animate"
           },
           {
            "args": [
             [
              "2007"
             ],
             {
              "frame": {
               "duration": 0,
               "redraw": false
              },
              "fromcurrent": true,
              "mode": "immediate",
              "transition": {
               "duration": 0,
               "easing": "linear"
              }
             }
            ],
            "label": "2007",
            "method": "animate"
           },
           {
            "args": [
             [
              "2008"
             ],
             {
              "frame": {
               "duration": 0,
               "redraw": false
              },
              "fromcurrent": true,
              "mode": "immediate",
              "transition": {
               "duration": 0,
               "easing": "linear"
              }
             }
            ],
            "label": "2008",
            "method": "animate"
           },
           {
            "args": [
             [
              "2009"
             ],
             {
              "frame": {
               "duration": 0,
               "redraw": false
              },
              "fromcurrent": true,
              "mode": "immediate",
              "transition": {
               "duration": 0,
               "easing": "linear"
              }
             }
            ],
            "label": "2009",
            "method": "animate"
           },
           {
            "args": [
             [
              "2010"
             ],
             {
              "frame": {
               "duration": 0,
               "redraw": false
              },
              "fromcurrent": true,
              "mode": "immediate",
              "transition": {
               "duration": 0,
               "easing": "linear"
              }
             }
            ],
            "label": "2010",
            "method": "animate"
           },
           {
            "args": [
             [
              "2011"
             ],
             {
              "frame": {
               "duration": 0,
               "redraw": false
              },
              "fromcurrent": true,
              "mode": "immediate",
              "transition": {
               "duration": 0,
               "easing": "linear"
              }
             }
            ],
            "label": "2011",
            "method": "animate"
           },
           {
            "args": [
             [
              "2012"
             ],
             {
              "frame": {
               "duration": 0,
               "redraw": false
              },
              "fromcurrent": true,
              "mode": "immediate",
              "transition": {
               "duration": 0,
               "easing": "linear"
              }
             }
            ],
            "label": "2012",
            "method": "animate"
           },
           {
            "args": [
             [
              "2013"
             ],
             {
              "frame": {
               "duration": 0,
               "redraw": false
              },
              "fromcurrent": true,
              "mode": "immediate",
              "transition": {
               "duration": 0,
               "easing": "linear"
              }
             }
            ],
            "label": "2013",
            "method": "animate"
           },
           {
            "args": [
             [
              "2014"
             ],
             {
              "frame": {
               "duration": 0,
               "redraw": false
              },
              "fromcurrent": true,
              "mode": "immediate",
              "transition": {
               "duration": 0,
               "easing": "linear"
              }
             }
            ],
            "label": "2014",
            "method": "animate"
           },
           {
            "args": [
             [
              "2015"
             ],
             {
              "frame": {
               "duration": 0,
               "redraw": false
              },
              "fromcurrent": true,
              "mode": "immediate",
              "transition": {
               "duration": 0,
               "easing": "linear"
              }
             }
            ],
            "label": "2015",
            "method": "animate"
           },
           {
            "args": [
             [
              "2016"
             ],
             {
              "frame": {
               "duration": 0,
               "redraw": false
              },
              "fromcurrent": true,
              "mode": "immediate",
              "transition": {
               "duration": 0,
               "easing": "linear"
              }
             }
            ],
            "label": "2016",
            "method": "animate"
           },
           {
            "args": [
             [
              "2017"
             ],
             {
              "frame": {
               "duration": 0,
               "redraw": false
              },
              "fromcurrent": true,
              "mode": "immediate",
              "transition": {
               "duration": 0,
               "easing": "linear"
              }
             }
            ],
            "label": "2017",
            "method": "animate"
           },
           {
            "args": [
             [
              "2018"
             ],
             {
              "frame": {
               "duration": 0,
               "redraw": false
              },
              "fromcurrent": true,
              "mode": "immediate",
              "transition": {
               "duration": 0,
               "easing": "linear"
              }
             }
            ],
            "label": "2018",
            "method": "animate"
           },
           {
            "args": [
             [
              "2019"
             ],
             {
              "frame": {
               "duration": 0,
               "redraw": false
              },
              "fromcurrent": true,
              "mode": "immediate",
              "transition": {
               "duration": 0,
               "easing": "linear"
              }
             }
            ],
            "label": "2019",
            "method": "animate"
           },
           {
            "args": [
             [
              "2020"
             ],
             {
              "frame": {
               "duration": 0,
               "redraw": false
              },
              "fromcurrent": true,
              "mode": "immediate",
              "transition": {
               "duration": 0,
               "easing": "linear"
              }
             }
            ],
            "label": "2020",
            "method": "animate"
           },
           {
            "args": [
             [
              "2021"
             ],
             {
              "frame": {
               "duration": 0,
               "redraw": false
              },
              "fromcurrent": true,
              "mode": "immediate",
              "transition": {
               "duration": 0,
               "easing": "linear"
              }
             }
            ],
            "label": "2021",
            "method": "animate"
           },
           {
            "args": [
             [
              "2022"
             ],
             {
              "frame": {
               "duration": 0,
               "redraw": false
              },
              "fromcurrent": true,
              "mode": "immediate",
              "transition": {
               "duration": 0,
               "easing": "linear"
              }
             }
            ],
            "label": "2022",
            "method": "animate"
           },
           {
            "args": [
             [
              "2023"
             ],
             {
              "frame": {
               "duration": 0,
               "redraw": false
              },
              "fromcurrent": true,
              "mode": "immediate",
              "transition": {
               "duration": 0,
               "easing": "linear"
              }
             }
            ],
            "label": "2023",
            "method": "animate"
           }
          ],
          "x": 0.1,
          "xanchor": "left",
          "y": 0,
          "yanchor": "top"
         }
        ],
        "template": {
         "data": {
          "bar": [
           {
            "error_x": {
             "color": "#2a3f5f"
            },
            "error_y": {
             "color": "#2a3f5f"
            },
            "marker": {
             "line": {
              "color": "#E5ECF6",
              "width": 0.5
             },
             "pattern": {
              "fillmode": "overlay",
              "size": 10,
              "solidity": 0.2
             }
            },
            "type": "bar"
           }
          ],
          "barpolar": [
           {
            "marker": {
             "line": {
              "color": "#E5ECF6",
              "width": 0.5
             },
             "pattern": {
              "fillmode": "overlay",
              "size": 10,
              "solidity": 0.2
             }
            },
            "type": "barpolar"
           }
          ],
          "carpet": [
           {
            "aaxis": {
             "endlinecolor": "#2a3f5f",
             "gridcolor": "white",
             "linecolor": "white",
             "minorgridcolor": "white",
             "startlinecolor": "#2a3f5f"
            },
            "baxis": {
             "endlinecolor": "#2a3f5f",
             "gridcolor": "white",
             "linecolor": "white",
             "minorgridcolor": "white",
             "startlinecolor": "#2a3f5f"
            },
            "type": "carpet"
           }
          ],
          "choropleth": [
           {
            "colorbar": {
             "outlinewidth": 0,
             "ticks": ""
            },
            "type": "choropleth"
           }
          ],
          "contour": [
           {
            "colorbar": {
             "outlinewidth": 0,
             "ticks": ""
            },
            "colorscale": [
             [
              0,
              "#0d0887"
             ],
             [
              0.1111111111111111,
              "#46039f"
             ],
             [
              0.2222222222222222,
              "#7201a8"
             ],
             [
              0.3333333333333333,
              "#9c179e"
             ],
             [
              0.4444444444444444,
              "#bd3786"
             ],
             [
              0.5555555555555556,
              "#d8576b"
             ],
             [
              0.6666666666666666,
              "#ed7953"
             ],
             [
              0.7777777777777778,
              "#fb9f3a"
             ],
             [
              0.8888888888888888,
              "#fdca26"
             ],
             [
              1,
              "#f0f921"
             ]
            ],
            "type": "contour"
           }
          ],
          "contourcarpet": [
           {
            "colorbar": {
             "outlinewidth": 0,
             "ticks": ""
            },
            "type": "contourcarpet"
           }
          ],
          "heatmap": [
           {
            "colorbar": {
             "outlinewidth": 0,
             "ticks": ""
            },
            "colorscale": [
             [
              0,
              "#0d0887"
             ],
             [
              0.1111111111111111,
              "#46039f"
             ],
             [
              0.2222222222222222,
              "#7201a8"
             ],
             [
              0.3333333333333333,
              "#9c179e"
             ],
             [
              0.4444444444444444,
              "#bd3786"
             ],
             [
              0.5555555555555556,
              "#d8576b"
             ],
             [
              0.6666666666666666,
              "#ed7953"
             ],
             [
              0.7777777777777778,
              "#fb9f3a"
             ],
             [
              0.8888888888888888,
              "#fdca26"
             ],
             [
              1,
              "#f0f921"
             ]
            ],
            "type": "heatmap"
           }
          ],
          "heatmapgl": [
           {
            "colorbar": {
             "outlinewidth": 0,
             "ticks": ""
            },
            "colorscale": [
             [
              0,
              "#0d0887"
             ],
             [
              0.1111111111111111,
              "#46039f"
             ],
             [
              0.2222222222222222,
              "#7201a8"
             ],
             [
              0.3333333333333333,
              "#9c179e"
             ],
             [
              0.4444444444444444,
              "#bd3786"
             ],
             [
              0.5555555555555556,
              "#d8576b"
             ],
             [
              0.6666666666666666,
              "#ed7953"
             ],
             [
              0.7777777777777778,
              "#fb9f3a"
             ],
             [
              0.8888888888888888,
              "#fdca26"
             ],
             [
              1,
              "#f0f921"
             ]
            ],
            "type": "heatmapgl"
           }
          ],
          "histogram": [
           {
            "marker": {
             "pattern": {
              "fillmode": "overlay",
              "size": 10,
              "solidity": 0.2
             }
            },
            "type": "histogram"
           }
          ],
          "histogram2d": [
           {
            "colorbar": {
             "outlinewidth": 0,
             "ticks": ""
            },
            "colorscale": [
             [
              0,
              "#0d0887"
             ],
             [
              0.1111111111111111,
              "#46039f"
             ],
             [
              0.2222222222222222,
              "#7201a8"
             ],
             [
              0.3333333333333333,
              "#9c179e"
             ],
             [
              0.4444444444444444,
              "#bd3786"
             ],
             [
              0.5555555555555556,
              "#d8576b"
             ],
             [
              0.6666666666666666,
              "#ed7953"
             ],
             [
              0.7777777777777778,
              "#fb9f3a"
             ],
             [
              0.8888888888888888,
              "#fdca26"
             ],
             [
              1,
              "#f0f921"
             ]
            ],
            "type": "histogram2d"
           }
          ],
          "histogram2dcontour": [
           {
            "colorbar": {
             "outlinewidth": 0,
             "ticks": ""
            },
            "colorscale": [
             [
              0,
              "#0d0887"
             ],
             [
              0.1111111111111111,
              "#46039f"
             ],
             [
              0.2222222222222222,
              "#7201a8"
             ],
             [
              0.3333333333333333,
              "#9c179e"
             ],
             [
              0.4444444444444444,
              "#bd3786"
             ],
             [
              0.5555555555555556,
              "#d8576b"
             ],
             [
              0.6666666666666666,
              "#ed7953"
             ],
             [
              0.7777777777777778,
              "#fb9f3a"
             ],
             [
              0.8888888888888888,
              "#fdca26"
             ],
             [
              1,
              "#f0f921"
             ]
            ],
            "type": "histogram2dcontour"
           }
          ],
          "mesh3d": [
           {
            "colorbar": {
             "outlinewidth": 0,
             "ticks": ""
            },
            "type": "mesh3d"
           }
          ],
          "parcoords": [
           {
            "line": {
             "colorbar": {
              "outlinewidth": 0,
              "ticks": ""
             }
            },
            "type": "parcoords"
           }
          ],
          "pie": [
           {
            "automargin": true,
            "type": "pie"
           }
          ],
          "scatter": [
           {
            "fillpattern": {
             "fillmode": "overlay",
             "size": 10,
             "solidity": 0.2
            },
            "type": "scatter"
           }
          ],
          "scatter3d": [
           {
            "line": {
             "colorbar": {
              "outlinewidth": 0,
              "ticks": ""
             }
            },
            "marker": {
             "colorbar": {
              "outlinewidth": 0,
              "ticks": ""
             }
            },
            "type": "scatter3d"
           }
          ],
          "scattercarpet": [
           {
            "marker": {
             "colorbar": {
              "outlinewidth": 0,
              "ticks": ""
             }
            },
            "type": "scattercarpet"
           }
          ],
          "scattergeo": [
           {
            "marker": {
             "colorbar": {
              "outlinewidth": 0,
              "ticks": ""
             }
            },
            "type": "scattergeo"
           }
          ],
          "scattergl": [
           {
            "marker": {
             "colorbar": {
              "outlinewidth": 0,
              "ticks": ""
             }
            },
            "type": "scattergl"
           }
          ],
          "scattermapbox": [
           {
            "marker": {
             "colorbar": {
              "outlinewidth": 0,
              "ticks": ""
             }
            },
            "type": "scattermapbox"
           }
          ],
          "scatterpolar": [
           {
            "marker": {
             "colorbar": {
              "outlinewidth": 0,
              "ticks": ""
             }
            },
            "type": "scatterpolar"
           }
          ],
          "scatterpolargl": [
           {
            "marker": {
             "colorbar": {
              "outlinewidth": 0,
              "ticks": ""
             }
            },
            "type": "scatterpolargl"
           }
          ],
          "scatterternary": [
           {
            "marker": {
             "colorbar": {
              "outlinewidth": 0,
              "ticks": ""
             }
            },
            "type": "scatterternary"
           }
          ],
          "surface": [
           {
            "colorbar": {
             "outlinewidth": 0,
             "ticks": ""
            },
            "colorscale": [
             [
              0,
              "#0d0887"
             ],
             [
              0.1111111111111111,
              "#46039f"
             ],
             [
              0.2222222222222222,
              "#7201a8"
             ],
             [
              0.3333333333333333,
              "#9c179e"
             ],
             [
              0.4444444444444444,
              "#bd3786"
             ],
             [
              0.5555555555555556,
              "#d8576b"
             ],
             [
              0.6666666666666666,
              "#ed7953"
             ],
             [
              0.7777777777777778,
              "#fb9f3a"
             ],
             [
              0.8888888888888888,
              "#fdca26"
             ],
             [
              1,
              "#f0f921"
             ]
            ],
            "type": "surface"
           }
          ],
          "table": [
           {
            "cells": {
             "fill": {
              "color": "#EBF0F8"
             },
             "line": {
              "color": "white"
             }
            },
            "header": {
             "fill": {
              "color": "#C8D4E3"
             },
             "line": {
              "color": "white"
             }
            },
            "type": "table"
           }
          ]
         },
         "layout": {
          "annotationdefaults": {
           "arrowcolor": "#2a3f5f",
           "arrowhead": 0,
           "arrowwidth": 1
          },
          "autotypenumbers": "strict",
          "coloraxis": {
           "colorbar": {
            "outlinewidth": 0,
            "ticks": ""
           }
          },
          "colorscale": {
           "diverging": [
            [
             0,
             "#8e0152"
            ],
            [
             0.1,
             "#c51b7d"
            ],
            [
             0.2,
             "#de77ae"
            ],
            [
             0.3,
             "#f1b6da"
            ],
            [
             0.4,
             "#fde0ef"
            ],
            [
             0.5,
             "#f7f7f7"
            ],
            [
             0.6,
             "#e6f5d0"
            ],
            [
             0.7,
             "#b8e186"
            ],
            [
             0.8,
             "#7fbc41"
            ],
            [
             0.9,
             "#4d9221"
            ],
            [
             1,
             "#276419"
            ]
           ],
           "sequential": [
            [
             0,
             "#0d0887"
            ],
            [
             0.1111111111111111,
             "#46039f"
            ],
            [
             0.2222222222222222,
             "#7201a8"
            ],
            [
             0.3333333333333333,
             "#9c179e"
            ],
            [
             0.4444444444444444,
             "#bd3786"
            ],
            [
             0.5555555555555556,
             "#d8576b"
            ],
            [
             0.6666666666666666,
             "#ed7953"
            ],
            [
             0.7777777777777778,
             "#fb9f3a"
            ],
            [
             0.8888888888888888,
             "#fdca26"
            ],
            [
             1,
             "#f0f921"
            ]
           ],
           "sequentialminus": [
            [
             0,
             "#0d0887"
            ],
            [
             0.1111111111111111,
             "#46039f"
            ],
            [
             0.2222222222222222,
             "#7201a8"
            ],
            [
             0.3333333333333333,
             "#9c179e"
            ],
            [
             0.4444444444444444,
             "#bd3786"
            ],
            [
             0.5555555555555556,
             "#d8576b"
            ],
            [
             0.6666666666666666,
             "#ed7953"
            ],
            [
             0.7777777777777778,
             "#fb9f3a"
            ],
            [
             0.8888888888888888,
             "#fdca26"
            ],
            [
             1,
             "#f0f921"
            ]
           ]
          },
          "colorway": [
           "#636efa",
           "#EF553B",
           "#00cc96",
           "#ab63fa",
           "#FFA15A",
           "#19d3f3",
           "#FF6692",
           "#B6E880",
           "#FF97FF",
           "#FECB52"
          ],
          "font": {
           "color": "#2a3f5f"
          },
          "geo": {
           "bgcolor": "white",
           "lakecolor": "white",
           "landcolor": "#E5ECF6",
           "showlakes": true,
           "showland": true,
           "subunitcolor": "white"
          },
          "hoverlabel": {
           "align": "left"
          },
          "hovermode": "closest",
          "mapbox": {
           "style": "light"
          },
          "paper_bgcolor": "white",
          "plot_bgcolor": "#E5ECF6",
          "polar": {
           "angularaxis": {
            "gridcolor": "white",
            "linecolor": "white",
            "ticks": ""
           },
           "bgcolor": "#E5ECF6",
           "radialaxis": {
            "gridcolor": "white",
            "linecolor": "white",
            "ticks": ""
           }
          },
          "scene": {
           "xaxis": {
            "backgroundcolor": "#E5ECF6",
            "gridcolor": "white",
            "gridwidth": 2,
            "linecolor": "white",
            "showbackground": true,
            "ticks": "",
            "zerolinecolor": "white"
           },
           "yaxis": {
            "backgroundcolor": "#E5ECF6",
            "gridcolor": "white",
            "gridwidth": 2,
            "linecolor": "white",
            "showbackground": true,
            "ticks": "",
            "zerolinecolor": "white"
           },
           "zaxis": {
            "backgroundcolor": "#E5ECF6",
            "gridcolor": "white",
            "gridwidth": 2,
            "linecolor": "white",
            "showbackground": true,
            "ticks": "",
            "zerolinecolor": "white"
           }
          },
          "shapedefaults": {
           "line": {
            "color": "#2a3f5f"
           }
          },
          "ternary": {
           "aaxis": {
            "gridcolor": "white",
            "linecolor": "white",
            "ticks": ""
           },
           "baxis": {
            "gridcolor": "white",
            "linecolor": "white",
            "ticks": ""
           },
           "bgcolor": "#E5ECF6",
           "caxis": {
            "gridcolor": "white",
            "linecolor": "white",
            "ticks": ""
           }
          },
          "title": {
           "x": 0.05
          },
          "xaxis": {
           "automargin": true,
           "gridcolor": "white",
           "linecolor": "white",
           "ticks": "",
           "title": {
            "standoff": 15
           },
           "zerolinecolor": "white",
           "zerolinewidth": 2
          },
          "yaxis": {
           "automargin": true,
           "gridcolor": "white",
           "linecolor": "white",
           "ticks": "",
           "title": {
            "standoff": 15
           },
           "zerolinecolor": "white",
           "zerolinewidth": 2
          }
         }
        },
        "updatemenus": [
         {
          "buttons": [
           {
            "args": [
             null,
             {
              "frame": {
               "duration": 500,
               "redraw": false
              },
              "fromcurrent": true,
              "mode": "immediate",
              "transition": {
               "duration": 500,
               "easing": "linear"
              }
             }
            ],
            "label": "&#9654;",
            "method": "animate"
           },
           {
            "args": [
             [
              null
             ],
             {
              "frame": {
               "duration": 0,
               "redraw": false
              },
              "fromcurrent": true,
              "mode": "immediate",
              "transition": {
               "duration": 0,
               "easing": "linear"
              }
             }
            ],
            "label": "&#9724;",
            "method": "animate"
           }
          ],
          "direction": "left",
          "pad": {
           "r": 10,
           "t": 70
          },
          "showactive": false,
          "type": "buttons",
          "x": 0.1,
          "xanchor": "right",
          "y": 0,
          "yanchor": "top"
         }
        ],
        "width": 1200,
        "xaxis": {
         "anchor": "y",
         "domain": [
          0,
          1
         ],
         "title": {
          "text": "League"
         }
        },
        "yaxis": {
         "anchor": "x",
         "domain": [
          0,
          1
         ],
         "range": [
          0.01,
          0.2
         ],
         "title": {
          "text": "Average Margin of Games"
         }
        }
       }
      }
     },
     "metadata": {},
     "output_type": "display_data"
    }
   ],
   "source": [
    "import plotly.express as px\n",
    "fig = px.scatter(avg_margin_data, x=\"League\", y=\"Average Margin of Games\", animation_frame=\"Year\",\n",
    "                 color=\"Bookmaker\", range_y=[0.01,0.2])\n",
    "fig.update_traces(marker_size=10)\n",
    "fig.update_layout(\n",
    "    autosize=False,\n",
    "    width=1200,\n",
    "    height=600,)\n",
    "fig"
   ]
  },
  {
   "cell_type": "code",
   "execution_count": null,
   "metadata": {},
   "outputs": [],
   "source": []
  }
 ],
 "metadata": {
  "kernelspec": {
   "display_name": "env_agah",
   "language": "python",
   "name": "python3"
  },
  "language_info": {
   "codemirror_mode": {
    "name": "ipython",
    "version": 3
   },
   "file_extension": ".py",
   "mimetype": "text/x-python",
   "name": "python",
   "nbconvert_exporter": "python",
   "pygments_lexer": "ipython3",
   "version": "3.9.12"
  },
  "orig_nbformat": 4
 },
 "nbformat": 4,
 "nbformat_minor": 2
}
