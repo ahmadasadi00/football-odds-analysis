{
 "cells": [
  {
   "cell_type": "code",
   "execution_count": null,
   "metadata": {},
   "outputs": [],
   "source": [
    "import pandas as pd\n",
    "import os\n",
    "import plotly.express as px\n",
    "os.chdir(r'D:\\Projects\\football-odds-analysis')\n",
    "from utils.save_as_video import plotly_fig_to_video\n",
    "from utils.preprocess import preprocess_pipeline\n",
    "from utils.margins import get_avg_margin, get_avg_ballanced_unbalanced_margin\n",
    "from input_variables import DIVISIONS\n",
    "\n",
    "bookmakers_data = preprocess_pipeline('all_avail_games.csv')\n",
    "avg_margin_data = pd.DataFrame()\n",
    "\n",
    "for key in bookmakers_data.keys():\n",
    "    if key != 'AVG':\n",
    "        avg_margin_data = pd.concat([avg_margin_data, get_avg_margin(bookmakers_data[key],\n",
    "                                                                     key)], axis=0)\n",
    "    else:\n",
    "        avg_margin_data = pd.concat([avg_margin_data, get_avg_margin(bookmakers_data[key], \n",
    "                                                                     key, 'Avg_return_on_game')], axis=0)\n",
    "\n",
    "avg_margin_data = avg_margin_data.loc[:,~avg_margin_data.columns.duplicated()]\n",
    "avg_margin_data.columns = ['League', 'Year', 'Average Margin of Games', 'Bookmaker']\n",
    "avg_margin_data['League Name'] = avg_margin_data['League'].map(DIVISIONS)"
   ]
  },
  {
   "cell_type": "code",
   "execution_count": null,
   "metadata": {},
   "outputs": [],
   "source": [
    "fig = px.scatter(avg_margin_data, x=\"League Name\", y=\"Average Margin of Games\", animation_frame=\"Year\",\n",
    "                 color=\"Bookmaker\", range_y=[0.01,0.2])\n",
    "fig.update_traces(marker_size=10)\n",
    "fig.update_layout(\n",
    "    autosize=False,\n",
    "    width=900,\n",
    "    height=500,)\n",
    "fig"
   ]
  },
  {
   "cell_type": "code",
   "execution_count": null,
   "metadata": {},
   "outputs": [],
   "source": [
    "UNBALANCE_THRESHOLD = 0.8\n",
    "\n",
    "# Balanced Margins\n",
    "avg_margin_data_balanced = pd.DataFrame()\n",
    "for key in bookmakers_data.keys():\n",
    "    if key != 'AVG':\n",
    "        avg_margin_data_balanced = pd.concat([avg_margin_data_balanced, get_avg_ballanced_unbalanced_margin(bookmakers_data[key],\n",
    "                                                                                                            key, \n",
    "                                                                                                            'Balanced', \n",
    "                                                                                                            UNBALANCE_THRESHOLD)], axis=0)\n",
    "\n",
    "avg_margin_data_balanced = avg_margin_data_balanced.loc[:,~avg_margin_data_balanced.columns.duplicated()]\n",
    "avg_margin_data_balanced.columns = ['League', 'Year', 'Average Margin of Games With Balanced Probability', 'Bookmaker']\n",
    "avg_margin_data_balanced['League Name'] = avg_margin_data_balanced['League'].map(DIVISIONS)\n",
    "\n",
    "# Unbalanced Margins\n",
    "avg_margin_data_unbalanced = pd.DataFrame()\n",
    "for key in bookmakers_data.keys():\n",
    "    if key != 'AVG':\n",
    "        avg_margin_data_unbalanced = pd.concat([avg_margin_data_unbalanced, get_avg_ballanced_unbalanced_margin(bookmakers_data[key],\n",
    "                                                                                                                key, \n",
    "                                                                                                                'Unbalanced', \n",
    "                                                                                                                UNBALANCE_THRESHOLD)], axis=0)\n",
    "\n",
    "avg_margin_data_unbalanced = avg_margin_data_unbalanced.loc[:,~avg_margin_data_unbalanced.columns.duplicated()]\n",
    "avg_margin_data_unbalanced.columns = ['League', 'Year', 'Average Margin of Games With Unbalanced Probability', 'Bookmaker']\n",
    "avg_margin_data_unbalanced['League Name'] = avg_margin_data_unbalanced['League'].map(DIVISIONS)"
   ]
  },
  {
   "cell_type": "code",
   "execution_count": null,
   "metadata": {},
   "outputs": [],
   "source": [
    "fig = px.scatter(avg_margin_data_balanced, x=\"League Name\", y=\"Average Margin of Games With Balanced Probability\", animation_frame=\"Year\",\n",
    "                 color=\"Bookmaker\", range_y=[0.01,0.2])\n",
    "fig.update_traces(marker_size=10)\n",
    "fig.update_layout(\n",
    "    autosize=False,\n",
    "    width=900,\n",
    "    height=500,)\n",
    "fig"
   ]
  },
  {
   "cell_type": "code",
   "execution_count": null,
   "metadata": {},
   "outputs": [],
   "source": [
    "fig = px.scatter(avg_margin_data_unbalanced, x=\"League Name\", y=\"Average Margin of Games With Unbalanced Probability\", animation_frame=\"Year\",\n",
    "                 color=\"Bookmaker\", range_y=[0.01,0.2])\n",
    "fig.update_traces(marker_size=10)\n",
    "fig.update_layout(\n",
    "    autosize=False,\n",
    "    width=900,\n",
    "    height=500,)\n",
    "fig"
   ]
  },
  {
   "cell_type": "code",
   "execution_count": null,
   "metadata": {},
   "outputs": [],
   "source": []
  }
 ],
 "metadata": {
  "kernelspec": {
   "display_name": "env_agah",
   "language": "python",
   "name": "python3"
  },
  "language_info": {
   "codemirror_mode": {
    "name": "ipython",
    "version": 3
   },
   "file_extension": ".py",
   "mimetype": "text/x-python",
   "name": "python",
   "nbconvert_exporter": "python",
   "pygments_lexer": "ipython3",
   "version": "3.9.12"
  },
  "orig_nbformat": 4
 },
 "nbformat": 4,
 "nbformat_minor": 2
}
