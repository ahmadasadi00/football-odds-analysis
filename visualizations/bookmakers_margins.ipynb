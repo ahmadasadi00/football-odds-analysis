{
 "cells": [
  {
   "cell_type": "code",
   "execution_count": null,
   "metadata": {},
   "outputs": [],
   "source": [
    "import pandas as pd\n",
    "import os\n",
    "os.chdir(r'D:\\Projects\\football-odds-analysis')\n",
    "import plotly.express as px\n",
    "from utils.save_as_video import plotly_fig_to_video\n",
    "from utils.preprocess import preprocess_pipeline\n",
    "\n",
    "# Bookmakers list\n",
    "# Bet365\n",
    "# Bet&Win\n",
    "# Interwetten\n",
    "# William_Hill\n",
    "# VC_Bet\n",
    "\n",
    "Divisions = {\n",
    "    'E0': 'English Premier League',\n",
    "    'E1': 'Championship',\n",
    "    'E2': 'English League 1',\n",
    "    'E3': 'English League 2',\n",
    "    'EC': 'English Conference',\n",
    "    'D1': 'Bundesliga 1',\n",
    "    'D2': 'Bundesliga 2',\n",
    "    'I1': 'Serie A',\n",
    "    'I2': 'Serie B',\n",
    "    'SP1': 'La Liga Primera',\n",
    "    'SP2': 'La Liga Segunda',\n",
    "    'F1': 'Le Championnat',\n",
    "    'F2': 'France Division 2',\n",
    "    'N1': 'Netherlands',\n",
    "    'B1': 'Belgium',\n",
    "    'P1': 'Portugal',\n",
    "    'T1': 'Turkey',\n",
    "    'G1': 'Greece',\n",
    "}\n",
    "\n",
    "\n",
    "def get_avg_margin(bookmaker: pd.DataFrame, \n",
    "                   company_name: str,\n",
    "                   col_name: str = 'return_on_game') -> pd.DataFrame:\n",
    "    \"\"\"gets a bookmakers data and calulcates the average yearly margin og bookmaker over different leagues\n",
    "\n",
    "    Args:\n",
    "        bookmaker (pd.DataFramem): bookmakers data should include `Div`,`Date`, `return_on_game`\n",
    "        company_name (str): bookmaker's name\n",
    "        col_name (str, optional): column name for bookmaker's margin Defaults to 'return_on_game'.\n",
    "\n",
    "    Returns:\n",
    "        pd.DataFrame: average yearly margin og bookmaker over different leagues\n",
    "    \"\"\"\n",
    "    bookmaker['Date'] = pd.to_datetime(bookmaker['Date'])\n",
    "    bookmaker['Year'] = bookmaker['Date'].dt.year\n",
    "    avg_margin_div_yearly = bookmaker.groupby(['Div', 'Year']).apply(lambda r: r[col_name].mean())\n",
    "    avg_margin_div_yearly = avg_margin_div_yearly.reset_index()\n",
    "    avg_margin_div_yearly['Bookmaker'] = company_name\n",
    "    avg_margin_div_yearly.columns = ['Div', 'Year', 'average_margin', 'Bookmaker']\n",
    "    return avg_margin_div_yearly\n",
    "\n",
    "bookmakers_data = preprocess_pipeline('all_avail_games.csv')\n",
    "avg_margin_data = pd.DataFrame()\n",
    "\n",
    "for key in bookmakers_data.keys():\n",
    "    if key != 'AVG':\n",
    "        avg_margin_data = pd.concat([avg_margin_data, get_avg_margin(bookmakers_data[key],\n",
    "                                                                     key)], axis=0)\n",
    "    else:\n",
    "        avg_margin_data = pd.concat([avg_margin_data, get_avg_margin(bookmakers_data[key], \n",
    "                                                                     key, 'Avg_return_on_game')], axis=0)\n",
    "\n",
    "avg_margin_data = avg_margin_data.loc[:,~avg_margin_data.columns.duplicated()]\n",
    "avg_margin_data.columns = ['League', 'Year', 'Average Margin of Games', 'Bookmaker']\n",
    "avg_margin_data['League Name'] = avg_margin_data['League'].map(Divisions)"
   ]
  },
  {
   "cell_type": "markdown",
   "metadata": {},
   "source": [
    "The average margin of bookmakers per game in different years, leagues and companies "
   ]
  },
  {
   "cell_type": "code",
   "execution_count": null,
   "metadata": {},
   "outputs": [],
   "source": [
    "fig = px.scatter(avg_margin_data, x=\"League Name\", y=\"Average Margin of Games\", animation_frame=\"Year\",\n",
    "                 color=\"Bookmaker\", range_y=[0.01,0.2])\n",
    "fig.update_traces(marker_size=10)\n",
    "fig.update_layout(\n",
    "    autosize=False,\n",
    "    width=900,\n",
    "    height=500,)\n",
    "fig"
   ]
  },
  {
   "cell_type": "markdown",
   "metadata": {},
   "source": [
    "Is there a signifacant difference on margins of different companies in different years and leagues when the probablity of the game is heavily skewed (HomeTeam Win probability or AwayTeam Win probability is more than 80%)"
   ]
  },
  {
   "cell_type": "code",
   "execution_count": null,
   "metadata": {},
   "outputs": [],
   "source": []
  },
  {
   "cell_type": "markdown",
   "metadata": {},
   "source": []
  }
 ],
 "metadata": {
  "kernelspec": {
   "display_name": "env_agah",
   "language": "python",
   "name": "python3"
  },
  "language_info": {
   "codemirror_mode": {
    "name": "ipython",
    "version": 3
   },
   "file_extension": ".py",
   "mimetype": "text/x-python",
   "name": "python",
   "nbconvert_exporter": "python",
   "pygments_lexer": "ipython3",
   "version": "3.9.12"
  },
  "orig_nbformat": 4
 },
 "nbformat": 4,
 "nbformat_minor": 2
}
