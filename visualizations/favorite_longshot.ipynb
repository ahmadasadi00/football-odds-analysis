{
 "cells": [
  {
   "cell_type": "code",
   "execution_count": null,
   "metadata": {},
   "outputs": [],
   "source": [
    "import pandas as pd\n",
    "import os\n",
    "import numpy as np\n",
    "import tqdm\n",
    "import pickle\n",
    "import plotly.graph_objects as go\n",
    "import plotly.express as px\n",
    "import matplotlib.pyplot as plt\n",
    "import seaborn as sns\n",
    "sns.set_style(\"darkgrid\")\n",
    "os.chdir(r'D:\\Projects\\football-odds-analysis')\n",
    "from utils.preprocess import preprocess_odds_results, preprocess_pipeline\n",
    "from input_variables import COMPANY_BETS, CO_CODES\n",
    "from utils.bet_payout_engine import get_bet_results\n",
    "\n",
    "IS_FIRST_RUN = False\n",
    "N_CUTS_PROBABILITIES = 4\n",
    "\n",
    "bookmakers_data = preprocess_pipeline('all_avail_games.csv')\n",
    "odds_results_data = preprocess_odds_results('all_avail_games.csv')\n",
    "bookmakers_odds = odds_results_data['Odds']\n",
    "game_results = odds_results_data['Results']\n",
    "\n",
    "if IS_FIRST_RUN:\n",
    "    bookmakers_deciles = bookmakers_data['Bet365'][['Unique_ID', 'Date', 'Div']].dropna()\n",
    "    bookmakers_deciles.set_index('Unique_ID', drop=True, inplace=True)\n",
    "    bookmakers_deciles['Date'] = pd.to_datetime(bookmakers_deciles['Date'])\n",
    "    bookmakers_deciles['Year'] = bookmakers_deciles['Date'].dt.year\n",
    "    intervals = np.linspace(0, 1, N_CUTS_PROBABILITIES+1)\n",
    "    deciles_returns = {}\n",
    "    for d in range(N_CUTS_PROBABILITIES):\n",
    "        deciles_returns[d] = []\n",
    "    \n",
    "    for c in COMPANY_BETS:\n",
    "        bookmakers_deciles[c] = pd.cut((1/bookmakers_odds[c]), intervals, labels=False)\n",
    "\n",
    "    for game in tqdm.tqdm(bookmakers_odds.index):\n",
    "        for c in COMPANY_BETS:\n",
    "            decile = bookmakers_deciles.loc[game, c]\n",
    "            year = bookmakers_deciles.loc[game, 'Year']\n",
    "            div = bookmakers_deciles.loc[game, 'Div']\n",
    "            bet = c[-1]\n",
    "            company = CO_CODES[c[:-1]]\n",
    "            deciles_returns[decile].append([game,year,div, get_bet_results(bookmakers_data, game, bet, company, 1) - 1])\n",
    "\n",
    "    with open('deciles_returns.pickle', 'wb') as handle:\n",
    "        pickle.dump(deciles_returns, handle, protocol=pickle.HIGHEST_PROTOCOL)\n",
    "else:\n",
    "    with open('deciles_returns.pickle', 'rb') as handle:\n",
    "        deciles_returns = pickle.load(handle)\n",
    "\n",
    "for key in deciles_returns.keys():\n",
    "    decile_df = pd.DataFrame(deciles_returns[key])\n",
    "    decile_df.columns = ['game_id', 'year', 'div', 'return']\n",
    "    decile_df.set_index('game_id', drop=True, inplace=True)\n",
    "    deciles_returns[key] = decile_df\n"
   ]
  },
  {
   "cell_type": "code",
   "execution_count": null,
   "metadata": {},
   "outputs": [],
   "source": [
    "N_Bets = pd.DataFrame(index=[f'Decile {s}' for s in range(N_CUTS_PROBABILITIES)], columns=['Number of Bets'])\n",
    "for n in range(N_CUTS_PROBABILITIES):\n",
    "    N_Bets.loc[f'Decile {n}', 'Number of Bets'] = len(deciles_returns[n])\n",
    "\n",
    "fig = go.Figure(data=[go.Bar(x=N_Bets.index, y=N_Bets['Number of Bets'])])\n",
    "fig.update_traces(marker_color='rgb(1, 36, 92)', marker_line_color='rgb(1, 36, 92)', opacity=0.8)\n",
    "fig.update_layout(title_text='Number of bets in each deciles')\n",
    "fig.update_xaxes(tickmode='linear')\n",
    "fig.show()"
   ]
  },
  {
   "cell_type": "code",
   "execution_count": null,
   "metadata": {},
   "outputs": [],
   "source": [
    "decile_year_ret = pd.DataFrame()\n",
    "for dec in deciles_returns.keys():\n",
    "    decile_year_ret[dec] = deciles_returns[dec].groupby('year').apply(lambda r: r['return'].mean())\n",
    "decile_year_ret.columns = [f'Decile {s} Avergae Return' for s in range(N_CUTS_PROBABILITIES)]\n",
    "fig = px.line(decile_year_ret)\n",
    "fig"
   ]
  }
 ],
 "metadata": {
  "kernelspec": {
   "display_name": "env_agah",
   "language": "python",
   "name": "python3"
  },
  "language_info": {
   "codemirror_mode": {
    "name": "ipython",
    "version": 3
   },
   "file_extension": ".py",
   "mimetype": "text/x-python",
   "name": "python",
   "nbconvert_exporter": "python",
   "pygments_lexer": "ipython3",
   "version": "3.9.12"
  },
  "orig_nbformat": 4
 },
 "nbformat": 4,
 "nbformat_minor": 2
}
