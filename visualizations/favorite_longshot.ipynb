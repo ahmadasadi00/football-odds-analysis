{
 "cells": [
  {
   "cell_type": "code",
   "execution_count": null,
   "metadata": {},
   "outputs": [],
   "source": [
    "import pandas as pd\n",
    "import os\n",
    "import numpy as np\n",
    "import tqdm\n",
    "os.chdir(r'D:\\Projects\\football-odds-analysis')\n",
    "from utils.preprocess import preprocess_odds_results, preprocess_pipeline\n",
    "from input_variables import COMPANY_BETS, CO_CODES\n",
    "from utils.bet_payout_engine import get_bet_results\n",
    "\n",
    "N_CUTS_PROBABILITIES = 10\n",
    "intervals = np.linspace(0, 1, N_CUTS_PROBABILITIES+1)\n",
    "deciles_returns = {}\n",
    "\n",
    "for d in range(N_CUTS_PROBABILITIES):\n",
    "    deciles_returns[d] = []\n",
    "\n",
    "bookmakers_data = preprocess_pipeline('all_avail_games.csv')\n",
    "odds_results_data = preprocess_odds_results('all_avail_games.csv')\n",
    "bookmakers_odds = odds_results_data['Odds']\n",
    "bookmakers_deciles = pd.DataFrame()\n",
    "game_results = odds_results_data['Results']\n",
    "\n",
    "for c in COMPANY_BETS:\n",
    "    bookmakers_deciles[c] = pd.cut((1/bookmakers_odds[c]), intervals, labels=False)\n",
    "\n",
    "for game in tqdm.tqdm(bookmakers_odds.index):\n",
    "    for c in COMPANY_BETS:\n",
    "        decile = bookmakers_deciles.loc[game, c]\n",
    "        bet = c[-1]\n",
    "        company = CO_CODES[c[:-1]]\n",
    "        deciles_returns[decile].append(get_bet_results(bookmakers_data, game, bet, company, 1) - 1)"
   ]
  },
  {
   "cell_type": "code",
   "execution_count": null,
   "metadata": {},
   "outputs": [],
   "source": []
  },
  {
   "cell_type": "code",
   "execution_count": null,
   "metadata": {},
   "outputs": [],
   "source": []
  }
 ],
 "metadata": {
  "kernelspec": {
   "display_name": "env_agah",
   "language": "python",
   "name": "python3"
  },
  "language_info": {
   "codemirror_mode": {
    "name": "ipython",
    "version": 3
   },
   "file_extension": ".py",
   "mimetype": "text/x-python",
   "name": "python",
   "nbconvert_exporter": "python",
   "pygments_lexer": "ipython3",
   "version": "3.9.12"
  },
  "orig_nbformat": 4
 },
 "nbformat": 4,
 "nbformat_minor": 2
}
