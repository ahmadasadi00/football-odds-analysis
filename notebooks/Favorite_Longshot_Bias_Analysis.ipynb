{
 "cells": [
  {
   "cell_type": "code",
   "execution_count": null,
   "metadata": {},
   "outputs": [],
   "source": [
    "import pandas as pd\n",
    "import os\n",
    "os.chdir(r'D:\\Projects\\football-odds-analysis')\n",
    "from utils.preprocess import preprocess_pipeline, preprocess_odds_results\n",
    "from utils.favorite_longshot import get_favorite_bets, get_longshot_bets\n",
    "\n",
    "odds_results_data = preprocess_odds_results('all_avail_games.csv')\n",
    "bookmakers_data = preprocess_pipeline('all_avail_games.csv')\n",
    "\n",
    "bookmakers_odds = odds_results_data['Odds']\n",
    "game_results = odds_results_data['Results']\n",
    "\n",
    "favorite_bets = get_favorite_bets(bookmakers_odds, 0.85)\n",
    "longshot_bets = get_longshot_bets(bookmakers_odds, 0.1)"
   ]
  },
  {
   "cell_type": "code",
   "execution_count": null,
   "metadata": {},
   "outputs": [],
   "source": []
  }
 ],
 "metadata": {
  "kernelspec": {
   "display_name": "env_agah",
   "language": "python",
   "name": "python3"
  },
  "language_info": {
   "codemirror_mode": {
    "name": "ipython",
    "version": 3
   },
   "file_extension": ".py",
   "mimetype": "text/x-python",
   "name": "python",
   "nbconvert_exporter": "python",
   "pygments_lexer": "ipython3",
   "version": "3.9.12"
  },
  "orig_nbformat": 4
 },
 "nbformat": 4,
 "nbformat_minor": 2
}
