{
 "cells": [
  {
   "cell_type": "code",
   "execution_count": null,
   "metadata": {},
   "outputs": [],
   "source": [
    "import pandas as pd\n",
    "import os\n",
    "import tqdm\n",
    "import plotly.express as px\n",
    "import numpy as np\n",
    "os.chdir(r'D:\\Projects\\football-odds-analysis')\n",
    "from utils.preprocess import preprocess_pipeline, preprocess_odds_results\n",
    "from utils.favorite_longshot import get_favorite_bets, get_longshot_bets\n",
    "from utils.bet_payout_engine import get_bet_results\n",
    "from input_variables import CO_CODES\n",
    "\n",
    "PORTFOLIO_STARTING_CASH = 1000\n",
    "START_DATE = '2005-01-01'\n",
    "FAVORITE_PROBABILITY_THRESHOLD = 0.98\n",
    "LONGSHOT_PROBABILITY_THRESHOLD = 0.1\n",
    "MAX_EXPOSURE_PER_DAY = 0.05\n",
    "\n",
    "odds_results_data = preprocess_odds_results('all_avail_games.csv')\n",
    "bookmakers_data = preprocess_pipeline('all_avail_games.csv')\n",
    "\n",
    "bookmakers_odds = odds_results_data['Odds']\n",
    "game_results = odds_results_data['Results']\n",
    "\n",
    "favorite_bets = get_favorite_bets(bookmakers_odds, FAVORITE_PROBABILITY_THRESHOLD)\n",
    "longshot_bets = get_longshot_bets(bookmakers_odds, LONGSHOT_PROBABILITY_THRESHOLD)"
   ]
  },
  {
   "cell_type": "markdown",
   "metadata": {},
   "source": [
    "## Favorite Bets"
   ]
  },
  {
   "cell_type": "code",
   "execution_count": null,
   "metadata": {},
   "outputs": [],
   "source": [
    "all_games_dates = game_results['Date'][game_results['Date'] > START_DATE].sort_values().unique()\n",
    "favorite_portfolio_value = {all_games_dates[0]: PORTFOLIO_STARTING_CASH}\n",
    "\n",
    "for i, date in tqdm.tqdm(enumerate(all_games_dates)):\n",
    "    if i == 0:\n",
    "        continue\n",
    "    todays_portfolio_value = favorite_portfolio_value[all_games_dates[i-1]]\n",
    "    dates_games = game_results[game_results['Date'] == date]\n",
    "    dates_games_signals = dates_games[dates_games.index.isin(list(favorite_bets.keys()))]\n",
    "    \n",
    "    if len(dates_games_signals) > 0:\n",
    "        per_set_cash = (todays_portfolio_value * MAX_EXPOSURE_PER_DAY)/len(dates_games_signals)\n",
    "        game_payout = todays_portfolio_value - (per_set_cash)*len(dates_games_signals)\n",
    "        for game in dates_games_signals.index:\n",
    "            bet = favorite_bets[game]\n",
    "            company = bet[:-1]\n",
    "            bet_side = bet[-1]\n",
    "            bet_payoff = get_bet_results(bookmakers_data, game, bet_side, CO_CODES[company], per_set_cash)\n",
    "            game_payout = game_payout + bet_payoff\n",
    "        \n",
    "        favorite_portfolio_value[date] = game_payout\n",
    "        continue\n",
    "    favorite_portfolio_value[date] = todays_portfolio_value\n",
    "\n",
    "portfolio = pd.DataFrame.from_dict([favorite_portfolio_value]).T\n",
    "portfolio = portfolio.sort_index()\n",
    "portfolio.columns = ['Betting_Portfolio_Value']"
   ]
  },
  {
   "cell_type": "code",
   "execution_count": null,
   "metadata": {},
   "outputs": [],
   "source": [
    "fig = px.line(x = portfolio.index ,\n",
    "              y = portfolio['Betting_Portfolio_Value'],\n",
    "              title = f'Cumulative Value of Favorite Betting Strategy Starting with {str(int(PORTFOLIO_STARTING_CASH))}$')\n",
    "fig.show()"
   ]
  },
  {
   "cell_type": "markdown",
   "metadata": {},
   "source": [
    "## Longshot Bets"
   ]
  },
  {
   "cell_type": "code",
   "execution_count": null,
   "metadata": {},
   "outputs": [],
   "source": [
    "all_games_dates = game_results['Date'][game_results['Date'] > START_DATE].sort_values().unique()\n",
    "longshot_portfolio_value = {all_games_dates[0]: PORTFOLIO_STARTING_CASH}\n",
    "\n",
    "for i, date in tqdm.tqdm(enumerate(all_games_dates)):\n",
    "    if i == 0:\n",
    "        continue\n",
    "    todays_portfolio_value = longshot_portfolio_value[all_games_dates[i-1]]\n",
    "    dates_games = game_results[game_results['Date'] == date]\n",
    "    dates_games_signals = dates_games[dates_games.index.isin(list(longshot_bets.keys()))]\n",
    "    \n",
    "    if len(dates_games_signals) > 0:\n",
    "        per_set_cash = (todays_portfolio_value * MAX_EXPOSURE_PER_DAY)/len(dates_games_signals)\n",
    "        game_payout = todays_portfolio_value - (per_set_cash)*len(dates_games_signals)\n",
    "        for game in dates_games_signals.index:\n",
    "            bet = longshot_bets[game]\n",
    "            company = bet[:-1]\n",
    "            bet_side = bet[-1]\n",
    "            bet_payoff = get_bet_results(bookmakers_data, game, bet_side, CO_CODES[company], per_set_cash)\n",
    "            game_payout = game_payout + bet_payoff\n",
    "        \n",
    "        longshot_portfolio_value[date] = game_payout\n",
    "        continue\n",
    "    longshot_portfolio_value[date] = todays_portfolio_value\n",
    "\n",
    "portfolio = pd.DataFrame.from_dict([longshot_portfolio_value]).T\n",
    "portfolio = portfolio.sort_index()\n",
    "portfolio.columns = ['Betting_Portfolio_Value']"
   ]
  },
  {
   "cell_type": "code",
   "execution_count": null,
   "metadata": {},
   "outputs": [],
   "source": [
    "fig = px.line(x = portfolio.index ,\n",
    "              y = portfolio['Betting_Portfolio_Value'],\n",
    "              title = f'Cumulative Value of Longshot Betting Strategy Starting with {str(int(PORTFOLIO_STARTING_CASH))}$')\n",
    "fig.show()"
   ]
  }
 ],
 "metadata": {
  "kernelspec": {
   "display_name": "env_agah",
   "language": "python",
   "name": "python3"
  },
  "language_info": {
   "codemirror_mode": {
    "name": "ipython",
    "version": 3
   },
   "file_extension": ".py",
   "mimetype": "text/x-python",
   "name": "python",
   "nbconvert_exporter": "python",
   "pygments_lexer": "ipython3",
   "version": "3.9.12"
  },
  "orig_nbformat": 4
 },
 "nbformat": 4,
 "nbformat_minor": 2
}
