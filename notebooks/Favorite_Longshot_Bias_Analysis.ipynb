{
 "cells": [
  {
   "cell_type": "code",
   "execution_count": null,
   "metadata": {},
   "outputs": [],
   "source": [
    "import pandas as pd\n",
    "import os\n",
    "os.chdir(r'D:\\Projects\\football-odds-analysis')\n",
    "from utils.preprocess import preprocess_pipeline, preprocess_odds_results\n",
    "from utils.favorite_longshot import get_favorite_bets, get_longshot_bets\n",
    "\n",
    "odds_results_data = preprocess_odds_results('all_avail_games.csv')\n",
    "bookmakers_data = preprocess_pipeline('all_avail_games.csv')\n",
    "\n",
    "bookmakers_odds = odds_results_data['Odds']\n",
    "game_results = odds_results_data['Results']\n",
    "\n",
    "favorite_bets = get_favorite_bets(bookmakers_odds, 0.85)\n",
    "longshot_bets = get_longshot_bets(bookmakers_odds, 0.1)"
   ]
  },
  {
   "cell_type": "markdown",
   "metadata": {},
   "source": [
    "## Betting Returns and Analysis and comparison to SP500 SPY ETF returns\n",
    "\n",
    "For downloading the data please look at https://finance.yahoo.com/quote/SPY/history?period1=728265600&period2=1691280000&interval=1d&filter=history&frequency=1d&includeAdjustedClose=true"
   ]
  },
  {
   "cell_type": "code",
   "execution_count": null,
   "metadata": {},
   "outputs": [],
   "source": [
    "# spy_price = pd.read_csv('SPY.csv', index_col=0)\n",
    "# spy_price.index = pd.to_datetime(spy_price.index)\n",
    "# portfolio.index = pd.to_datetime(portfolio.index)\n",
    "# spy_price['ret'] = spy_price['Close'].pct_change()\n",
    "# spy_price = spy_price.dropna()\n",
    "# spy_price = spy_price.loc[START_DATE:]\n",
    "# spy_price['SP500_Portfolio_Value'] = PORTFOLIO_STARTING_CASH * np.cumprod(1 + spy_price['ret'])\n",
    "# portfolio = portfolio.merge(spy_price[['SP500_Portfolio_Value']], left_index=True, right_index=True, how='left')\n",
    "# portfolio = portfolio.ffill()\n",
    "# portfolio.head()\n",
    "# portfolio['Betting_Return'] = portfolio['Betting_Portfolio_Value'].pct_change()\n",
    "# portfolio['SP500_Return'] = portfolio['SP500_Portfolio_Value'].pct_change()"
   ]
  }
 ],
 "metadata": {
  "kernelspec": {
   "display_name": "env_agah",
   "language": "python",
   "name": "python3"
  },
  "language_info": {
   "codemirror_mode": {
    "name": "ipython",
    "version": 3
   },
   "file_extension": ".py",
   "mimetype": "text/x-python",
   "name": "python",
   "nbconvert_exporter": "python",
   "pygments_lexer": "ipython3",
   "version": "3.9.12"
  },
  "orig_nbformat": 4
 },
 "nbformat": 4,
 "nbformat_minor": 2
}
