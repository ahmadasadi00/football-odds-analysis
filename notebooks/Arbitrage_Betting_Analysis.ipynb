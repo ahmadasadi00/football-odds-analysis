{
 "cells": [
  {
   "cell_type": "code",
   "execution_count": null,
   "metadata": {},
   "outputs": [],
   "source": [
    "import pandas as pd\n",
    "import os\n",
    "import tqdm\n",
    "import plotly.express as px\n",
    "import numpy as np\n",
    "os.chdir(r'D:\\Projects\\football-odds-analysis')\n",
    "from utils.preprocess import preprocess_odds_results, preprocess_pipeline\n",
    "from utils.arbitrage import get_arbitrage_bets\n",
    "from utils.bet_payout_engine import get_bet_results\n",
    "from input_variables import CO_CODES\n",
    "\n",
    "PORTFOLIO_STARTING_CASH = 1000\n",
    "START_DATE = '2018-01-01'\n",
    "PROBABILITY_THRESHOLD = 0.98\n",
    "\n",
    "odds_results_data = preprocess_odds_results('all_avail_games.csv')\n",
    "bookmakers_data = preprocess_pipeline('all_avail_games.csv')\n",
    "\n",
    "bookmakers_odds = odds_results_data['Odds']\n",
    "game_results = odds_results_data['Results']\n",
    "\n",
    "arbitrage_bets = get_arbitrage_bets(bookmakers_odds, PROBABILITY_THRESHOLD)"
   ]
  },
  {
   "cell_type": "code",
   "execution_count": null,
   "metadata": {},
   "outputs": [],
   "source": [
    "all_games_dates = game_results['Date'][game_results['Date'] > START_DATE].sort_values().unique()\n",
    "portfolio_value = {all_games_dates[0]: PORTFOLIO_STARTING_CASH}\n",
    "\n",
    "for i, date in tqdm.tqdm(enumerate(all_games_dates)):\n",
    "    if i == 0:\n",
    "        continue\n",
    "    todays_portfolio_value = portfolio_value[all_games_dates[i-1]]\n",
    "    dates_games = game_results[game_results['Date'] == date]\n",
    "    dates_games_signals = dates_games[dates_games.index.isin(list(arbitrage_bets.keys()))]\n",
    "    \n",
    "    if len(dates_games_signals) > 0:\n",
    "        per_set_cash = todays_portfolio_value/len(dates_games_signals)\n",
    "        game_payout = 0\n",
    "        for game in dates_games_signals.index:\n",
    "            bets = arbitrage_bets[game]\n",
    "            for cb in bets[0]:\n",
    "                company = cb[:-1]\n",
    "                bet_side = cb[-1]\n",
    "                bet_payoff = get_bet_results(bookmakers_data, game, bet_side, CO_CODES[company], per_set_cash * (bets[1][bet_side]))\n",
    "                game_payout = game_payout + bet_payoff\n",
    "        \n",
    "        portfolio_value[date] = game_payout\n",
    "        continue\n",
    "    portfolio_value[date] = todays_portfolio_value\n",
    "\n",
    "portfolio = pd.DataFrame.from_dict([portfolio_value]).T\n",
    "portfolio = portfolio.sort_index()\n",
    "portfolio.columns = ['Betting_Portfolio_Value']"
   ]
  },
  {
   "cell_type": "code",
   "execution_count": null,
   "metadata": {},
   "outputs": [],
   "source": [
    "fig = px.line(x = portfolio.index ,\n",
    "              y = portfolio['Betting_Portfolio_Value'],\n",
    "              title = f'Cumulative Value of Betting Strategy Starting with {str(int(PORTFOLIO_STARTING_CASH))}$')\n",
    "fig.show()"
   ]
  },
  {
   "cell_type": "code",
   "execution_count": null,
   "metadata": {},
   "outputs": [],
   "source": [
    "fig = px.line(x = portfolio.index ,\n",
    "              y = np.log(portfolio['Betting_Portfolio_Value']),\n",
    "              title = f'Log of Cumulative Value of Betting Strategy Starting with {str(int(PORTFOLIO_STARTING_CASH))}$')\n",
    "fig.show()"
   ]
  }
 ],
 "metadata": {
  "kernelspec": {
   "display_name": "env_agah",
   "language": "python",
   "name": "python3"
  },
  "language_info": {
   "codemirror_mode": {
    "name": "ipython",
    "version": 3
   },
   "file_extension": ".py",
   "mimetype": "text/x-python",
   "name": "python",
   "nbconvert_exporter": "python",
   "pygments_lexer": "ipython3",
   "version": "3.9.12"
  },
  "orig_nbformat": 4
 },
 "nbformat": 4,
 "nbformat_minor": 2
}
