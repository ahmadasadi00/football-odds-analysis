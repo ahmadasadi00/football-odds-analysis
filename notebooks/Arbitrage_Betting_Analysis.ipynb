{
 "cells": [
  {
   "cell_type": "code",
   "execution_count": null,
   "metadata": {},
   "outputs": [],
   "source": [
    "import pandas as pd\n",
    "import os\n",
    "os.chdir(r'D:\\Projects\\football-odds-analysis')\n",
    "from utils.preprocess import preprocess_odds_results, preprocess_pipeline\n",
    "from utils.arbitrage import get_arbitrage_bets\n",
    "\n",
    "odds_results_data = preprocess_odds_results('all_avail_games.csv')\n",
    "bookmakers_data = preprocess_pipeline('all_avail_games.csv')\n",
    "\n",
    "bookmakers_odds = odds_results_data['Odds']\n",
    "game_results = odds_results_data['Results']\n",
    "\n",
    "arbitrage_bets = get_arbitrage_bets(bookmakers_odds, 0.98)"
   ]
  },
  {
   "cell_type": "code",
   "execution_count": null,
   "metadata": {},
   "outputs": [],
   "source": [
    "for game in arbitrage_bets.keys():\n",
    "    print(arbitrage_bets[game], bookmakers_data['AVG'][bookmakers_data['AVG']['Unique_ID'] == game].Date)"
   ]
  },
  {
   "cell_type": "code",
   "execution_count": null,
   "metadata": {},
   "outputs": [],
   "source": []
  }
 ],
 "metadata": {
  "kernelspec": {
   "display_name": "env_agah",
   "language": "python",
   "name": "python3"
  },
  "language_info": {
   "codemirror_mode": {
    "name": "ipython",
    "version": 3
   },
   "file_extension": ".py",
   "mimetype": "text/x-python",
   "name": "python",
   "nbconvert_exporter": "python",
   "pygments_lexer": "ipython3",
   "version": "3.9.12"
  },
  "orig_nbformat": 4
 },
 "nbformat": 4,
 "nbformat_minor": 2
}
