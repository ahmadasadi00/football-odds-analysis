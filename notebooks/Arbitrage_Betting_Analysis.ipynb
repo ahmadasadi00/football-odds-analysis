{
 "cells": [
  {
   "cell_type": "code",
   "execution_count": null,
   "metadata": {},
   "outputs": [],
   "source": [
    "import pandas as pd\n",
    "import os\n",
    "os.chdir(r'D:\\Projects\\football-odds-analysis')\n",
    "from utils.preprocess import preprocess_pipeline\n",
    "\n",
    "bookmakers_data = preprocess_pipeline('all_avail_games.csv')"
   ]
  }
 ],
 "metadata": {
  "kernelspec": {
   "display_name": "env_agah",
   "language": "python",
   "name": "python3"
  },
  "language_info": {
   "name": "python",
   "version": "3.9.12"
  },
  "orig_nbformat": 4
 },
 "nbformat": 4,
 "nbformat_minor": 2
}
